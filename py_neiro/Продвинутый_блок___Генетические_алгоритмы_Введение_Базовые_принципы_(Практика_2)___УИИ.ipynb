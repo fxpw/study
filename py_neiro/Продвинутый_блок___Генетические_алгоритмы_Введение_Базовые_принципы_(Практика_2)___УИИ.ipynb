{
  "nbformat": 4,
  "nbformat_minor": 0,
  "metadata": {
    "colab": {
      "provenance": []
    },
    "kernelspec": {
      "name": "python3",
      "display_name": "Python 3"
    },
    "language_info": {
      "name": "python"
    }
  },
  "cells": [
    {
      "cell_type": "markdown",
      "metadata": {
        "id": "ujNe4uAVXAV_"
      },
      "source": [
        "**Содержание**:\n",
        "\n",
        "1. [Теория](https://colab.research.google.com/drive/1pMqzLFl-moKOQVb113-OB8W4pp7wLSQg?usp=sharing)\n",
        "2. [Практический ноутбук 1](https://colab.research.google.com/drive/1lxksinATGNYlSFbs4ly3jauCDd6voGwF?usp=sharing)\n",
        "2. Практический ноутбук 2"
      ]
    },
    {
      "cell_type": "markdown",
      "metadata": {
        "id": "SRLAnN-wrqbp"
      },
      "source": [
        "# Задача - симуляция посадки ракеты"
      ]
    },
    {
      "cell_type": "markdown",
      "metadata": {
        "id": "NIU-znxA7Q82"
      },
      "source": [
        "Один из вариантов применения генетического алгоритма  - управление посадкой ракеты из библиотеки OpenAI.\n",
        "\n",
        "Для начала необходимо установить окружение."
      ]
    },
    {
      "cell_type": "markdown",
      "metadata": {
        "id": "yUwj_Vsa_Dxi"
      },
      "source": [
        "## Настройка окружения Colab\n",
        "\n",
        "Движок box2d, на котором будет происходить симуляция посадки корабля рассчитан на работу, в первую очередь, в консоли, поэтому необходимо предварительно настроить среду\n",
        "\n",
        "Загрузка требует около `2 минут`"
      ]
    },
    {
      "cell_type": "markdown",
      "metadata": {
        "id": "H0Fh7FmN1IyX"
      },
      "source": [
        "Будем обращаться к линукс-ядру напрямую с помощью команд на \"!\"\n",
        "\n",
        "Будем устанавливать окружение из пакета Stable Baseline для OpenAI (для того, чтобы можно было использовать движок в колабе)\n",
        "\n",
        "Код, представленный в документации разработчика"
      ]
    },
    {
      "cell_type": "code",
      "metadata": {
        "colab": {
          "base_uri": "https://localhost:8080/"
        },
        "id": "CYQAnAIj1MvG",
        "outputId": "3f51f909-c7ce-45ed-91d8-323ffa1e0f40"
      },
      "source": [
        "# cmake - сборка - аналог GNU Make, но с другим синтаксисом,\n",
        "# libopenmpi-dev распределённые вычисления в кластере для дебиан, zlib1g-dev - сжатие траффика\n",
        "!apt install swig cmake libopenmpi-dev zlib1g-dev\n",
        "\n",
        "# устанавливаем непосредственно сам stable baseline и движок box2d\n",
        "!pip install stable-baselines==2.5.1 box2d-py box2d-kengz"
      ],
      "execution_count": null,
      "outputs": [
        {
          "output_type": "stream",
          "name": "stdout",
          "text": [
            "Reading package lists... Done\n",
            "Building dependency tree... Done\n",
            "Reading state information... Done\n",
            "libopenmpi-dev is already the newest version (4.1.2-2ubuntu1).\n",
            "cmake is already the newest version (3.22.1-1ubuntu1.22.04.1).\n",
            "zlib1g-dev is already the newest version (1:1.2.11.dfsg-2ubuntu9.2).\n",
            "zlib1g-dev set to manually installed.\n",
            "The following additional packages will be installed:\n",
            "  swig4.0\n",
            "Suggested packages:\n",
            "  swig-doc swig-examples swig4.0-examples swig4.0-doc\n",
            "The following NEW packages will be installed:\n",
            "  swig swig4.0\n",
            "0 upgraded, 2 newly installed, 0 to remove and 15 not upgraded.\n",
            "Need to get 1,116 kB of archives.\n",
            "After this operation, 5,542 kB of additional disk space will be used.\n",
            "Get:1 http://archive.ubuntu.com/ubuntu jammy/universe amd64 swig4.0 amd64 4.0.2-1ubuntu1 [1,110 kB]\n",
            "Get:2 http://archive.ubuntu.com/ubuntu jammy/universe amd64 swig all 4.0.2-1ubuntu1 [5,632 B]\n",
            "Fetched 1,116 kB in 1s (912 kB/s)\n",
            "Selecting previously unselected package swig4.0.\n",
            "(Reading database ... 120882 files and directories currently installed.)\n",
            "Preparing to unpack .../swig4.0_4.0.2-1ubuntu1_amd64.deb ...\n",
            "Unpacking swig4.0 (4.0.2-1ubuntu1) ...\n",
            "Selecting previously unselected package swig.\n",
            "Preparing to unpack .../swig_4.0.2-1ubuntu1_all.deb ...\n",
            "Unpacking swig (4.0.2-1ubuntu1) ...\n",
            "Setting up swig4.0 (4.0.2-1ubuntu1) ...\n",
            "Setting up swig (4.0.2-1ubuntu1) ...\n",
            "Processing triggers for man-db (2.10.2-1) ...\n",
            "Collecting stable-baselines==2.5.1\n",
            "  Downloading stable_baselines-2.5.1-py3-none-any.whl (240 kB)\n",
            "\u001b[2K     \u001b[90m━━━━━━━━━━━━━━━━━━━━━━━━━━━━━━━━━━━━━━━━\u001b[0m \u001b[32m240.5/240.5 kB\u001b[0m \u001b[31m1.7 MB/s\u001b[0m eta \u001b[36m0:00:00\u001b[0m\n",
            "\u001b[?25hCollecting box2d-py\n",
            "  Downloading box2d-py-2.3.8.tar.gz (374 kB)\n",
            "\u001b[2K     \u001b[90m━━━━━━━━━━━━━━━━━━━━━━━━━━━━━━━━━━━━━━━━\u001b[0m \u001b[32m374.5/374.5 kB\u001b[0m \u001b[31m7.5 MB/s\u001b[0m eta \u001b[36m0:00:00\u001b[0m\n",
            "\u001b[?25h  Preparing metadata (setup.py) ... \u001b[?25l\u001b[?25hdone\n",
            "Collecting box2d-kengz\n",
            "  Downloading Box2D-kengz-2.3.3.tar.gz (425 kB)\n",
            "\u001b[2K     \u001b[90m━━━━━━━━━━━━━━━━━━━━━━━━━━━━━━━━━━━━━━━━\u001b[0m \u001b[32m425.4/425.4 kB\u001b[0m \u001b[31m27.3 MB/s\u001b[0m eta \u001b[36m0:00:00\u001b[0m\n",
            "\u001b[?25h  Preparing metadata (setup.py) ... \u001b[?25l\u001b[?25hdone\n",
            "Requirement already satisfied: gym[atari,classic_control]>=0.10.9 in /usr/local/lib/python3.10/dist-packages (from stable-baselines==2.5.1) (0.25.2)\n",
            "Requirement already satisfied: scipy in /usr/local/lib/python3.10/dist-packages (from stable-baselines==2.5.1) (1.11.4)\n",
            "Requirement already satisfied: tqdm in /usr/local/lib/python3.10/dist-packages (from stable-baselines==2.5.1) (4.66.1)\n",
            "Requirement already satisfied: joblib in /usr/local/lib/python3.10/dist-packages (from stable-baselines==2.5.1) (1.3.2)\n",
            "Collecting zmq (from stable-baselines==2.5.1)\n",
            "  Downloading zmq-0.0.0.zip (2.2 kB)\n",
            "  Preparing metadata (setup.py) ... \u001b[?25l\u001b[?25hdone\n",
            "Collecting dill (from stable-baselines==2.5.1)\n",
            "  Downloading dill-0.3.7-py3-none-any.whl (115 kB)\n",
            "\u001b[2K     \u001b[90m━━━━━━━━━━━━━━━━━━━━━━━━━━━━━━━━━━━━━━━━\u001b[0m \u001b[32m115.3/115.3 kB\u001b[0m \u001b[31m16.0 MB/s\u001b[0m eta \u001b[36m0:00:00\u001b[0m\n",
            "\u001b[?25hCollecting mpi4py (from stable-baselines==2.5.1)\n",
            "  Downloading mpi4py-3.1.5.tar.gz (2.5 MB)\n",
            "\u001b[2K     \u001b[90m━━━━━━━━━━━━━━━━━━━━━━━━━━━━━━━━━━━━━━━━\u001b[0m \u001b[32m2.5/2.5 MB\u001b[0m \u001b[31m29.1 MB/s\u001b[0m eta \u001b[36m0:00:00\u001b[0m\n",
            "\u001b[?25h  Installing build dependencies ... \u001b[?25l\u001b[?25hdone\n",
            "  Getting requirements to build wheel ... \u001b[?25l\u001b[?25hdone\n",
            "  Preparing metadata (pyproject.toml) ... \u001b[?25l\u001b[?25hdone\n",
            "Requirement already satisfied: cloudpickle>=0.5.5 in /usr/local/lib/python3.10/dist-packages (from stable-baselines==2.5.1) (2.2.1)\n",
            "Requirement already satisfied: click in /usr/local/lib/python3.10/dist-packages (from stable-baselines==2.5.1) (8.1.7)\n",
            "Requirement already satisfied: opencv-python in /usr/local/lib/python3.10/dist-packages (from stable-baselines==2.5.1) (4.8.0.76)\n",
            "Requirement already satisfied: numpy in /usr/local/lib/python3.10/dist-packages (from stable-baselines==2.5.1) (1.23.5)\n",
            "Requirement already satisfied: pandas in /usr/local/lib/python3.10/dist-packages (from stable-baselines==2.5.1) (1.5.3)\n",
            "Requirement already satisfied: matplotlib in /usr/local/lib/python3.10/dist-packages (from stable-baselines==2.5.1) (3.7.1)\n",
            "Requirement already satisfied: seaborn in /usr/local/lib/python3.10/dist-packages (from stable-baselines==2.5.1) (0.12.2)\n",
            "Requirement already satisfied: glob2 in /usr/local/lib/python3.10/dist-packages (from stable-baselines==2.5.1) (0.7)\n",
            "Requirement already satisfied: gym-notices>=0.0.4 in /usr/local/lib/python3.10/dist-packages (from gym[atari,classic_control]>=0.10.9->stable-baselines==2.5.1) (0.0.8)\n",
            "Collecting pygame==2.1.0 (from gym[atari,classic_control]>=0.10.9->stable-baselines==2.5.1)\n",
            "  Downloading pygame-2.1.0-cp310-cp310-manylinux_2_17_x86_64.manylinux2014_x86_64.whl (18.3 MB)\n",
            "\u001b[2K     \u001b[90m━━━━━━━━━━━━━━━━━━━━━━━━━━━━━━━━━━━━━━━━\u001b[0m \u001b[32m18.3/18.3 MB\u001b[0m \u001b[31m52.5 MB/s\u001b[0m eta \u001b[36m0:00:00\u001b[0m\n",
            "\u001b[?25hCollecting ale-py~=0.7.5 (from gym[atari,classic_control]>=0.10.9->stable-baselines==2.5.1)\n",
            "  Downloading ale_py-0.7.5-cp310-cp310-manylinux_2_17_x86_64.manylinux2014_x86_64.whl (1.6 MB)\n",
            "\u001b[2K     \u001b[90m━━━━━━━━━━━━━━━━━━━━━━━━━━━━━━━━━━━━━━━━\u001b[0m \u001b[32m1.6/1.6 MB\u001b[0m \u001b[31m77.0 MB/s\u001b[0m eta \u001b[36m0:00:00\u001b[0m\n",
            "\u001b[?25hRequirement already satisfied: contourpy>=1.0.1 in /usr/local/lib/python3.10/dist-packages (from matplotlib->stable-baselines==2.5.1) (1.2.0)\n",
            "Requirement already satisfied: cycler>=0.10 in /usr/local/lib/python3.10/dist-packages (from matplotlib->stable-baselines==2.5.1) (0.12.1)\n",
            "Requirement already satisfied: fonttools>=4.22.0 in /usr/local/lib/python3.10/dist-packages (from matplotlib->stable-baselines==2.5.1) (4.45.1)\n",
            "Requirement already satisfied: kiwisolver>=1.0.1 in /usr/local/lib/python3.10/dist-packages (from matplotlib->stable-baselines==2.5.1) (1.4.5)\n",
            "Requirement already satisfied: packaging>=20.0 in /usr/local/lib/python3.10/dist-packages (from matplotlib->stable-baselines==2.5.1) (23.2)\n",
            "Requirement already satisfied: pillow>=6.2.0 in /usr/local/lib/python3.10/dist-packages (from matplotlib->stable-baselines==2.5.1) (9.4.0)\n",
            "Requirement already satisfied: pyparsing>=2.3.1 in /usr/local/lib/python3.10/dist-packages (from matplotlib->stable-baselines==2.5.1) (3.1.1)\n",
            "Requirement already satisfied: python-dateutil>=2.7 in /usr/local/lib/python3.10/dist-packages (from matplotlib->stable-baselines==2.5.1) (2.8.2)\n",
            "Requirement already satisfied: pytz>=2020.1 in /usr/local/lib/python3.10/dist-packages (from pandas->stable-baselines==2.5.1) (2023.3.post1)\n",
            "Requirement already satisfied: pyzmq in /usr/local/lib/python3.10/dist-packages (from zmq->stable-baselines==2.5.1) (23.2.1)\n",
            "Requirement already satisfied: importlib-resources in /usr/local/lib/python3.10/dist-packages (from ale-py~=0.7.5->gym[atari,classic_control]>=0.10.9->stable-baselines==2.5.1) (6.1.1)\n",
            "Requirement already satisfied: six>=1.5 in /usr/local/lib/python3.10/dist-packages (from python-dateutil>=2.7->matplotlib->stable-baselines==2.5.1) (1.16.0)\n",
            "Building wheels for collected packages: box2d-py, box2d-kengz, mpi4py, zmq\n",
            "  Building wheel for box2d-py (setup.py) ... \u001b[?25l\u001b[?25hdone\n",
            "  Created wheel for box2d-py: filename=box2d_py-2.3.8-cp310-cp310-linux_x86_64.whl size=2349115 sha256=5caea5c821bc667c9ad96b3c941de24561657e7a510ae26fb375a469c61c34ca\n",
            "  Stored in directory: /root/.cache/pip/wheels/47/01/d2/6a780da77ccb98b1d2facdd520a8d10838a03b590f6f8d50c0\n",
            "  Building wheel for box2d-kengz (setup.py) ... \u001b[?25l\u001b[?25hdone\n",
            "  Created wheel for box2d-kengz: filename=Box2D_kengz-2.3.3-cp310-cp310-linux_x86_64.whl size=2367276 sha256=8379fcc10e9ac76b971e30d264596658fa018a0b7238600b2c9ae4cded6a73cb\n",
            "  Stored in directory: /root/.cache/pip/wheels/ab/a3/5f/6396406aa0163da86c2a8d28304a120b55cfa98363654d853b\n",
            "  Building wheel for mpi4py (pyproject.toml) ... \u001b[?25l\u001b[?25hdone\n",
            "  Created wheel for mpi4py: filename=mpi4py-3.1.5-cp310-cp310-linux_x86_64.whl size=2746509 sha256=a7cc8b6a8555ac837f7d51bb64637ea1dd5a7af83e60bbbfb8f92b4462a163ec\n",
            "  Stored in directory: /root/.cache/pip/wheels/18/2b/7f/c852523089e9182b45fca50ff56f49a51eeb6284fd25a66713\n",
            "  Building wheel for zmq (setup.py) ... \u001b[?25l\u001b[?25hdone\n",
            "  Created wheel for zmq: filename=zmq-0.0.0-py3-none-any.whl size=1264 sha256=e2ae759a63e05bb6571b468edf8738e32b80af42c48eb4a9e1b1f905d62a81db\n",
            "  Stored in directory: /root/.cache/pip/wheels/ab/c5/fe/d853f71843cae26c123d37a7a5934baac20fc66f35a913951d\n",
            "Successfully built box2d-py box2d-kengz mpi4py zmq\n",
            "Installing collected packages: box2d-py, box2d-kengz, zmq, pygame, mpi4py, dill, ale-py, stable-baselines\n",
            "  Attempting uninstall: pygame\n",
            "    Found existing installation: pygame 2.5.2\n",
            "    Uninstalling pygame-2.5.2:\n",
            "      Successfully uninstalled pygame-2.5.2\n",
            "Successfully installed ale-py-0.7.5 box2d-kengz-2.3.3 box2d-py-2.3.8 dill-0.3.7 mpi4py-3.1.5 pygame-2.1.0 stable-baselines-2.5.1 zmq-0.0.0\n"
          ]
        }
      ]
    },
    {
      "cell_type": "markdown",
      "metadata": {
        "id": "d6yT4QfA1fJD"
      },
      "source": [
        "если убрать \" > /dev/null 2>&1\" то работа сервера будет выведена на экран, а этой командой перемещаем все в фоновый режим"
      ]
    },
    {
      "cell_type": "code",
      "metadata": {
        "colab": {
          "base_uri": "https://localhost:8080/"
        },
        "id": "OF2WWD9g1kaj",
        "outputId": "4e95027f-7893-4730-ba1b-a9db936df85a"
      },
      "source": [
        "# установка пакета для рендера видео\n",
        "!pip install gym pyvirtualdisplay > /dev/null 2>&1\n",
        "\n",
        "# установка обертки для пакета, который позволит воспроизводить видео в ячейке колаба\n",
        "!pip install xvfbwrapper\n",
        "\n",
        "# обновляем все пакеты до новейшей версии, чтобы все пакеты \"подружились\"\n",
        "!apt-get update\n",
        "\n",
        "# установка удаленного сервера, благодаря которому видео будет воспроизводиться в ячейке колаба\n",
        "!sudo apt-get install xvfb\n",
        "\n",
        "# пакет для вывода процессов, происходящих на сервере\n",
        "!apt-get install xdpyinfo"
      ],
      "execution_count": null,
      "outputs": [
        {
          "output_type": "stream",
          "name": "stdout",
          "text": [
            "Collecting xvfbwrapper\n",
            "  Downloading xvfbwrapper-0.2.9.tar.gz (5.6 kB)\n",
            "  Preparing metadata (setup.py) ... \u001b[?25l\u001b[?25hdone\n",
            "Building wheels for collected packages: xvfbwrapper\n",
            "  Building wheel for xvfbwrapper (setup.py) ... \u001b[?25l\u001b[?25hdone\n",
            "  Created wheel for xvfbwrapper: filename=xvfbwrapper-0.2.9-py3-none-any.whl size=5009 sha256=ac81d9a576ebf69586098ad1fc5f2382b8e2f5f52948eb305b778712ed6e2868\n",
            "  Stored in directory: /root/.cache/pip/wheels/cb/10/7d/2b7fdffccf837f7d5425931575fbee9caebe2c190931f9058b\n",
            "Successfully built xvfbwrapper\n",
            "Installing collected packages: xvfbwrapper\n",
            "Successfully installed xvfbwrapper-0.2.9\n",
            "Get:1 http://security.ubuntu.com/ubuntu jammy-security InRelease [110 kB]\n",
            "Get:2 https://cloud.r-project.org/bin/linux/ubuntu jammy-cran40/ InRelease [3,626 B]\n",
            "Hit:3 https://developer.download.nvidia.com/compute/cuda/repos/ubuntu2204/x86_64  InRelease\n",
            "Hit:4 http://archive.ubuntu.com/ubuntu jammy InRelease\n",
            "Get:5 http://archive.ubuntu.com/ubuntu jammy-updates InRelease [119 kB]\n",
            "Get:6 http://security.ubuntu.com/ubuntu jammy-security/universe amd64 Packages [1,030 kB]\n",
            "Get:7 https://ppa.launchpadcontent.net/c2d4u.team/c2d4u4.0+/ubuntu jammy InRelease [18.1 kB]\n",
            "Hit:8 https://ppa.launchpadcontent.net/deadsnakes/ppa/ubuntu jammy InRelease\n",
            "Hit:9 http://archive.ubuntu.com/ubuntu jammy-backports InRelease\n",
            "Hit:10 https://ppa.launchpadcontent.net/graphics-drivers/ppa/ubuntu jammy InRelease\n",
            "Get:11 http://archive.ubuntu.com/ubuntu jammy-updates/main amd64 Packages [1,535 kB]\n",
            "Hit:12 https://ppa.launchpadcontent.net/ubuntugis/ppa/ubuntu jammy InRelease\n",
            "Get:13 https://ppa.launchpadcontent.net/c2d4u.team/c2d4u4.0+/ubuntu jammy/main Sources [2,246 kB]\n",
            "Get:14 http://archive.ubuntu.com/ubuntu jammy-updates/universe amd64 Packages [1,298 kB]\n",
            "Get:15 https://ppa.launchpadcontent.net/c2d4u.team/c2d4u4.0+/ubuntu jammy/main amd64 Packages [1,153 kB]\n",
            "Fetched 7,513 kB in 2s (3,804 kB/s)\n",
            "Reading package lists... Done\n",
            "Reading package lists... Done\n",
            "Building dependency tree... Done\n",
            "Reading state information... Done\n",
            "The following additional packages will be installed:\n",
            "  libfontenc1 libxfont2 libxkbfile1 x11-xkb-utils xfonts-base xfonts-encodings\n",
            "  xfonts-utils xserver-common\n",
            "The following NEW packages will be installed:\n",
            "  libfontenc1 libxfont2 libxkbfile1 x11-xkb-utils xfonts-base xfonts-encodings\n",
            "  xfonts-utils xserver-common xvfb\n",
            "0 upgraded, 9 newly installed, 0 to remove and 18 not upgraded.\n",
            "Need to get 7,814 kB of archives.\n",
            "After this operation, 11.9 MB of additional disk space will be used.\n",
            "Get:1 http://archive.ubuntu.com/ubuntu jammy/main amd64 libfontenc1 amd64 1:1.1.4-1build3 [14.7 kB]\n",
            "Get:2 http://archive.ubuntu.com/ubuntu jammy/main amd64 libxfont2 amd64 1:2.0.5-1build1 [94.5 kB]\n",
            "Get:3 http://archive.ubuntu.com/ubuntu jammy/main amd64 libxkbfile1 amd64 1:1.1.0-1build3 [71.8 kB]\n",
            "Get:4 http://archive.ubuntu.com/ubuntu jammy/main amd64 x11-xkb-utils amd64 7.7+5build4 [172 kB]\n",
            "Get:5 http://archive.ubuntu.com/ubuntu jammy/main amd64 xfonts-encodings all 1:1.0.5-0ubuntu2 [578 kB]\n",
            "Get:6 http://archive.ubuntu.com/ubuntu jammy/main amd64 xfonts-utils amd64 1:7.7+6build2 [94.6 kB]\n",
            "Get:7 http://archive.ubuntu.com/ubuntu jammy/main amd64 xfonts-base all 1:1.0.5 [5,896 kB]\n",
            "Get:8 http://archive.ubuntu.com/ubuntu jammy-updates/main amd64 xserver-common all 2:21.1.4-2ubuntu1.7~22.04.2 [28.1 kB]\n",
            "Get:9 http://archive.ubuntu.com/ubuntu jammy-updates/universe amd64 xvfb amd64 2:21.1.4-2ubuntu1.7~22.04.2 [864 kB]\n",
            "Fetched 7,814 kB in 1s (5,451 kB/s)\n",
            "debconf: unable to initialize frontend: Dialog\n",
            "debconf: (No usable dialog-like program is installed, so the dialog based frontend cannot be used. at /usr/share/perl5/Debconf/FrontEnd/Dialog.pm line 78, <> line 9.)\n",
            "debconf: falling back to frontend: Readline\n",
            "debconf: unable to initialize frontend: Readline\n",
            "debconf: (This frontend requires a controlling tty.)\n",
            "debconf: falling back to frontend: Teletype\n",
            "dpkg-preconfigure: unable to re-open stdin: \n",
            "Selecting previously unselected package libfontenc1:amd64.\n",
            "(Reading database ... 121635 files and directories currently installed.)\n",
            "Preparing to unpack .../0-libfontenc1_1%3a1.1.4-1build3_amd64.deb ...\n",
            "Unpacking libfontenc1:amd64 (1:1.1.4-1build3) ...\n",
            "Selecting previously unselected package libxfont2:amd64.\n",
            "Preparing to unpack .../1-libxfont2_1%3a2.0.5-1build1_amd64.deb ...\n",
            "Unpacking libxfont2:amd64 (1:2.0.5-1build1) ...\n",
            "Selecting previously unselected package libxkbfile1:amd64.\n",
            "Preparing to unpack .../2-libxkbfile1_1%3a1.1.0-1build3_amd64.deb ...\n",
            "Unpacking libxkbfile1:amd64 (1:1.1.0-1build3) ...\n",
            "Selecting previously unselected package x11-xkb-utils.\n",
            "Preparing to unpack .../3-x11-xkb-utils_7.7+5build4_amd64.deb ...\n",
            "Unpacking x11-xkb-utils (7.7+5build4) ...\n",
            "Selecting previously unselected package xfonts-encodings.\n",
            "Preparing to unpack .../4-xfonts-encodings_1%3a1.0.5-0ubuntu2_all.deb ...\n",
            "Unpacking xfonts-encodings (1:1.0.5-0ubuntu2) ...\n",
            "Selecting previously unselected package xfonts-utils.\n",
            "Preparing to unpack .../5-xfonts-utils_1%3a7.7+6build2_amd64.deb ...\n",
            "Unpacking xfonts-utils (1:7.7+6build2) ...\n",
            "Selecting previously unselected package xfonts-base.\n",
            "Preparing to unpack .../6-xfonts-base_1%3a1.0.5_all.deb ...\n",
            "Unpacking xfonts-base (1:1.0.5) ...\n",
            "Selecting previously unselected package xserver-common.\n",
            "Preparing to unpack .../7-xserver-common_2%3a21.1.4-2ubuntu1.7~22.04.2_all.deb ...\n",
            "Unpacking xserver-common (2:21.1.4-2ubuntu1.7~22.04.2) ...\n",
            "Selecting previously unselected package xvfb.\n",
            "Preparing to unpack .../8-xvfb_2%3a21.1.4-2ubuntu1.7~22.04.2_amd64.deb ...\n",
            "Unpacking xvfb (2:21.1.4-2ubuntu1.7~22.04.2) ...\n",
            "Setting up libfontenc1:amd64 (1:1.1.4-1build3) ...\n",
            "Setting up xfonts-encodings (1:1.0.5-0ubuntu2) ...\n",
            "Setting up libxkbfile1:amd64 (1:1.1.0-1build3) ...\n",
            "Setting up libxfont2:amd64 (1:2.0.5-1build1) ...\n",
            "Setting up x11-xkb-utils (7.7+5build4) ...\n",
            "Setting up xfonts-utils (1:7.7+6build2) ...\n",
            "Setting up xfonts-base (1:1.0.5) ...\n",
            "Setting up xserver-common (2:21.1.4-2ubuntu1.7~22.04.2) ...\n",
            "Setting up xvfb (2:21.1.4-2ubuntu1.7~22.04.2) ...\n",
            "Processing triggers for man-db (2.10.2-1) ...\n",
            "Processing triggers for fontconfig (2.13.1-4.2ubuntu5) ...\n",
            "Processing triggers for libc-bin (2.35-0ubuntu3.4) ...\n",
            "/sbin/ldconfig.real: /usr/local/lib/libtbbmalloc.so.2 is not a symbolic link\n",
            "\n",
            "/sbin/ldconfig.real: /usr/local/lib/libtbbbind_2_5.so.3 is not a symbolic link\n",
            "\n",
            "/sbin/ldconfig.real: /usr/local/lib/libtbb.so.12 is not a symbolic link\n",
            "\n",
            "/sbin/ldconfig.real: /usr/local/lib/libtbbmalloc_proxy.so.2 is not a symbolic link\n",
            "\n",
            "/sbin/ldconfig.real: /usr/local/lib/libtbbbind.so.3 is not a symbolic link\n",
            "\n",
            "/sbin/ldconfig.real: /usr/local/lib/libtbbbind_2_0.so.3 is not a symbolic link\n",
            "\n",
            "Reading package lists... Done\n",
            "Building dependency tree... Done\n",
            "Reading state information... Done\n",
            "E: Unable to locate package xdpyinfo\n"
          ]
        }
      ]
    },
    {
      "cell_type": "markdown",
      "metadata": {
        "id": "APXSx7hg19TH"
      },
      "source": [
        "## Импорт библиотек\n",
        "\n"
      ]
    },
    {
      "cell_type": "code",
      "metadata": {
        "id": "pdb2JwZy4jGj"
      },
      "source": [
        "# здесь лежат все модели\n",
        "import gym\n",
        "\n",
        "# загрузим библиотеку для изменения параметра вывода ошибок\n",
        "from gym import logger as gymlogger\n",
        "\n",
        "# для правильного отображения ошибок\n",
        "gymlogger.set_level(40)\n",
        "\n",
        "# библиотека для обертки видео из хранилища в ячейку\n",
        "from gym.wrappers import RecordVideo\n",
        "\n",
        "# библиотека массивов numpy\n",
        "import numpy as np\n",
        "\n",
        "# библиотека для генерации случайных значений\n",
        "import random\n",
        "\n",
        "# библиотека для визуализации процессов\n",
        "import matplotlib\n",
        "\n",
        "# библиотека для построения графика\n",
        "import matplotlib.pyplot as plt\n",
        "\n",
        "%matplotlib inline\n",
        "\n",
        "# расширение для использования Unix обозначений при задании пути к файлу\n",
        "import glob\n",
        "\n",
        "# библиотека для работы с потоковыми данными\n",
        "import io\n",
        "\n",
        "# расширение для преобразования в формат base64\n",
        "# (универсальный формат хранения сырых изображений в виде набора электрических сигналов)\n",
        "import base64\n",
        "\n",
        "# библиотека для кодирования в код HTML\n",
        "from IPython.display import HTML\n",
        "\n",
        "# библиотека для расчета времени обучения\n",
        "import time\n",
        "\n",
        "# для работы с \"сырым\" форматом (набор сигналов, а не пиксели)\n",
        "from IPython import display as ipythondisplay\n",
        "\n",
        "# для создания окна дисплея\n",
        "from pyvirtualdisplay import Display"
      ],
      "execution_count": null,
      "outputs": []
    },
    {
      "cell_type": "markdown",
      "metadata": {
        "id": "0jdfaw3_3FQe"
      },
      "source": [
        "Создаем объект дисплей, таким образом, симуляцию можно будет наблюдать в колабе"
      ]
    },
    {
      "cell_type": "code",
      "metadata": {
        "id": "nQEtc28G4niA",
        "colab": {
          "base_uri": "https://localhost:8080/"
        },
        "outputId": "a383303f-9e36-47cf-db39-fc44dc71df4f"
      },
      "source": [
        "display = Display(visible=0, size=(1400, 900))\n",
        "display.start()"
      ],
      "execution_count": null,
      "outputs": [
        {
          "output_type": "stream",
          "name": "stderr",
          "text": [
            "/usr/local/lib/python3.10/dist-packages/ipykernel/ipkernel.py:283: DeprecationWarning: `should_run_async` will not call `transform_cell` automatically in the future. Please pass the result to `transformed_cell` argument and any exception that happen during thetransform in `preprocessing_exc_tuple` in IPython 7.17 and above.\n",
            "  and should_run_async(code)\n"
          ]
        },
        {
          "output_type": "execute_result",
          "data": {
            "text/plain": [
              "<pyvirtualdisplay.display.Display at 0x7945ec412fb0>"
            ]
          },
          "metadata": {},
          "execution_count": 4
        }
      ]
    },
    {
      "cell_type": "markdown",
      "metadata": {
        "id": "PPdAbuLh9-gg"
      },
      "source": [
        "Создаем функцию `show_video()`которая будет выводить нам в окно сформированный из кадров игры фильм и `Monitor()` которая будет регистрировать кадры игры"
      ]
    },
    {
      "cell_type": "code",
      "metadata": {
        "id": "G9UWeToN4r7D",
        "colab": {
          "base_uri": "https://localhost:8080/"
        },
        "outputId": "bdf25e79-9fc3-494a-c36f-1064651edbee"
      },
      "source": [
        "def show_video():\n",
        "  '''\n",
        "  Функция, позволяющая записывать видео того,\n",
        "  что происходит в окружении и отображать это в колаб\n",
        "\n",
        "  '''\n",
        "  # для поиска JPG файлов используем модуль glob.\n",
        "  mp4list = glob.glob('video/*.mp4')\n",
        "\n",
        "  if len(mp4list) > 0: # если лист не нулевой\n",
        "    mp4 = mp4list[0] # получаем данные\n",
        "    video = io.open(mp4, 'r+b').read() # открываем и читаем данные\n",
        "    encoded = base64.b64encode(video)\n",
        "    # формируем область вывода видео\n",
        "    ipythondisplay.display(HTML(data='''<video alt=\"test\" autoplay\n",
        "                loop controls style=\"height: 400px;\">\n",
        "                <source src=\"data:video/mp4;base64,{0}\" type=\"video/mp4\" />\n",
        "             </video>'''.format(encoded.decode('ascii'))))\n",
        "  else: # если лист пуст выводим тех.сообщение\n",
        "    print(\"Could not find video\")\n",
        "\n",
        "\n",
        "def wrap_env(env):\n",
        "  env = RecordVideo(env, './video')\n",
        "  return env"
      ],
      "execution_count": null,
      "outputs": [
        {
          "output_type": "stream",
          "name": "stderr",
          "text": [
            "/usr/local/lib/python3.10/dist-packages/ipykernel/ipkernel.py:283: DeprecationWarning: `should_run_async` will not call `transform_cell` automatically in the future. Please pass the result to `transformed_cell` argument and any exception that happen during thetransform in `preprocessing_exc_tuple` in IPython 7.17 and above.\n",
            "  and should_run_async(code)\n"
          ]
        }
      ]
    },
    {
      "cell_type": "markdown",
      "metadata": {
        "id": "FtY8FhliLsGm"
      },
      "source": [
        "## Симмуляция LunarLander-v2\n",
        "https://gym.openai.com/envs/LunarLander-v2/\n"
      ]
    },
    {
      "cell_type": "markdown",
      "metadata": {
        "id": "2zyejlPsCc1i"
      },
      "source": [
        "Задача данной симуляции заключается в посадке корабля на посадочную площадку.\n",
        "\n",
        "Оценивается то, *куда* вы его посадите и *как*.\n",
        "\n",
        "Для управления кораблем мы используем три двигателя:\n",
        "- центральный,\n",
        "- с левой ориентацией\n",
        "- c правой ориентацией.\n",
        "\n",
        "В итоге, на каждое из наших действий - **action** - среда выдает наблюдение - **observation**.\n",
        "\n",
        "**Observation** - вектор размерности (8,):\n",
        "\n",
        "\n",
        "> где первые шесть цифр - отклик самого физического движка:\n",
        "- x-координата,\n",
        "- y-координата,\n",
        "- x-скорость,\n",
        "- y-скорость,\n",
        "- угол ракеты,\n",
        "- угловая скорость,\n",
        "- факт приземления на левую ногу,\n",
        "- факт приземления на правую ногу),\n",
        "\n",
        "\n",
        "> а последние две цифры - координаты приземления:\n",
        "- пока ракета не приземлилась, последние два числа будут (0,0).\n",
        "- если приземлилась на посадочной площадке, то (1,1).\n",
        "- если риземлилась с какой-то из сторон, то (1,0) или (0,1) соответственно.\n",
        "\n",
        "Важно то, *как* мы приземляемся!\n",
        "\n",
        "За это отвечает награда - **reward**.\n",
        "Баллы могут складываться и вычитаться в зависимости от действия. При этом топливо бесконечно и эпизод заканчивается в момент приземления (либо ракета падает, либо мягко приземляется). Допускается посадка вне посадочной площадки.\n",
        "- Награда за переход от верхней части экрана к посадочной площадке и нулевой скорости составляет около 100..140 баллов.\n",
        "- Если включен основной двигатель, то за каждый кадр (одно действие) -0,3 балла.\n",
        "- Если ракета отходит от посадочной площадки, то присвоенная ранее награда за вычитается.\n",
        "- За каждый контакт ноги с поверхностью +10 баллов.\n",
        "- За падение (резкое приземление) -100 баллов,\n",
        "- за мягкое приземление +100 баллов.\n",
        "В сумме решеная задача (за переход от верхней части экрана к посадочной площадке + мягкое приземление) дает 200..250 баллов.\n",
        "\n",
        "**Резюме**: на вход среды подаем одно из действий:\n",
        "\n",
        "* 0 - ничего не делать\n",
        "* 1 - запустить двигатель с левой ориентацией\n",
        "* 2 - запустить двигатель по центру\n",
        "* 3 - запустить двигатель с правой ориентацией\n",
        "\n",
        "на выходе получаем вектор **observation** и **reward** за текущее действие.\n",
        "Эпизод будет идти до момента приземления.\n",
        "\n",
        "**Цель**: максимизировать награду"
      ]
    },
    {
      "cell_type": "markdown",
      "metadata": {
        "id": "3r5gT3ju4i8g"
      },
      "source": [
        "Пример ранее записанной эффективной посадки"
      ]
    },
    {
      "cell_type": "markdown",
      "metadata": {
        "id": "RapkYvTXL7Cd"
      },
      "source": [
        "\n",
        "![Lunar Lander](https://cdn-images-1.medium.com/max/960/1*f4VZPKOI0PYNWiwt0la0Rg.gif)\n",
        "\n",
        "\n"
      ]
    },
    {
      "cell_type": "markdown",
      "metadata": {
        "id": "VnlUKbsi4a8s"
      },
      "source": [
        "Давайте разберем, что выше написано.\n",
        "- `Observation` - вектор размерности `(8,)`. На каждом шаге (нашем действии) программа выдает нам полную информацию об объекте в виде вектора `Observation`для принятия нами следующего действия `action`.\n",
        "\n",
        "- `action` - это то, что мы на шаге делаем:\n",
        "\n",
        "    0 - ничего не делать\n",
        "    \n",
        "    1 - запустить двигатель с левой ориентацией\n",
        "\n",
        "    2 - запустить двигатель по центру\n",
        "\n",
        "    3 - запустить двигатель с правой ориентацией\n",
        "\n",
        "    Мы делаем что-то одно, то есть это число\n"
      ]
    },
    {
      "cell_type": "markdown",
      "metadata": {
        "id": "i9A7gne5VGDf"
      },
      "source": [
        "### Запускаем среду\n",
        "\n",
        "Для этого в модуль `gym` методом `make` подаем название нашей игры как список"
      ]
    },
    {
      "cell_type": "code",
      "metadata": {
        "id": "I4dTlt1AVGDl"
      },
      "source": [
        "env = gym.make('LunarLander-v2')\n",
        "# оборачиваем наше окружения для записи видео\n",
        "env = wrap_env(env)"
      ],
      "execution_count": null,
      "outputs": []
    },
    {
      "cell_type": "markdown",
      "metadata": {
        "id": "PLJrY1S2VP4d"
      },
      "source": [
        "Вначале будем тренироваться на одном варианте рельефа местности. Для этого метом `.seed()` выбираем только один вариант, например `0` нулевой и далее создаем местность через `env.render()` и сбрасываем значение вектора `observation` (если были) через`env.reset()`"
      ]
    },
    {
      "cell_type": "code",
      "metadata": {
        "id": "nZ3hv3CPahPx",
        "colab": {
          "base_uri": "https://localhost:8080/"
        },
        "outputId": "508d14dc-f533-4eb4-f863-d3d32f39974f"
      },
      "source": [
        "env = wrap_env(env) # оборачиваем наше окружения для записи видео\n",
        "env.seed(0) # симуляция одного и того же окружения\n",
        "observation = env.reset() # обнуляем вектор наблюдения\n",
        "env.render() # Рендер окружения"
      ],
      "execution_count": null,
      "outputs": [
        {
          "output_type": "execute_result",
          "data": {
            "text/plain": [
              "array([[[  0,   0,   0],\n",
              "        [  0,   0,   0],\n",
              "        [  0,   0,   0],\n",
              "        ...,\n",
              "        [  0,   0,   0],\n",
              "        [  0,   0,   0],\n",
              "        [  0,   0,   0]],\n",
              "\n",
              "       [[  0,   0,   0],\n",
              "        [  0,   0,   0],\n",
              "        [  0,   0,   0],\n",
              "        ...,\n",
              "        [  0,   0,   0],\n",
              "        [  0,   0,   0],\n",
              "        [  0,   0,   0]],\n",
              "\n",
              "       [[  0,   0,   0],\n",
              "        [  0,   0,   0],\n",
              "        [  0,   0,   0],\n",
              "        ...,\n",
              "        [  0,   0,   0],\n",
              "        [  0,   0,   0],\n",
              "        [  0,   0,   0]],\n",
              "\n",
              "       ...,\n",
              "\n",
              "       [[255, 255, 255],\n",
              "        [255, 255, 255],\n",
              "        [255, 255, 255],\n",
              "        ...,\n",
              "        [255, 255, 255],\n",
              "        [255, 255, 255],\n",
              "        [255, 255, 255]],\n",
              "\n",
              "       [[255, 255, 255],\n",
              "        [255, 255, 255],\n",
              "        [255, 255, 255],\n",
              "        ...,\n",
              "        [255, 255, 255],\n",
              "        [255, 255, 255],\n",
              "        [255, 255, 255]],\n",
              "\n",
              "       [[255, 255, 255],\n",
              "        [255, 255, 255],\n",
              "        [255, 255, 255],\n",
              "        ...,\n",
              "        [255, 255, 255],\n",
              "        [255, 255, 255],\n",
              "        [255, 255, 255]]], dtype=uint8)"
            ]
          },
          "metadata": {},
          "execution_count": 7
        }
      ]
    },
    {
      "cell_type": "markdown",
      "metadata": {
        "id": "Wsbh4tSCbrPx"
      },
      "source": [
        "Посмотрим, что выдаст нам программа при подаче в метод `step()` какое-то случайное значение от 0 до 3"
      ]
    },
    {
      "cell_type": "code",
      "metadata": {
        "colab": {
          "base_uri": "https://localhost:8080/"
        },
        "id": "PMb9m8w0b-QX",
        "outputId": "1db04173-6cf6-4376-cfa7-1e9d9c2c7d99"
      },
      "source": [
        "action = random.choice([0,1,2,3]) # случайно выбираем действие\n",
        "print('action', action)\n",
        "# подаем случайное действие\n",
        "information = env.step(action)\n",
        "# выводим ответ модкля\n",
        "for inf in information:\n",
        "    print(inf)"
      ],
      "execution_count": null,
      "outputs": [
        {
          "output_type": "stream",
          "name": "stdout",
          "text": [
            "action 3\n",
            "[ 0.01149282  1.3865795   0.5872511  -0.55358    -0.01509254 -0.16976053\n",
            "  0.          0.        ]\n",
            "-2.037431540065454\n",
            "False\n",
            "{}\n"
          ]
        }
      ]
    },
    {
      "cell_type": "markdown",
      "metadata": {
        "id": "m93JsOePc24_"
      },
      "source": [
        "Мы видим:\n",
        "-  в первом элементе список - это и есть вектор состояния, который и есть `observation`\n",
        "- во втором элементе нам выдается награда `reward` за действие\n",
        "- в третеьм элементе `done` выдается ответ на земле корабль `True` или нет `False`.\n",
        "- четвертый элемент не задейтвован в этой игре"
      ]
    },
    {
      "cell_type": "markdown",
      "metadata": {
        "id": "fk0pNKV_eVXZ"
      },
      "source": [
        "Теперь используя для контроля значение в ячейке `done` через проверку `done == False`, мы можем запустить цикл оператором `while`, сказав, что пока это верно, то крутить цикл, а как только `done == False`неверно,  то выйти из цикла.\n",
        "\n",
        "мы будем на каждом шаге подавать просто рандомное число из метода `random.choice([0,1,2,3])`\n",
        "\n",
        "Так же в конце циклв необходимо остановить игру методом `env.close()` и показать записанное видео игры функцией `show_video()`"
      ]
    },
    {
      "cell_type": "code",
      "metadata": {
        "colab": {
          "base_uri": "https://localhost:8080/",
          "height": 422
        },
        "id": "QuQW__wyfVTv",
        "outputId": "3d30657e-6cc3-4ef7-b8b9-2832311a95d4"
      },
      "source": [
        "env = wrap_env(env) # оборачиваем наше окружения для записи видео\n",
        "env.seed(0) # симуляция одного и того же окружения\n",
        "#env.render() # Рендер окружения\n",
        "observation = env.reset() # обнуляем вектор наблюдения\n",
        "\n",
        "done = False\n",
        "while done == False:\n",
        "    env.render() # Рендер окружения\n",
        "    action = random.choice([0,1,2,3])\n",
        "    observation,reward,done,_ = env.step(action)\n",
        "\n",
        "env.close()\n",
        "show_video()"
      ],
      "execution_count": null,
      "outputs": [
        {
          "output_type": "display_data",
          "data": {
            "text/plain": [
              "<IPython.core.display.HTML object>"
            ],
            "text/html": [
              "<video alt=\"test\" autoplay\n",
              "                loop controls style=\"height: 400px;\">\n",
              "                <source src=\"data:video/mp4;base64,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\" type=\"video/mp4\" />\n",
              "             </video>"
            ]
          },
          "metadata": {}
        }
      ]
    },
    {
      "cell_type": "markdown",
      "metadata": {
        "id": "pwU8njNjo28J"
      },
      "source": [
        "### Матричное умножениее"
      ]
    },
    {
      "cell_type": "markdown",
      "metadata": {
        "id": "T8pPr3AAiLgg"
      },
      "source": [
        "Нам удалось запустить и отобразить игру, подавая случайные варианты действия корабля. Но мы никак не использывали ответы среды `observation` о состоянии коробля.\n",
        "\n",
        "`observation` - это вектор с размерностью `(8,)`\n",
        "\n",
        "Общая идея генетического агоритма для данной игры исходит из области нейронных сетей.\n",
        "\n",
        "Нейронные сети - это тензоры, что похоже на матрицу.\n",
        "\n",
        "Мы можем составить список возможных действий длиной 4 и выбирать номер индекса от 0 до 3, что соответсвует вариантам наших действий.\n",
        "\n",
        "Посмотрим на схему матричного умножения ниже, котороя ляжет в основу алгоритма"
      ]
    },
    {
      "cell_type": "markdown",
      "metadata": {
        "id": "ckGJgmJ0ou05"
      },
      "source": [
        "![Матричное умножение.png](data:image/png;base64,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)"
      ]
    },
    {
      "cell_type": "markdown",
      "metadata": {
        "id": "oyICxWfspCoE"
      },
      "source": [
        "- `A` - это вектор `observation` размерностью `(8,)`, который мы получаем на каждом шаге от программы\n",
        "\n",
        "- `C` - это некий `result` размерностью `(4,0)`. в каждой ячейке которого у нас должно получаться число от 0 до 1 `вероятность действия` и далее, применяя к нему метод `argmax()`, мы выбираем номер элемента с большей вероятностью, это и будет наше действие `action` на текущем шаге игры. Это похоже на классификацию в нейронках, когда через функцию активации `softmax` выбирается наиболее весомый ответ.\n",
        "\n",
        "Как же нам перейти от `A` к `C`?\n",
        "\n",
        "Идея лежит в самой картине матричного произведения - это должна быть матрица размерность `(8,4)`\n",
        "\n",
        "Это и будут наши боты популяцию которых мы можем сгенерировать,произвести умножение каждого, получить через `argmax()` ответ для каждого и проверить ответ среды на каждый бот. То есть мы будем производить игру с каждым ботом от и до. Количество игр равно размеру популяции.\n",
        "\n",
        "Но как нам отбирать лучших ботов для посика лучшего, который будет хорошо сажать ракету на любой ответ среды? То есть это будет такая матрица, что при умножение на нее ответа среды, полученные ответы на кадом этаме игры посадят корабль аккуратно.\n",
        "\n",
        "В ответе от модуля `env.step(action)` на `action` есть еще значение `rewards` то есть вознаграждение (см. выше в условиях). Значит мы будем отбирать ботов которые за игру получат максимальную оценку и будем из лучших уже отбирать родителей для генерации нового поколения ботов и возобновления тестов по поиску лучшего бота."
      ]
    },
    {
      "cell_type": "markdown",
      "metadata": {
        "id": "aBc6GfYn_Ivl"
      },
      "source": [
        "Создаем методом `np.random.random()` популяцию из ботов, являющихся массивом размером (8,4)."
      ]
    },
    {
      "cell_type": "code",
      "metadata": {
        "id": "q0kU3oKiwauC",
        "colab": {
          "base_uri": "https://localhost:8080/"
        },
        "outputId": "0782ef75-0495-4a02-d902-f881e9d928bf"
      },
      "source": [
        "numBots = 100 # количество ботов популяция\n",
        "popul = [] # здесь будет лежать популяция\n",
        "\n",
        "# проходимся по длине будущей популяции\n",
        "for i in range(numBots):\n",
        "  # создаем очередного случайного бота в виде матрицы (8,4)\n",
        "  bot = np.random.random((8,4))\n",
        "  # добавляем бота в популяцию\n",
        "  popul.append(bot)\n",
        "\n",
        "# возьмем случайный бот из популяции\n",
        "rand_bot = random.choice(popul)\n",
        "print(rand_bot) # выведем его"
      ],
      "execution_count": null,
      "outputs": [
        {
          "output_type": "stream",
          "name": "stdout",
          "text": [
            "[[0.54690368 0.48724939 0.15844155 0.63380487]\n",
            " [0.4778681  0.83545836 0.54502611 0.39279653]\n",
            " [0.07935284 0.10695021 0.42626122 0.42379296]\n",
            " [0.40278608 0.31648879 0.35789857 0.9698935 ]\n",
            " [0.99654072 0.65149612 0.96173748 0.52557764]\n",
            " [0.61942008 0.65066171 0.19245666 0.10731628]\n",
            " [0.42012385 0.49812529 0.24123398 0.68444426]\n",
            " [0.44047726 0.05685094 0.30252781 0.77485695]]\n"
          ]
        }
      ]
    },
    {
      "cell_type": "markdown",
      "metadata": {
        "id": "tc2G28w8vBJg"
      },
      "source": [
        "выведем идею через матричное умножение `np.dot()` вектора `observation` и матрицы бота `rand_bot`, применив `np.argmax()` к результату `result` их умножение"
      ]
    },
    {
      "cell_type": "code",
      "metadata": {
        "colab": {
          "base_uri": "https://localhost:8080/"
        },
        "id": "4Jzf2UVvR3g4",
        "outputId": "1db2ab22-b115-4ad4-e00e-47be77106bfa"
      },
      "source": [
        "env = wrap_env(env) # оборачиваем наше окружения для записи видео\n",
        "env.seed(0) # симуляция одного и того же окружения\n",
        "observation = env.reset() # обнуляем вектор наблюдения\n",
        "print('observation')\n",
        "print(observation)\n",
        "print('shape', np.array(observation).shape)\n",
        "print()\n",
        "# возьмем случайный бот из популяции\n",
        "rand_bot = random.choice(popul)\n",
        "print('rand_bot') # выведем его\n",
        "print(rand_bot) # выведем его\n",
        "print('shape', np.array(rand_bot).shape)\n",
        "print()\n",
        "result = np.dot(observation, rand_bot)\n",
        "print('result', result)\n",
        "print('shape', np.array(result).shape)\n",
        "print()\n",
        "action = np.argmax(result)\n",
        "print('action', action)"
      ],
      "execution_count": null,
      "outputs": [
        {
          "output_type": "stream",
          "name": "stdout",
          "text": [
            "observation\n",
            "[ 0.00570612  1.3990337   0.5779653  -0.5282997  -0.0066053  -0.13091765\n",
            "  0.          0.        ]\n",
            "shape (8,)\n",
            "\n",
            "rand_bot\n",
            "[[0.97381514 0.65598242 0.12962976 0.42989092]\n",
            " [0.2515014  0.1448742  0.50988236 0.53135162]\n",
            " [0.93794567 0.28591386 0.63835687 0.8324596 ]\n",
            " [0.59820258 0.88421789 0.35209253 0.62250726]\n",
            " [0.12043735 0.68325788 0.5059399  0.44406291]\n",
            " [0.87917675 0.71938936 0.82516496 0.24362257]\n",
            " [0.38054865 0.28309574 0.11131291 0.79606728]\n",
            " [0.82144824 0.77874859 0.63980066 0.96860384]]\n",
            "shape (8, 4)\n",
            "\n",
            "result [ 0.46759018 -0.19415063  0.78564947  0.86326654]\n",
            "shape (4,)\n",
            "\n",
            "action 3\n"
          ]
        }
      ]
    },
    {
      "cell_type": "markdown",
      "metadata": {
        "id": "TjppHyvKwG_A"
      },
      "source": [
        "Повторя код вновь мы будем брать случайно бот из нашей популяции и видеть каое он генерирует действие `action`.\n",
        "\n",
        "Подав идею с ботом в ранее опробованный код игры, мы уже сыгаем с помощь из бота"
      ]
    },
    {
      "cell_type": "markdown",
      "metadata": {
        "id": "D37fwfncAmdz"
      },
      "source": [
        "Проверим, что умеет случайный \"необученный\" бот"
      ]
    },
    {
      "cell_type": "code",
      "metadata": {
        "id": "UoinzefV9bCm",
        "colab": {
          "base_uri": "https://localhost:8080/",
          "height": 422
        },
        "outputId": "187b3217-3bf7-4408-b08b-b11ec82b2af7"
      },
      "source": [
        "env = wrap_env(env) # оборачиваем наше окружения для записи видео\n",
        "env.seed(0) # симуляция одного и того же окружения\n",
        "observation = env.reset() # обнуляем вектор наблюдения\n",
        "#i=0\n",
        "# обнуляем переменную от других эксперементов\n",
        "action = 0\n",
        "# возьмем случайный бот из популяции\n",
        "rand_bot = random.choice(popul)\n",
        "\n",
        "done = False # стартовое значение\n",
        "while done == False: # пока верно, цикл идет\n",
        "\n",
        "    env.render() # Рендер окружения\n",
        "    # В качестве действия будем подавать значения нашего лучшего бота\n",
        "    # остлеживаем все параметры для подсчета функции значения\n",
        "    observation,reward,done,_ = env.step(action)\n",
        "    result = np.dot(observation, rand_bot)\n",
        "    # находим действие для следующего шага игры\n",
        "    action = np.argmax(result)\n",
        "\n",
        "env.close()\n",
        "show_video()"
      ],
      "execution_count": null,
      "outputs": [
        {
          "output_type": "display_data",
          "data": {
            "text/plain": [
              "<IPython.core.display.HTML object>"
            ],
            "text/html": [
              "<video alt=\"test\" autoplay\n",
              "                loop controls style=\"height: 400px;\">\n",
              "                <source src=\"data:video/mp4;base64,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\" type=\"video/mp4\" />\n",
              "             </video>"
            ]
          },
          "metadata": {}
        }
      ]
    },
    {
      "cell_type": "markdown",
      "metadata": {
        "id": "-wj1cFV1xXob"
      },
      "source": [
        "Запуская ячейку вновь, мы будем выбирать случайно бот из популяции и получать совсем разные результаты, даже забавные"
      ]
    },
    {
      "cell_type": "markdown",
      "metadata": {
        "id": "qerTVAQ55Jrr"
      },
      "source": [
        "## Генетические алгоритмы\n",
        "\n",
        "Теперь у нас есть вес необходимое для адаптации кода генетического алгоритма из прошлых задач к задаче поиска бота для посадки\n"
      ]
    },
    {
      "cell_type": "markdown",
      "metadata": {
        "id": "qxprrOVyHBw7"
      },
      "source": [
        "### Функции генетики без изменений"
      ]
    },
    {
      "cell_type": "markdown",
      "metadata": {
        "id": "8jZ3k9ZL8dPM"
      },
      "source": [
        "Активируем уже изученные  в практическом ноутбуке 1 функции `getSurvPopul()`, `getParents()`, `crossPointFrom2Parents()`"
      ]
    },
    {
      "cell_type": "code",
      "metadata": {
        "id": "Qusmug_NMP6x"
      },
      "source": [
        "def getSurvPopul(\n",
        "        popul,\n",
        "        val,\n",
        "        nsurv,\n",
        "        reverse\n",
        "        ):\n",
        "    '''\n",
        "    Функция получения выжившей популяции\n",
        "        Входные параметры:\n",
        "        - popul - наша популяция\n",
        "        - val - текущие значения\n",
        "        - nsurv - количество выживших\n",
        "        - reverse - указываем требуемую операцию поиска результата: максимизация или минимизация\n",
        "    '''\n",
        "    newpopul = [] # Двумерный массив для новой популяции\n",
        "    # Сортируем зачения в val в зависимости от параметра reverse\n",
        "    sval = sorted(val, reverse=reverse)\n",
        "\n",
        "    # Проходимся по циклу nsurv-раз (в итоге в newpopul запишется nsurv-лучших показателей)\n",
        "    for i in range(nsurv):\n",
        "        # Получаем индекс i-того элемента sval в исходном массиве val\n",
        "        index = val.index(sval[i])\n",
        "        # В новую папуляцию добавляем элемент из текущей популяции с найденным индексом\n",
        "        newpopul.append(popul[index])\n",
        "    # Возвращаем новую популяцию (из nsurv элементов) и сортированный список\n",
        "    return newpopul, sval\n",
        "\n",
        "\n",
        "def getParents(\n",
        "        curr_popul,\n",
        "        nsurv\n",
        "        ):\n",
        "\n",
        "    '''\n",
        "    Функция получения родителей\n",
        "        Входные параметры:\n",
        "        - curr_popul - текущая популяция\n",
        "        - nsurv - количество выживших\n",
        "    '''\n",
        "    # Получаем дважды случайный индекс родителе в диапазоне от 0 до nsurv - 1\n",
        "    indexp1 = random.randint(0, nsurv - 1)\n",
        "    indexp2 = random.randint(0, nsurv - 1)\n",
        "\n",
        "    botp1 = curr_popul[indexp1] # Получаем первого бота-родителя по indexp1\n",
        "    botp2 = curr_popul[indexp2] # Получаем второго бота-родителя по indexp2\n",
        "    return botp1, botp2 # Возвращаем обоих полученных ботов\n",
        "\n",
        "\n",
        "def crossPointFrom2Parents(\n",
        "        botp1,\n",
        "        botp2,\n",
        "        idx\n",
        "        ):\n",
        "    '''\n",
        "    Функция смешивания (кроссинговера) двух родителей\n",
        "        Входные параметры:\n",
        "        - botp1 - первый бот-родитель\n",
        "        - botp2 - второй бот-родитель\n",
        "        - idx - номер компонента бота\n",
        "    '''\n",
        "    pindex = random.random() # Получаем случайное число в диапазоне от 0 до 1\n",
        "\n",
        "    # Если pindex меньше 0.5, то берем ген первого бота, иначе от второго\n",
        "    if pindex < 0.5:\n",
        "        x = botp1[idx]\n",
        "    else:\n",
        "        x = botp2[idx]\n",
        "    return x # Возвращаем значние гена"
      ],
      "execution_count": null,
      "outputs": []
    },
    {
      "cell_type": "markdown",
      "metadata": {
        "id": "uFF6_ycWGqkV"
      },
      "source": [
        "### Функция вознаграждения"
      ]
    },
    {
      "cell_type": "markdown",
      "metadata": {
        "id": "_VaaCE5NG3FN"
      },
      "source": [
        "В данной задаче в отличии от прошлых, мы будем уже искать не минимум, а максимум. Мы будем собирать значения от игры каждого бота.\n",
        "\n",
        "Мы организуем цикл по популяции через `for in` и для каждого бота запустим код игры опробованый выше.\n",
        "\n",
        "Но теперь мы еще будем суммировать на каждом шаге игры бота получаемое им вознаграждение и далее собирать итоговое вознаграждение в лист вознаграждений всех ботов `reward_list`.\n",
        "\n",
        "Его в итоге и будем пулучать как результат работы функции"
      ]
    },
    {
      "cell_type": "code",
      "metadata": {
        "id": "Qo_KQietxpys"
      },
      "source": [
        "def countValue(\n",
        "    popul\n",
        "    ):\n",
        "\n",
        "  '''\n",
        "    Функция расчета вознаграждения за эпизод\n",
        "        Входные параметры:\n",
        "        - popul - популяция ботов\n",
        "  '''\n",
        "  action=0  # генерируем первое  действие случайным из пространства действий\n",
        "            # 0 - ничего не делать\n",
        "            # 1 - запустить двигатель с левой ориентацией\n",
        "            # 2 - запустить двигатель по центру\n",
        "            # 3 - запустить двигатель с правой ориентацией\n",
        "\n",
        "  reward_list=[] # здесь будет сумма вознаграждений для каждого эпизода\n",
        "\n",
        "  # проходимся по каждому боту в популяции\n",
        "  for bot in popul:\n",
        "    # При инициализации среда генерируется случайным образом каждый раз новая,\n",
        "    env.seed(0)\n",
        "    # будем использовать только одну конкретную среду, указвая 0\n",
        "    env.reset() # И обновлять окружение\n",
        "    tmp=0\n",
        "    done = False # стартовое значение\n",
        "    while done == False: # пока верно, цикл идет\n",
        "      # остлеживаем все параметры для подсчета функции значения\n",
        "      observation,reward,done,_ = env.step(action)\n",
        "      tmp+=reward # прибавляем вознаграждение от действия по боту\n",
        "      # матрично перемножаем бота и вектор наблюдения для следующего движения\n",
        "      result = np.dot(observation,bot)\n",
        "      action = np.argmax(result) # максимальный аргумент - наше движение\n",
        "    # Собираем в лист итоговое вознаграждение каждого бота\n",
        "    reward_list.append(tmp)\n",
        "\n",
        "  return reward_list"
      ],
      "execution_count": null,
      "outputs": []
    },
    {
      "cell_type": "markdown",
      "metadata": {
        "id": "Q9sTpBbp9p2s"
      },
      "source": [
        "### Эволюция ботов на одной среде\n"
      ]
    },
    {
      "cell_type": "markdown",
      "metadata": {
        "id": "I86AWa8BKdsK"
      },
      "source": [
        "Теперь мы возьмем код генетического кода с вагонами, где мы применяли случайно применяли мутацию к гену и еще меняли саму мутацию по ходу поиска.\n",
        "\n",
        "Нам нужно  изменить в коде функцию проверки, это теперь функция `countValue()` и указать в функции `getSurvPopul()` параметр `reverse` как `1`, так как теперь мы будем отбирать именно с большим значением, как бы по точности, чем выше, тем лучше!\n",
        "\n",
        "Нужно набраться терпения, так как поначалу код может долго не выдавать результат, так некоторые боты могут выдавать решения с долго парящим кораблем, то есть игра будет долго идти, так как игра оканчивается когда корабль упал или приземлился на обе ноги. Постепенно время стабилизируется по популяции."
      ]
    },
    {
      "cell_type": "code",
      "metadata": {
        "id": "rSbB_fjL66FN",
        "colab": {
          "base_uri": "https://localhost:8080/",
          "height": 1000
        },
        "outputId": "2f9c5b89-0365-4370-f71d-2df1b3389060"
      },
      "source": [
        "total=[] # Для построения графика\n",
        "n = 40 # популяция\n",
        "nsurv = 20 # количество выживших\n",
        "nnew = n-nsurv # количество новых\n",
        "epohs = 50 # количество эпох\n",
        "mut = 0.4 # коэфициент мутаций\n",
        "eph_change_mut = [10, 20, 30, 40, 45] # эпохи смены коэфициента мутации\n",
        "new_mut = [0.3, 0.27, 0.25, 0.21, 0.19] # новый коэфициент мутаци\n",
        "\n",
        "curr_time = time.time() # запоминаем время начала\n",
        "\n",
        "# создали список списков всех значений по эпохам\n",
        "for it in range(epohs):\n",
        "    # проверяем текущую эпоху it на принадлежность графику смены мутации\n",
        "    if it in eph_change_mut:\n",
        "      idx = eph_change_mut.index(it) # получаем индекс  по эпохе\n",
        "      mut = new_mut[idx] # проверяем текущую эпохуобновляем мутацию\n",
        "      print('Смена мутации на', mut)\n",
        "      print()\n",
        "    val = countValue(popul) # считаем успех каждого из ботов\n",
        "    # получили популяцию выживших, нас интересует бот с максимальным успехом, поэтому reverse = 1\n",
        "    newpopul, sval = getSurvPopul(popul, val, nsurv, 1)\n",
        "    # Выводим время на операцию, среднее значение и 20 лучших ботов\n",
        "    print(it, time.time() - curr_time, \" \", sval[0:3])\n",
        "    # заносим самого лучшего бота в список для построения графика эволюции\n",
        "    total.append(sval[0])\n",
        "    curr_time = time.time() # Обновляем текущее время\n",
        "\n",
        "    # проходимся по новой популяции\n",
        "    for k in range(nnew):\n",
        "        # вытаскиваем новых родителей\n",
        "        botp1, botp2 = getParents(newpopul, nsurv)\n",
        "        newbot = [] # здесь будет новый бот\n",
        "\n",
        "        # боты-родители одинаковой длины, будем проходиться по каждому элементу родителя\n",
        "        for j in range(len(botp1)):\n",
        "            x = crossPointFrom2Parents(botp1, botp2,j) # скрещиваем\n",
        "            for t in range(4):\n",
        "                if random.random()<mut:\n",
        "                  x[t] += random.random()*1e-1\n",
        "            newbot.append(x) # закидываем элемент в бота\n",
        "        newpopul.append(newbot) # добавляем бота\n",
        "    popul = newpopul # вывести список на эпоху\n",
        "    # для того, чтобы можно было легко вытащить индексы условием, преобразуем в numpy массив\n",
        "    popul = np.array(popul)\n",
        "plt.plot(total)\n",
        "print(np.mean(total))"
      ],
      "execution_count": null,
      "outputs": [
        {
          "output_type": "stream",
          "name": "stdout",
          "text": [
            "0 15.942070722579956   [48.62882901257262, 28.925236872841737, -63.839242836917876]\n",
            "1 3.275134563446045   [39.45850290550419, 22.639033573165918, -14.232650512886735]\n",
            "2 0.28339576721191406   [16.9259508891447, -8.483089363660369, -39.56781460627951]\n",
            "3 4.855891704559326   [36.30573003586011, 31.336288160465642, 7.1046231087183]\n",
            "4 0.5308616161346436   [31.336288160465642, -35.20691371969137, -39.56781460627951]\n",
            "5 0.4689140319824219   [-7.058977235627481, -15.82746572434192, -19.22087352010837]\n",
            "6 0.485823392868042   [25.806700813858583, -12.90308981138908, -39.278505150224944]\n",
            "7 3.910820245742798   [40.84599029868738, 24.811030863310904, 24.811030863310904]\n",
            "8 0.397676944732666   [66.01417724662258, 54.083635143801416, 53.4406422627919]\n",
            "9 0.41890382766723633   [53.196659353002616, 16.829660442341847, -7.686343781183297]\n",
            "Смена мутации на 0.3\n",
            "\n",
            "10 0.4185197353363037   [-0.5054168856424042, -1.7747489527614846, -10.627500262155749]\n",
            "11 4.142780065536499   [61.80109560151507, 38.12728262939393, 32.34319491658479]\n",
            "12 0.6114757061004639   [37.3316608067874, 15.03771547468024, 11.84938680357493]\n",
            "13 0.9730639457702637   [88.98411483198419, 77.27413253724859, 43.74854638458493]\n",
            "14 1.374241828918457   [87.29524567489312, 45.59039633988567, 45.59039633988567]\n",
            "15 1.273698091506958   [293.3809406727714, 82.46601592254416, 58.3303177242413]\n",
            "16 3.824044704437256   [30.0264446252732, 23.02748771001184, 22.870628374232723]\n",
            "17 0.4149341583251953   [72.62016767362161, 42.15724875162138, 25.436197214849727]\n",
            "18 0.39765477180480957   [66.93304879567663, 36.28541942745932, 31.336288160465642]\n",
            "19 0.655540943145752   [75.72306144707775, 68.26507137400813, 67.61556242544575]\n",
            "Смена мутации на 0.27\n",
            "\n",
            "20 1.1105453968048096   [92.97441889700394, 85.39878974759401, 70.05930357399285]\n",
            "21 0.41370463371276855   [74.8102540273378, 67.33886558797127, 46.15837266701479]\n",
            "22 0.8968524932861328   [74.8102540273378, 58.08745072901064, 45.59039633988567]\n",
            "23 4.843255519866943   [45.59039633988567, 45.59039633988567, 37.71064315879522]\n",
            "24 1.3318819999694824   [60.343935614282856, 53.543948203909764, 50.303992391432814]\n",
            "25 1.475107192993164   [74.38201904026518, 73.53133823402433, 67.01716740090924]\n",
            "26 0.3830282688140869   [78.24852972651911, 70.10412788834267, 60.343935614282856]\n",
            "27 1.515420913696289   [63.64064668454108, 55.559702822565534, 42.600108087299134]\n",
            "28 1.4457168579101562   [73.42164911497775, 54.85064421052104, 53.93815033429391]\n",
            "29 0.3719172477722168   [66.93304879567663, 45.59039633988567, 43.180378733999135]\n",
            "Смена мутации на 0.25\n",
            "\n",
            "30 0.8284037113189697   [237.99384075474944, 66.93304879567663, 42.9994737880763]\n",
            "31 0.6068003177642822   [237.99384075474944, 70.39878009673151, 70.39878009673151]\n",
            "32 4.191182851791382   [237.99384075474944, 77.79677983509916, 64.66651160873155]\n",
            "33 7.268745422363281   [70.97183513181753, 64.66651160873155, 63.34446723177385]\n",
            "34 5.269211530685425   [79.09766549403533, 72.14396202602384, 72.02110191972207]\n",
            "35 1.721069097518921   [79.09766549403533, 72.14396202602384, 68.9380941465574]\n",
            "36 5.1343443393707275   [83.96044120622392, 80.014819559291, 79.09766549403533]\n",
            "37 1.8671844005584717   [85.93832328799112, 69.41145519408033, 64.66651160873155]\n",
            "38 3.1381399631500244   [286.4385929168475, 66.93304879567663, 66.23829169419037]\n",
            "39 3.3405404090881348   [289.7060399648449, 80.98278876062557, 80.51367083830343]\n",
            "Смена мутации на 0.21\n",
            "\n",
            "40 3.285796880722046   [78.06760640014149, 62.53324022290633, 57.67703388880682]\n",
            "41 3.777271270751953   [73.43089263015312, 72.30954505067798, 60.12855956304858]\n",
            "42 1.4648463726043701   [89.67269838024237, 69.62943296788569, 69.26528131183531]\n",
            "43 1.8158018589019775   [247.69591370296988, 78.98638632028914, 45.59039633988567]\n",
            "44 0.3528735637664795   [79.62039534601368, 67.89421343062574, 65.32076287089191]\n",
            "Смена мутации на 0.19\n",
            "\n",
            "45 3.629516839981079   [95.86461653258475, 95.41734616134947, 89.40091734905062]\n",
            "46 4.393512010574341   [106.31991571085061, 100.74061996916218, 95.41734616134947]\n",
            "47 5.63651442527771   [259.86481435192616, 259.4766253473392, 102.55369323985796]\n",
            "48 9.406375646591187   [280.68029132844583, 270.41959672541003, 253.2043197880071]\n",
            "49 4.716272354125977   [270.41959672541003, 268.60406193007634, 257.37813875282006]\n",
            "102.82068387721316\n"
          ]
        },
        {
          "output_type": "display_data",
          "data": {
            "text/plain": [
              "<Figure size 640x480 with 1 Axes>"
            ],
            "image/png": "[encoded data removed]"
          },
          "metadata": {}
        }
      ]
    },
    {
      "cell_type": "code",
      "metadata": {
        "id": "sQwpcrf766FU",
        "colab": {
          "base_uri": "https://localhost:8080/",
          "height": 476
        },
        "outputId": "f4aeb870-e1f3-4e87-9639-dae66f29c9fb"
      },
      "source": [
        "env = wrap_env(env) # оборачиваем наше окружения для записи видео\n",
        "env.seed(0) # симуляция одного и того же окружения\n",
        "observation = env.reset() # обнуляем вектор наблюдения\n",
        "\n",
        "action = 0\n",
        "done = False # стартовое значение\n",
        "while done == False: # пока верно, цикл идет\n",
        "    env.render() # Рендер окружения\n",
        "    # В качестве действия будем подавать значения нашего лучшего бота\n",
        "    # остлеживаем все параметры для подсчета функции значения\n",
        "    observation,reward,done,_ = env.step(action)\n",
        "    result = np.dot(observation,newpopul[1])\n",
        "    action = np.argmax(result)\n",
        "\n",
        "env.close()\n",
        "show_video()"
      ],
      "execution_count": null,
      "outputs": [
        {
          "output_type": "stream",
          "name": "stderr",
          "text": [
            "/usr/local/lib/python3.10/dist-packages/ipykernel/ipkernel.py:283: DeprecationWarning: `should_run_async` will not call `transform_cell` automatically in the future. Please pass the result to `transformed_cell` argument and any exception that happen during thetransform in `preprocessing_exc_tuple` in IPython 7.17 and above.\n",
            "  and should_run_async(code)\n"
          ]
        },
        {
          "output_type": "display_data",
          "data": {
            "text/plain": [
              "<IPython.core.display.HTML object>"
            ],
            "text/html": [
              "<video alt=\"test\" autoplay\n",
              "                loop controls style=\"height: 400px;\">\n",
              "                <source src=\"data:video/mp4;base64,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\" type=\"video/mp4\" />\n",
              "             </video>"
            ]
          },
          "metadata": {}
        }
      ]
    },
    {
      "cell_type": "code",
      "metadata": {
        "id": "BzbstYK_8geR",
        "colab": {
          "base_uri": "https://localhost:8080/"
        },
        "outputId": "bf74cada-5fd8-4afd-ed3a-9718ac4aa5e7"
      },
      "source": [
        "# итоговое вознаграждение\n",
        "reward"
      ],
      "execution_count": null,
      "outputs": [
        {
          "output_type": "stream",
          "name": "stderr",
          "text": [
            "/usr/local/lib/python3.10/dist-packages/ipykernel/ipkernel.py:283: DeprecationWarning: `should_run_async` will not call `transform_cell` automatically in the future. Please pass the result to `transformed_cell` argument and any exception that happen during thetransform in `preprocessing_exc_tuple` in IPython 7.17 and above.\n",
            "  and should_run_async(code)\n"
          ]
        },
        {
          "output_type": "execute_result",
          "data": {
            "text/plain": [
              "-100"
            ]
          },
          "metadata": {},
          "execution_count": 17
        }
      ]
    },
    {
      "cell_type": "markdown",
      "metadata": {
        "id": "oogZ56Sil2q4"
      },
      "source": [
        "Посмотрим что случиться если убрать постоянство рельефа и попробовать посадить тем же ботом корабль на случайно сгенерированный рельеф."
      ]
    },
    {
      "cell_type": "code",
      "metadata": {
        "id": "gdJMDBLnmExF",
        "colab": {
          "base_uri": "https://localhost:8080/",
          "height": 422
        },
        "outputId": "8b3b9036-76d0-4ec0-e347-39422906794f"
      },
      "source": [
        "env = wrap_env(env) # оборачиваем наше окружения для записи видео\n",
        "# env.seed(0)\n",
        "observation = env.reset() # обнуляем вектор наблюдения\n",
        "\n",
        "action = 0\n",
        "done = False # стартовое значение\n",
        "while done == False: # пока верно, цикл идет\n",
        "    env.render() # Рендер окружения\n",
        "    # В качестве действия будем подавать значения нашего лучшего бота\n",
        "    observation,reward,done,_ = env.step(action) # остлеживаем все параметры для подсчета функции значения\n",
        "    result = np.dot(observation,popul[0])\n",
        "    action = np.argmax(result)\n",
        "\n",
        "env.close()\n",
        "show_video()"
      ],
      "execution_count": null,
      "outputs": [
        {
          "output_type": "display_data",
          "data": {
            "text/plain": [
              "<IPython.core.display.HTML object>"
            ],
            "text/html": [
              "<video alt=\"test\" autoplay\n",
              "                loop controls style=\"height: 400px;\">\n",
              "                <source src=\"data:video/mp4;base64,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\" type=\"video/mp4\" />\n",
              "             </video>"
            ]
          },
          "metadata": {}
        }
      ]
    },
    {
      "cell_type": "code",
      "metadata": {
        "id": "lL8NZuqLw5oW",
        "colab": {
          "base_uri": "https://localhost:8080/"
        },
        "outputId": "172361a7-9dbc-4e3d-96cd-cd78d4702c37"
      },
      "source": [
        "reward"
      ],
      "execution_count": null,
      "outputs": [
        {
          "output_type": "stream",
          "name": "stderr",
          "text": [
            "/usr/local/lib/python3.10/dist-packages/ipykernel/ipkernel.py:283: DeprecationWarning: `should_run_async` will not call `transform_cell` automatically in the future. Please pass the result to `transformed_cell` argument and any exception that happen during thetransform in `preprocessing_exc_tuple` in IPython 7.17 and above.\n",
            "  and should_run_async(code)\n"
          ]
        },
        {
          "output_type": "execute_result",
          "data": {
            "text/plain": [
              "-100"
            ]
          },
          "metadata": {},
          "execution_count": 19
        }
      ]
    },
    {
      "cell_type": "markdown",
      "metadata": {
        "id": "FZnIMjeJSNdK"
      },
      "source": [
        "Похоже, что в новой среде наш бот бесполезен."
      ]
    },
    {
      "cell_type": "markdown",
      "metadata": {
        "id": "tqIkhu6V9vcE"
      },
      "source": [
        "### Эволюция ботов на случайно сгенерированных средах\n"
      ]
    },
    {
      "cell_type": "markdown",
      "metadata": {
        "id": "pBR0xHEpSaKp"
      },
      "source": [
        "Мы можем усложнить задачу генетическому алгоритму в поиске, убрав фиксацию среды в `env.seed(0)`, закоментировав строку символом `#`\n",
        "\n",
        "Обновим наш функцию подсчета вознаграждения."
      ]
    },
    {
      "cell_type": "code",
      "metadata": {
        "id": "xZ6I7boaTQ8T"
      },
      "source": [
        "def countValue(\n",
        "    popul\n",
        "    ):\n",
        "\n",
        "  '''\n",
        "    Функция расчета вознаграждения за эпизод\n",
        "        Входные параметры:\n",
        "        - popul - популяция ботов\n",
        "  '''\n",
        "  action=0  # генерируем первое  действие случайным из пространства действий\n",
        "            # 0 - ничего не делать\n",
        "            # 1 - запустить двигатель с левой ориентацией\n",
        "            # 2 - запустить двигатель по центру\n",
        "            # 3 - запустить двигатель с правой ориентацией\n",
        "\n",
        "  reward_list=[] # здесь будет сумма вознаграждений для каждого эпизода\n",
        "\n",
        "  # проходимся по каждому боту в популяции\n",
        "  for bot in popul:\n",
        "    # При инициализации среда генерируется случайным образом каждый раз новая,\n",
        "    #env.seed(0)\n",
        "    # будем использовать только одну конкретную среду, указвая 0\n",
        "    env.reset() # И обновлять окружение\n",
        "\n",
        "    tmp=0\n",
        "    done = False # стартовое значение\n",
        "    while done == False: # пока верно, цикл идет\n",
        "      # остлеживаем все параметры для подсчета функции значения\n",
        "      observation,reward,done,_ = env.step(action)\n",
        "      tmp+=reward # прибавляем вознаграждение от действия по боту\n",
        "      # матрично перемножаем бота и вектор наблюдения для следующего движения\n",
        "      result = np.dot(observation,bot)\n",
        "      action = np.argmax(result) # максимальный аргумент - наше движение\n",
        "    # Собираем в лист итоговое вознаграждение каждого бота\n",
        "    reward_list.append(tmp)\n",
        "\n",
        "  return reward_list"
      ],
      "execution_count": null,
      "outputs": []
    },
    {
      "cell_type": "markdown",
      "metadata": {
        "id": "SARynQBOZTzY"
      },
      "source": [
        "Запустим новое обучение"
      ]
    },
    {
      "cell_type": "code",
      "metadata": {
        "id": "kuoDxmx_9Byj",
        "colab": {
          "base_uri": "https://localhost:8080/"
        },
        "outputId": "6c6f2d50-e5fe-4fa6-e439-c759e7752465"
      },
      "source": [
        "total=[] # Для построения графика\n",
        "n = 40 # популяция\n",
        "nsurv = 20 # количество выживших\n",
        "nnew = n-nsurv # количество новых\n",
        "epohs = 40 # количество эпох\n",
        "mut = 0.4 # коэфициент мутаций\n",
        "eph_change_mut = [10, 20, 30, 35] # эпохи смены коэфициента мутации\n",
        "new_mut = [0.3, 0.27, 0.25, 0.19] # новый коэфициент мутаци\n",
        "\n",
        "\n",
        "curr_time = time.time() # запоминаем время начала\n",
        "\n",
        "# создали список списков всех значений по эпохам\n",
        "for it in range(epohs):\n",
        "    # проверяем текущую эпоху it на принадлежность графику смены мутации\n",
        "    if it in eph_change_mut:\n",
        "      idx = eph_change_mut.index(it) # получаем индекс  по эпохе\n",
        "      mut = new_mut[idx] # проверяем текущую эпохуобновляем мутацию\n",
        "      print('Смена мутации на', mut)\n",
        "      print()\n",
        "    val = countValue(popul) # считаем успех каждого из ботов\n",
        "    # получили популяцию выживших, нас интересует бот с максимальным успехом, поэтому reverse = 1\n",
        "    newpopul, sval = getSurvPopul(popul, val, nsurv, 1)\n",
        "    # Выводим время на операцию, среднее значение и 20 лучших ботов\n",
        "    print(it, time.time() - curr_time, \" \", sval[0:3])\n",
        "    # заносим самого лучшего бота в список для построения графика эволюции\n",
        "    total.append(sval[0])\n",
        "    curr_time = time.time() # Обновляем текущее время\n",
        "\n",
        "    # проходимся по новой популяции\n",
        "    for k in range(nnew):\n",
        "        # вытаскиваем новых родителей\n",
        "        botp1, botp2 = getParents(newpopul, nsurv)\n",
        "        newbot = [] # здесь будет новый бот\n",
        "\n",
        "        # боты-родители одинаковой длины, будем проходиться по каждому элементу родителя\n",
        "        for j in range(len(botp1)):\n",
        "            x = crossPointFrom2Parents(botp1, botp2,j) # скрещиваем\n",
        "            for t in range(4):\n",
        "                if random.random()<mut:\n",
        "                  x[t] += random.random()*1e-1\n",
        "            newbot.append(x) # закидываем элемент в бота\n",
        "        newpopul.append(newbot) # добавляем бота\n",
        "    popul = newpopul # вывести список на эпоху\n",
        "    # для того, чтобы можно было легко вытащить индексы условием, преобразуем в numpy массив\n",
        "    popul = np.array(popul)\n",
        "plt.plot(total)\n",
        "print(np.mean(total))"
      ],
      "execution_count": null,
      "outputs": [
        {
          "output_type": "stream",
          "name": "stdout",
          "text": [
            "0 6.207634210586548   [21.564645824060577, -2.700669633295192, -6.7109042538291135]\n",
            "1 4.052827835083008   [40.58955197948384, 26.766830117375903, 23.29975678155796]\n",
            "2 2.1539530754089355   [146.2448838537271, 7.270587771954794, 4.666689370322331]\n",
            "3 3.248418092727661   [240.5953087114773, 178.5595517471818, 24.75366547404488]\n",
            "4 2.3535218238830566   [155.44227453407083, 46.28935971334144, 32.136297210339904]\n",
            "5 5.422412633895874   [170.7581337120123, 19.684324107399718, 19.29671994086806]\n",
            "6 0.8086154460906982   [27.015142333233527, 24.06297698977245, 13.272787816417292]\n",
            "7 3.1060450077056885   [189.47434149615296, 42.4166841740481, 39.0088787417732]\n",
            "8 4.813689470291138   [28.812899614527282, 27.931044848182346, 8.618996226276394]\n",
            "9 2.062883138656616   [125.70611835677407, 28.009810481831835, 18.61681597088068]\n",
            "Смена мутации на 0.3\n",
            "\n",
            "10 3.2505950927734375   [21.286196262980155, 9.312917030102298, 5.395503356901912]\n",
            "11 0.7852210998535156   [29.997612717426335, 17.660277715634308, -3.3694423830007025]\n",
            "12 4.071707010269165   [10.984572833623545, 7.137597359928677, 7.129635771969092]\n",
            "13 2.765632390975952   [217.86414522249976, 58.74970173008816, 58.23838627566511]\n",
            "14 2.113630533218384   [204.319444830165, 43.495874427551115, 39.80795071347927]\n",
            "15 1.7638115882873535   [26.232313956439157, 21.59660563401306, 0.9824056495623523]\n",
            "16 0.8162081241607666   [32.873236761737104, 28.773001256332464, 25.319576627402768]\n",
            "17 0.8903372287750244   [194.34003179331762, 39.062160592764656, 37.081816272509656]\n",
            "18 4.933562517166138   [191.09697545683002, 75.90838239486618, 45.350247709593674]\n",
            "19 2.0896854400634766   [52.85442805542485, 36.32059268636277, 32.47725934557718]\n",
            "Смена мутации на 0.27\n",
            "\n",
            "20 0.728844404220581   [30.64902597748585, 10.482798570470706, 4.726680118941658]\n",
            "21 1.942338228225708   [230.48668111386777, 103.55928387661122, 22.93607765204824]\n",
            "22 0.5451138019561768   [27.67164115526313, 15.685982570213923, 12.224002732630453]\n",
            "23 7.090140104293823   [264.90128484706906, 241.53951041439248, 21.218970967971998]\n",
            "24 3.5090794563293457   [38.63684318514393, 23.47860883600899, -0.4639529678003953]\n",
            "25 0.5722744464874268   [24.022711585573845, 16.450029093817562, 15.417052516050362]\n",
            "26 0.513110876083374   [160.49193104753104, 48.63528009344918, 39.7610095123826]\n",
            "27 1.4344077110290527   [121.24398328714413, 24.237363605393668, 11.46583354698899]\n",
            "28 2.15505051612854   [120.18707515586998, 26.336570368496737, 22.335768874448448]\n",
            "29 4.63562273979187   [57.05186758124959, 28.011950484728146, 11.777345319538872]\n",
            "Смена мутации на 0.25\n",
            "\n",
            "30 0.8497405052185059   [271.4491156936687, 11.744911731472556, 6.995997789152284]\n",
            "31 2.7959916591644287   [251.25945216501773, 237.15707928487635, 166.9902116915395]\n",
            "32 1.9815523624420166   [30.461864797399866, 28.880512238674783, 12.620721675232218]\n",
            "33 0.9099085330963135   [184.28036134443076, 52.72821282749021, 39.884736620260185]\n",
            "34 0.776611328125   [210.21613452537332, -10.90426276569336, -17.707057654915346]\n",
            "Смена мутации на 0.19\n",
            "\n",
            "35 0.5073437690734863   [11.78909722932697, 11.154714686250202, 9.764543869603386]\n",
            "36 1.8680710792541504   [38.4304000717805, 38.37836678600348, 17.826591197364166]\n",
            "37 0.4716317653656006   [235.12319607809093, 47.57315044924016, 27.686534091612117]\n",
            "38 0.4786531925201416   [18.490728342663274, 17.340352440654385, 5.464999120666192]\n",
            "39 1.998018741607666   [35.851080178283496, 30.17548391105896, 26.110845321340648]\n",
            "112.26866834170494\n"
          ]
        },
        {
          "output_type": "display_data",
          "data": {
            "text/plain": [
              "<Figure size 640x480 with 1 Axes>"
            ],
            "image/png": "[encoded data removed]"
          },
          "metadata": {}
        }
      ]
    },
    {
      "cell_type": "markdown",
      "metadata": {
        "id": "zVUUl52lZb49"
      },
      "source": [
        "Проверим бота на 3х разных рельефах"
      ]
    },
    {
      "cell_type": "code",
      "metadata": {
        "id": "iBduf7qh8rs8",
        "colab": {
          "base_uri": "https://localhost:8080/",
          "height": 476
        },
        "outputId": "f4895733-a111-46c5-b540-e373843ea959"
      },
      "source": [
        "env = wrap_env(env) # оборачиваем наше окружения для записи видео\n",
        "# env.seed(0)\n",
        "observation = env.reset() # обнуляем вектор наблюдения\n",
        "\n",
        "action = 0\n",
        "done = False # стартовое значение\n",
        "while done == False: # пока верно, цикл идет\n",
        "    env.render() # Рендер окружения\n",
        "    # В качестве действия будем подавать значения нашего лучшего бота\n",
        "    # остлеживаем все параметры для подсчета функции значения\n",
        "    observation,reward,done,_ = env.step(action)\n",
        "    result = np.dot(observation,popul[0])\n",
        "    action = np.argmax(result)\n",
        "\n",
        "env.close()\n",
        "show_video()"
      ],
      "execution_count": null,
      "outputs": [
        {
          "output_type": "stream",
          "name": "stderr",
          "text": [
            "/usr/local/lib/python3.10/dist-packages/ipykernel/ipkernel.py:283: DeprecationWarning: `should_run_async` will not call `transform_cell` automatically in the future. Please pass the result to `transformed_cell` argument and any exception that happen during thetransform in `preprocessing_exc_tuple` in IPython 7.17 and above.\n",
            "  and should_run_async(code)\n"
          ]
        },
        {
          "output_type": "display_data",
          "data": {
            "text/plain": [
              "<IPython.core.display.HTML object>"
            ],
            "text/html": [
              "<video alt=\"test\" autoplay\n",
              "                loop controls style=\"height: 400px;\">\n",
              "                <source src=\"data:video/mp4;base64,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\" type=\"video/mp4\" />\n",
              "             </video>"
            ]
          },
          "metadata": {}
        }
      ]
    },
    {
      "cell_type": "code",
      "metadata": {
        "id": "qixHCRe3S2DI",
        "colab": {
          "base_uri": "https://localhost:8080/"
        },
        "outputId": "c5d20527-f9e3-439d-db4f-3ea37b138f04"
      },
      "source": [
        "env = wrap_env(env) # оборачиваем наше окружения для записи видео\n",
        "# env.seed(0)\n",
        "observation = env.reset() # обнуляем вектор наблюдения\n",
        "\n",
        "action = 0\n",
        "done = False # стартовое значение\n",
        "while done == False: # пока верно, цикл идет\n",
        "    env.render() # Рендер окружения\n",
        "    # В качестве действия будем подавать значения нашего лучшего бота\n",
        "    # остлеживаем все параметры для подсчета функции значения\n",
        "    observation,reward,done,_ = env.step(action)\n",
        "    result = np.dot(observation,popul[0])\n",
        "    action = np.argmax(result)\n",
        "\n",
        "env.close()\n",
        "show_video()"
      ],
      "execution_count": null,
      "outputs": [
        {
          "output_type": "stream",
          "name": "stderr",
          "text": [
            "/usr/local/lib/python3.10/dist-packages/ipykernel/ipkernel.py:283: DeprecationWarning: `should_run_async` will not call `transform_cell` automatically in the future. Please pass the result to `transformed_cell` argument and any exception that happen during thetransform in `preprocessing_exc_tuple` in IPython 7.17 and above.\n",
            "  and should_run_async(code)\n"
          ]
        },
        {
          "output_type": "display_data",
          "data": {
            "text/plain": [
              "<IPython.core.display.HTML object>"
            ],
            "text/html": [
              "<video alt=\"test\" autoplay\n",
              "                loop controls style=\"height: 400px;\">\n",
              "                <source src=\"data:video/mp4;base64,AAAAIGZ0eXBpc29tAAACAGlzb21pc28yYXZjMW1wNDEAAAAIZnJlZQAAOKdtZGF0AAACrgYF//+q3EXpvebZSLeWLNgg2SPu73gyNjQgLSBjb3JlIDE2MyByMzA2MCA1ZGI2YWE2IC0gSC4yNjQvTVBFRy00IEFWQyBjb2RlYyAtIENvcHlsZWZ0IDIwMDMtMjAyMSAtIGh0dHA6Ly93d3cudmlkZW9sYW4ub3JnL3gyNjQuaHRtbCAtIG9wdGlvbnM6IGNhYmFjPTEgcmVmPTMgZGVibG9jaz0xOjA6MCBhbmFseXNlPTB4MzoweDExMyBtZT1oZXggc3VibWU9NyBwc3k9MSBwc3lfcmQ9MS4wMDowLjAwIG1peGVkX3JlZj0xIG1lX3JhbmdlPTE2IGNocm9tYV9tZT0xIHRyZWxsaXM9MSA4eDhkY3Q9MSBjcW09MCBkZWFkem9uZT0yMSwxMSBmYXN0X3Bza2lwPTEgY2hyb21hX3FwX29mZnNldD0tMiB0aHJlYWRzPTMgbG9va2FoZWFkX3RocmVhZHM9MSBzbGljZWRfdGhyZWFkcz0wIG5yPTAgZGVjaW1hdGU9MSBpbnRlcmxhY2VkPTAgYmx1cmF5X2NvbXBhdD0wIGNvbnN0cmFpbmVkX2ludHJhPTAgYmZyYW1lcz0zIGJfcHlyYW1pZD0yIGJfYWRhcHQ9MSBiX2JpYXM9MCBkaXJlY3Q9MSB3ZWlnaHRiPTEgb3Blbl9nb3A9MCB3ZWlnaHRwPTIga2V5aW50PTI1MCBrZXlpbnRfbWluPTI1IHNjZW5lY3V0PTQwIGludHJhX3JlZnJlc2g9MCByY19sb29rYWhlYWQ9NDAgcmM9Y3JmIG1idHJlZT0xIGNyZj0yMy4wIHFjb21wPTAuNjAgcXBtaW49MCBxcG1heD02OSBxcHN0ZXA9NCBpcF9yYXRpbz0xLjQwIGFxPTE6MS4wMACAAAAFymWIhAB//vSj+BTSbEQw35cf88ijRCjJZIDMKjvcYAAJsHAAAAMAIyUvIUvW/8kj0U+QAAFSAETCYB+B5iJirFQL7cQeDr8gxVbdSVOtAOWFZk6dUoWxNz/JROAK8MnSZHsCv3wFdiVS4cf7vTjfAvQkNB2jKCRnc30lKnKifhnFKtz7e67osJsGe1saieqIwAKF+4Ce4oMo4LB3pYdK29LY9C5I6zejsjKHkJaLBCTW++I+JUlTIz9bxXEdNzEwwX9l2SnzaidXT/Sy1El9zdTVu8sIELk+xrSfmFPBj8aE1wFA7BLsfpQA7WMx2tHZMN437kaxuqv1AAN54QSvy7XH4+Uz1dNQMrPvW7pVxoBND1ibQdDAlvCmwhH8CtJRJR0Ts4XsbbVnQ01g1o4i/TV5gwkghusSwJgBFYz6SZS/0E+0hL1V97bI2BCJ//inl57Z/tSl2euuLc5wsIJkwrs/1Nc43LgtWaghutG9LWGD0+SWC2tsgB8qxqrzCsm/IBSw1+R9+B+M28C1cFqlEMTIv3N69thJOr0QFXKsj4K9tcdr9Gr4pbZsf/qpnpNLrCs0txmxQnEwaCuEZ85lPgsAKkt71GZc4SKC9F8RTa+0xW5tYfO4OMOvkOAkgWgzjj5QiO16eQ/IzTo3veVh6Xn7HelzSCPUyYj8G97FvkG99AqpWuFUXeIuQZtTFq5oMTG6x4zeFYamqKzNqVhDSYlw6PhNJ6X6S9IGjXEid7LNE+x3avi8JqYITYTmmssDCMNqkPZGY483F/RdIkC9nrzMySjjbvCKin7Kj3JZwbdsdgcmXfaKicDnFzm3zMO3z3hEGaJ9RI3UuCzimkL0akyP2VAtNRHuoZHZSthRYC3bQ4KTymSxMu63QyuUO/vHiuI3xfvK2RFLB2JReTaBu3x+88AoPZovfT8lEs7wjP+0rbMtc/GW5kZ7W2dfONR8iwc6TcmfBd2mdjSZmmZC0U8HRNw404+g2FFyYZKyMTELRf4yt3jizYFn3yh+60uN+HDY++CsxlHjRF20lTydA4M+tlBDxdlcRMZB4SLzbP4ZVxKnfSCO8GacZA+rXYzhCafTnQIiocSW/j//MEFOEpOypW41EItFmO73xsLv5UcNA/UoQ9+K0bUK+WK851kvN1VUhtuGMoHg/836VQeKWdDsrsBVKUvHOgw/5jr09F189flw28boxc6dgQF/ERzFEeZTGTWZKqyrJAvlpLtinrLsb3jlXOeKbKrWkdQrmdY/UkQ1M9nzPufTvW/qqKlvF7M8uCDC8F4TH8dzP/NupcyFwP7WrAJf8IBvHqyLJJSab2Bi6LJHhxx7xEpVXgYzqXOW6uJU9FmFlT53WRXXLQb6yc0+0F4M9uXYP2ZFPm3RcbZ4xuHqMeOmoly8jUQtdThxd9IQu9yrFDyl/lk9ShZGpGJ3L+5KOJF4Wy1/uUEo0JrvBPxKjrMMXYHDqG/V7l/GUVWF3cZ9Zu1IMz7KeIAvkBO0RIkHz5Okir0NzNGvxO9pJNMJ8CbDE3rBoe4dNvWEOLwCwvZoOvwNqkM3FbxZEZqZwMWEGIhG1CnHZzeXVnEvc21PF9S9eqLihuwZgnHx3YfmlLAmaTT3vQHgxBiq2+KYlbtRo+qlB2YYF9X4XcoqBcFwcYHjnfqorBo9IhEHwmSPAz66hA5Ma6QebnSBpf+LPfkuFIQ6poJNsEuNcfSxtW5boeQg1wRb22qYCFTBb9Zi5Q6BoDlkYw3sili4Aa4OJ8LXd8ANTjKuULx99iIh5gcz1iZhVsqusBEW6689BDf09iAdTy1utME7ssini7hMOu445vtIZzJBoWL0xdZe7UcKAfwrBP1SJ4wwnh+lOYLT+SO8U8cf6bQtVOy/0iVWC40thpzbECYeqKYFjajajOy5vxJ6FK504rBGQkLqSUBxTKqyptyxbzmh5On1YBE6MxQB/q4w0euA8sAAvMB2oEgAAAMB2QAABE5BmiJsQv/+jNMm/w+FI/ACM4cv2VMVLQgEWZiUK3sstJlTTIaarAPnO5LO6+8GmywGQUfV2sw9L084bbxYct6uMpWsa0vNd/nFjyUw6qXqG6EnaQOHgikdD+Sme3DfcHPvqhlDK8CC+HcuoTY88VoAB+GMAXDkLQK4RuKzctwxnsnoA2LIaUEWMlmVYX3bZTG02Eh86paSLNqoigWXG+yMej0EDjmpyo78VZpYOYwwARU8MuToQvFvk3xDqAirf1CbialInHeDYke578Qo1HKF3fUmODzdfuEiyc9D25AmnIS6z98fuCon9ODypd/IDHxzYp2zBfCRNDzSMgGpLsQJ99WEBxUYesHw7L61h5IAgL1ESyUPHPKri2I/m2sqU2ORhrsCp8ffVd9DqKgEAAAF5Xks6qa1RkaeW+s479PJZF7Wwahu+yOH8oVT54JrBkXnhfeRqK/rDkGX0oIl4Q8WbeFQm047ujcAuqOkmhh0GBCB18UPnpvYf+AgYy9I7EbNxaoQsuWLPd7iTQqMUeY3hxIBNs5SZglzz2K9q2wGV0Tp9P4kqjAUpd8PYAJbstnz41PaYd983U+S+EAVVUyHxG5MRIfwAR5GSn+vTh0N9Jt92T4opWqK/HC0CplNOE7ROWgoojNWrYM9Dvw3o0RoknfR8jpJVPoUS4oc9z93TE0+lZopRBzCKcJq7Gk9uHRxJ9kLZrkeCyknlc+zvM+pjee4zUmZKlT9cehFubafxiTF/QRrBibc3kLWvuIA7N28WWdIx3ngJBlx6JwzxX843ycHsn4eWjfI7t2aPEan1lWt+kMtzSTIi98EW+dw/nLNKgAAAwOjQ7nXbYB86QOA4wEMiIINdTEhEgvOMj6fy5QtRz1FaF09j/cnHi+PU9sLFeetYjqeAEBgdXPOSnu4maQUE8n2lyUqlZDXWwKk08ma7nk2BLR6n286Z7UA2qtITuKVrFhuPZoclOkoqmqPiBrBCgg9FQlqoZVvYPHU7nXw/MpN5hN1DfkDe7bS9qVt44Y3kuFb9OYdbAAuw6ZXsYUccWk14fY2Dw0H+urZXANC2bhS6+RbEIdybuPc/jFtVZv7UC2oWuLkhZ+i9hhHaKGYuf2jh/WW50BImPvFvO4qV9Nxlc7gF25M5ky4236KSyt1cmPjvEpGbS/q3LTZB3CoK7i8ZDfBdHc3D4D/9X2Tp/aoNGuZhhHXgBAEAeO7aFhpE0rUzD7jzcWpliVXV7gFU9a8yhC96Csg6ni94RyGj2TftSl8BK4ENuAdBwNTvblq9EkmHFeKotPIxOUE+o1PrHY2XXJA7RDcWcGqvUn9jU8+haHUImMyl/jYjZpVFZTVYrm5EARZhOYyLhbXFXYVxNGXowBoVLL6gROV+IyLY4RT4jKmGAVuPftRbEqAljBW9KFMMb2p8DP9wtb6OOWyshXLVB0t6/3IL2xYo2jcC6jPLCSJLAJpQ/yaAAAAYQGeQXkf/xTA95YvPA6gZMUAJHkm7ZPRNdkgRtDJMq/D4x0NieZBZYKKctDPBuZG1IBbx83g/ZIriMoAbIvVaHAm82QfPdysBgHm8xrPO8Ax84IZhLcFUApQ96xnvdQYDAkAAAEEQZpGPCGTKYQv//6M0pZBqHuoAsOpBYzgKYMdVfuK5ijvoXYS8rQAb9hpux6//mS+LeHyOZC8XyKSk7NP+PT2oz81JfLJpK2os6lPwHjxXASs1qlJotLFeNQAAAMDfRf04/Eqj6lm9/W5yhJiQOeI/esvebKqrIQOgDAKUVyFhEVt9aEcEju9Lt+Yinxav0wCgd73bVMuFYpcgabKFmX2I5gq+A1O9n8T+zSuU38Nsabg/Sw4Q0wXaMXLa4oWTSvT6VWwA7xnn/TKUq0c7om9/DdgrTD7A9UFZpdAftte8ohNarNt6zF/ZoJeI5sPhtlMEHpw/q7SFmWp5KkE5pMBo9QIyoAAAACGQZ5kalPCPw97BUDoVUv7KwASxZmJNRxeo5bOxXymUGALpZjLooEJX13Pvfb5DWn8q3ddtFQ/mzTfb2CKn+WY4jqs5G8FUC+CraONIQjDvqjxQPUgLzQEDNefDQjO01jtaF/YAA5r6/S7CEhKgkglvp5eg2tCsTiuqf76gdJeVY3uAthCgS8AAABtAZ6DdEf/FNsHuaYoJQAe+4aR1O7OkQmrQH7S6xI6sQPUUGxhFXAvGdZihfYratD+/yBy+Vx9Ix8cmcQK7thYkzxEhlyhMPRo5BKZnBkIgclE2ky0vG3+yciJDmxrhKfGk1kNmjdzkEUNko2BRQAAAGYBnoVqR/8UoAJ1wq5DVRzGuEACWzxldHuRxaC9YvEsfQ5cfXWNG38AvIoq7+1lWx5i2KH/K1dpqckkvSunNpNVhllskswgVO0zO0p3f7G6Fs2MydXaYZI2rp+Cp2QpbAkOaYwOYRsAAAEeQZqISahBaJlMFPDP/p4qM2sXh33/IAON64eFsed0iRh/t9dzxYwd0WFrn5QwOjBBMkR7ZbzZg3RofDoozQNrm03PbAAAAwAAAwAeyWhADoT6UxI/sNgeeRGNF0Rtx4a9OpFCUhXuzR8+BpnJUctanFPuCKRoEPHohQuVqn4cQ77talVUZiLZzJl+J0+6uduqcsLX7wp0HBpTWqx+/e7+hFD8lDFqVjWjjPuaCRZ69/UEyBDabdWrqLCbvZ2dBlVFTCXSxCvY+wOJE4mOiiFWdl0ppaA7wdjWNgBf+bMIIbSNb85iF34Wv6c1kjWUqnPRSSgLciDnY7IWedAmK7Dh1qGMEnTAFBJohRUYHx0rWJmRnwbdTXlpm6/X+JhhlQAAAGEBnqdqR/8VKnru7Q0iFS//EAJZqXF7ADoKjgdBQFVkMz4aHarPNBeI8a6XYzzRZwWWEdnLtPynmCBVJ3ypd8MVntmhuIkJcojkt/sndHwiPnoEbm5kHwCUV4llot8o2BDwAAABAUGarEnhClJlMCF//ozTM3+oL/EVYOhSOAEkcUpNBxFlQMIHZgv+RghMV6lVNlXn3pAeh6c8VV1QSEbDHIbAPtOqd4XBuVTuo2Lo7XjQxLWPVGGNPH/Sgpx7n5RFAAADAFTKrkTW6vXZ1oITrOJbOr4NDjSs5dKTiUl+b1zy6NvIY9grYFM7xxTK72FI8I318srIAFE1dJxDKfxzh3HY2SFl4M3n2C4c7bwNMZVhVAs6lZ1dd92tStNWi8hgDRa8LGWz23Y5uxWseWc2lazBbtVPWRdaoLDYY0NpKnSRV/BxG3oDizJW4v9Zr1TOqI2UVxrfP1o1Q5JZmbDQZ0CyAImAAAAAXEGeykU0TCP/DyYfUrN6wA6utop1p/HEqUrs8ePvJi3B3KE48VxGRnS1NMq1buLuWKOpf4KADvHgv5yC1v6T4pFRTLD7b9i80tIY7DkAlcagixM9DY0ARAqGoAbNAAAAWQGe6XRH/xTvohbprtKcVLpPxADCI6xG0ALM6FuS8qt3cT34R8HJp4VBwEkk07Jg7EIPFtQaXP6DwA/t4leD+dqzVh9hsq3/FaHUQIsIXlFKCesje7OYADAgAAAATgGe62pH/xT9T2CO6VK9fj7B/L2xMpgmgBJQV+9M1RKRs88qmKZE0+8QBqhgAIaS+fm4tYglBqsbqNu3CZCPcyw9kRB9DL381tDKOh46XgAAALZBmvBJqEFomUwIX//+jMZVQncCrseJ3fWDeawAjnia5lwU5ulrdll0VBCwAIiJUfICrasg3C0sCyqWTymJOuHSYD8Eh80ti1lrYSr7S7tOJlGiu3tW5xOs3eUFnk8hrdwLiLrvNArCzbUrh4+uCuib+oX6ywdEdpE7YpB3/f3tAysPgOVqM0Uf9V16pTxhL4orZ8dNwJS/DN58Msao5zlziG/gzB8XwvuyulDliTuvQJMTprIqYQAAAFdBnw5FESwj/w2xsipbngQyGe1jTZlHbkOwJZ0twBoTIw1WaLdACTTgvpaHMAtxUUc4Jv8lVHZAbCr9UbPhpHQ8ExMlAheJCi8w8oUlCFQsGChrpYpQG9EAAABSAZ8tdEf/EsTooFyU1bKSnQdNkTd4AB85/SNbrQoZliPxL0QZ+2ukXEfI4AEB0DD/7EHj16D8X3YAzXh7iZT7+K97kBF48rWuG+AqN1y3k8BNwQAAAD4Bny9qR/8S4UB1x4Kakfbgiv01FkjN/zWQ1iSagjNdcCzrAeF8BEtQ3srG9hSOv0YzSB4m3lvo8R3hZVhlwAAAAIlBmzRJqEFsmUwIX//+jMa6YUiP3owT84ql8h1i11WCDGWbjTOLif62uMBPgSJCQBXydovsl8ZZ/0VR78gfuuPHpDoV124uqWcTt5LYA+PZf3u0vZpzlgxey3trg878yCJsnYjuOKm602yKPv6aGzIp0kSsiiM+bhmzugGnZ7SWcSuvMpe24WnhiwAAAElBn1JFFSwj/w3w5WoVPxdeUEhcAtnTCC3TDqmu1iDlWQiICNREXj+3gM0/ZCiAvnfMqB5Elyf93+bktZMbBAcFhp7vz3zgAJeBAAAASAGfcXRH/xMER76ASSNgOmtW32AL8SvJ3tnTyYQIIzzk7hhm4BVnWywcdj4uJFGpC0FwETPj4dLgEEaZ/QlqskAAk8rjwHsDPgAAAEsBn3NqR/8DmI9lLMwAlobw8+iq+xOO22q1ND5SCYsN0U4yPLrwK7HZgf1fSYAx46Er9hX4wTmTjdBgN5y2YlVzZ5KX9sGeBwdAB3QAAAB7QZt2SahBbJlMFEwv//6MsAifw2GEC152oxAQ1tSQXGdRZZybliLExGRwuC1t+yOASkmaCFkz63fzHbZvlzsY3MEZR1rGh1TLV2eV7h7Ib2GxeEOjmEp2lZPQcDvB1aAEv9gsONTNItQmQxgUVYwgE3AAcPEoeoAPu6pvAAAARgGflWpH/wOcU9JJ25qgVY001VnEjz9/CchrMjVK26WM7I1JWv9/5QAe/8OoIhadnSA7ZHWhBWEk8wYh6TxsdErYugwAJuAAAACuQZuZSeEKUmUwIX/+jLACt0qS8yVEALa7bxzeX+xv0MI6LPY6Wk1I9ggh01AlNfAacy6PUTrd3nTm8bJwk5fmwu+0YCslHD21pZf+rR68C5O+03j0TqwvJWluH4brN8mGskVYmjfocOKOHQ5wIssTdNTSRsi/PyQQ7M8T9YuiQF5dzQrXvLwzAkmhF4LKJS6B8bTyePRO+UnhnSf1dChi9wABWj7/F24NQxr/fjjRAAAAP0Gft0U0TCP/AN0E7CWMY83yqvGVAhh8LiaQCXGWWeJA5PxDKKyc0+c8eZthpFVeAMdg4dSZzp5MnqiwBBoEHQAAADQBn9hqR/8Ba8p4rK3f2SjI3vBVjWYyNz+L+HajXO1kLb9vi2G/QW91PBpikoHLa1O8coEvAAAAeUGb3UmoQWiZTAhf//6MsAK77mep2SHPctbxo1ABBpzfprH2K3D7VzPwY/DpWKuaxIYKNRMf2w5fFsKa41FaTNGTgSweTcSC3sAlWuuaWbQb/I30s82hljmjSHgOgyVu8NKPcgnc1DoEjPvnlJA2KQ7wEpa9xr4g980AAABUQZ/7RREsI/8A4Dz3XRzaiwrjhDxMxpBRFOoOvWpgBYAezBnVm5Bij1aTleS+XRwsf6iS5yx5lBSlxWWGrzbcYsfvn2wpz59I/BZXo08A0OX0kALaAAAAPQGeGnRH/wFrFJOw648TTdh8sYK3W+KIgLLwAtbX+1f8KINYlJ2SAA9ALUnc+Lq8KN8tnn35X9Tx5uKUB3UAAABIAZ4cakf/AWvNN9Y+USgnIurKONUCPqO5LpdNtuLd7IMA/QzwAkAC6iH7dglDuAlIkKz5XSYrbuRGt0Jr53Kb+7N5L4RcACghAAAAhEGaAEmoQWyZTAhf//6MsAEJ+hUbdzUrPnjWzecoHfrrCXMHrDfe5gBYOV3jBurOpE9thL5T2tn4BzxKrR5/Ujl/lHWNHsR9FcXmJcz10CGSYEyvJVRjLxYgB8mjT3FvQ2XoIE6Oye+NyEfIuEI7t7txpt8fXweMldxDy9dBl5+QFhQJ/AAAAExBnj5FFSwj/wDi7jhhCW95noYYyHR6Y7/NuOQB0CQAk+55T9yDLFmvE359a8lueIvKNWWJ4oqPLLIucP7XLU6G+lsXOVv0UoLkKAJeAAAAQQGeX2pH/wFrzVNdTjr42maT8QYPk9DMwk0UKxO4kzVTwadNLAWNKsnOUNXI6crv2+RKX57SKC4/ZdpyYGihoC9hAAAAq0GaQ0moQWyZTAhf//6MsABlvW7c9xEWKRzID/IArh+KkJxl/oVaAjMAwHUxaskOhLvFOum8nZDjDTA7Vx/85NCMnr5f9WGwSnjHPrr9Ef7UErmMzwx9xN0SDWsa8z309JoCyMG4l1fsCB40U/fKANa5B7cD93+a+q13ZNXtEN7PzXQkCyoJfYThWFKupVOg7iL2LED0iDXBTwhJrcAocSZqyq3qUOZr6pTugAAAAEhBnmFFFSwj/wDi7j4oU3A4D+5PEPOpQelbWTtwuttVx3L1SEpIb0BdsQN07cjx/nbgNExB7x2PereR7a0ValnfpaPI55oyTPkAAAA/AZ6Cakf/AWvNUuXw5o6cHlo1KF57eYSY4CopTxnf/znNXbuqgLxEABwPYDGS83Kr/EhDtCEWrwGC/9+YwA7oAAAAc0GahkmoQWyZTAhf//6MsAAmPxOTnPgYqs1ANTcQ0+AHAQq7Jt8tgP2VUHbiLedfU1nluBfTO4mklFqnqBWF26OKhZQjFyUtz2U2HfZQc47rZHZTIjSjkIXHGAVidK8314wWSAS5tgq3rH+no1i3twAAj4EAAABRQZ6kRRUsI/8A4u48eyW0V3iJQf4EeesASJLPuKcqJMS1yxFhKs6xKB3OQAezItdGVR5nh/lLpJuIyaAX47g1Yax6QVmcAK0nnWKZk2evcFJBAAAAPQGexWpH/wFrzUjvF1asfm7yfq5ajyvp1ZzUVAB7tCwZ6oaY8LlO4fu0vTAITeVqEBu/fUhWbxlGSC8ADFkAAAB+QZrISahBbJlMFEwv//6MsAAOTwnTnM6nYzAe94jqhUJHL9R8xgqVFQdQpF2AGhTDvZ56YUkfF6rIl5n78Pe0sZSw5651wDtU1dZNyQD/nbYyDMCSfap0M3Nkp66SspgbvFoXKA05Rgws841f3WtvyNSckKwdsbjoJGamA2pvAAAARgGe52pH/wFsIIAg47jfNu+zEW8F1dmXPu7ZiHqFpfp9i8I3uX3Yu//3U47HCfqPgciRx32ADGbxcrXfZTOPKxlIwfXRAQsAAABYQZrqSeEKUmUwUsL//oywAAV32HzoxFgd9+eBeQ2PMIy8ogpQBqDLT8XYvEwgEII7UEcNc/pD0WsEzjZfgtoSoaZb83stK1Se5LMhZ7IhBDz0XAbW+A1vmAAAADgBnwlqR/8AAsXUFbAnfjuzbD5zO5eLecRBmVYDp2xR/HBoASud332iGteJT4OEttNEjeRiBn4F7wAAAT1Bmw1J4Q6JlMCF//6MsAACA9N6c5nU7QOm71mX9rp8mpeKc+MgBXNPASmiczaBofhuobDxgIZWN/Ji9MsISBGndIHi+QSizZTJjvuJwQeVP5qqKJvJEEMAD8Q30ytklbLhcPh9h5Ban2qDPyr7FWz3MeHPFFKw4j3euHZPs4Yy4v3kHTQYWUOlEoTYVJ24S6wrCBmOv3Ohu6CyIv+7BXUPhZ1jADRiofxDDFaWN3eFkgF1BiKUFzKNpwXQU0oVu2A6+/GovYLctRHxFGO1YCAmlVYBQHJ7WOUmLaZ8c3EZHAhY/J98k7KtHF+mZg2P/Q4qiCSv4h8Rr8JTM8tkARJ60j9YKJ049LdE4ZZoUCFZjywTtem7iWw1QH2+n5F6P08M3wl7FsVZTv4xn6f8RPaepTq+Zy/8faZ29SSVgAAAAGdBnytFFTwj/wAAqBrsvsMl2Zjkb7L4/BUjEFTrF4hgAaUl4mE9delZnKS94q4T8trGqF4PO0cq8ollnnywFUdW1q1p12a+8f2vrLlF7cb5vDqFX+7i9Iz7M66bKmpTOgQeEzb+8BqQAAAAiQGfTGpH/wABBcrwmkmOxtBTEMbWQ3PA2iOXCOs870WD4gAXNmgfgE0gIpdKxiL0eG8ucCtb3m1s3KjYC2DI5o10Wo4aFYmdc+xjoz74NpGL/bvn+uVqGdu0kGnYK80/dnftv67RRmVFjlPROgreb3xFOPgU6Fkp05+IP3EbCAVkBKkcCBuC3EPBAAAAxUGbUEmoQWiZTAhf//6MsAAAxn4bAHKg3dILrXsjyB2iTd1pmeD7IGqLXsfbec4J2JycZw6KRfpP6Y8PP0ZMMQOIsbQNU37uzR4WoUUHYRC5YrICQcGrFBNGLASKWefyUNEMnDTdTCZgFsBgBAL3bngfRuWHNgfubr4NAa/8WnPdZJZ61GW4CIBCxmriNLtKwNM1AxUTS2dN9rTw1bBl/b58A20KPh8BlDTHkBl2m3HLNOHExx2YyAsQ+vuwJklsCA4y6wrZAAAArkGfbkURLCP/AAA+LwFl+Q5JQ5PrptHthp/vagR/A3y+1PkGG579WPAA/dEIPt9yCZ4yhxmNfA3ClDyYn6QT8AsyjP9WmRxaZyq8d2h7MP58yE83MLqYVcvO32H1oiBtLomEloeq3QQiiZ8FPiDTG93gsKHRnTHnOUBWmBX5fipoIDTKWmAK0nnwmMfmz8Fy46QpSN/gXP0Q7um8OV1y3bJcCbvMiJ98QBGj0rZvQQAAAK0Bn49qR/8AAGSsHWHfhVIIrkD4JPy/Q2KyxQt65QYJiz//b7eGACdYaDzAaCYRpOCeYMqzbT1kGrSaY7hg8IGHAqmW8C9OxFU793hoecJsr9MXpa8EBNN+sj3dRYBXlTEXgFZK+p5Dtotv/TLNoPkbLP6cugDI6apER4MTNyx1tDejJmAwZAs3aHoz+8cw4Uyc/NnSQqa3ikxpETQEm2/0ENOMWOPY2/BN2gdDpgAAAMJBm5JJqEFsmUwUTC///oywAABKFEEiMYRE17LKZj6b0xvJTekaGFxeznt6O0M9NX9v77ziqTuLQn0PoNXJWwKQiBYvHfx+Y3quIEPJNjKfJSYveEtDBfeWuf5IaIMCkkBcBKWrJshK341FAJVvTFXDeC1ZEKXEh6gsbNxO6726LuHGMqQcIh0u4Uyj9dwuXdgcks1gHsXApVakyBWqPJvkYm05t8kgJ69u1xeY6ZixLm9cdUJGnUKOj2PYPFIuXaXtSAAAAJEBn7FqR/8AACXCBrXadXqzR7v1ptJETWZ/yD4dsi2zHbYXAC19M5UslBdxINa5hcrCSoks2/udYVUkPXF9SXiA9U017iVrBEss+DnbwSPvgJ6iT3gI11F3cNxaKqg8oyayXLT+l4fiQQKqjMMwsXvqGJqWM/GDgiyfogwFnmqp8s6E6BVLphqye+ION10343phAAAAwUGbtEnhClJlMFLC//6MsAAASnpvTXfHL+GXO4W88oWD42wAbqapcA/gyA0MCzcYVSha1Ke+cLatAi64hqDDygQvCkKIvpI9uzMqxrYvqJ+g36HYgVuNPeaiRNaIiA9IDQDwF8yotg5VX04h4EghYFQgQQkMO8R5wdgF4kX2bHJUPbO4mP1uXobf2tSrwPiFUIFETyfN9w5tHZhBC3eo5gF81kQTffBiAbjBvrApDI6M0mHJp1FrLWiWyyosazC2Q4AAAACRAZ/Takf/AAAlscot4Qydizafv9msu8KiHtFyn/md13ABLYqJybD6ZD/tJYmUoU4g8768AOiYE4Sg9CmGnPNeXbqpLp5V6kqF461EzlWfbjOrrscMaFYPyif5F2cWNLUt7rW3gCxBtM4pYR5JTW0V2h+xE8qj4qkazt3x38l90Sp0qACqMBaP1e+8SFRRCQPemAAAAQlBm9ZJ4Q6JlMFEwv/+jLAAABvFkyW/vz3gZd8ACg1b9pas8Zbl4q9qoQbf1wDFUt+ebuZjgPaR7EJuoNqDdDiPdGmq458QrfzRLZ0McSqKBf8LI4yc0SYx2Zk8iBUTYqWKKEfYharpJ8MEACaghIraJ8w9DmTAL0VA2OHB9TKBNeQWzZ0r/ZLTowX6LphJy77+mM/4mAlaxS4ofdtXwMBtBY7Ahrdn3JmVRZuq8l5DblXpkIVayJyo0zv4bsBs4U/qFYQ+A4lMNJgeyV0+71QC8X6mc6f1/KmJDSLJoDqGXFTmWvgcuGOvVnt9FxALhI/+oDuyxVOkzwvwYauPTD5S0DaFDQP6wxqRAAAAkgGf9WpH/wAADiTzuYW6dwmdehihTSpfO3+JBgzSyDqD/aVoYgKO/eez8/EEZsG6YABxuaXTyjpCvzYEELJnY5xkJ1mWhECbI4CxjFvbteavP0M4UFKPV8/ps7DrFtb2hjtzpRCXyIij71Yhk8SUd3NR2xYoJVqyUeF8jn7Wvxb5sDW5s8dFyqiuYX1hZM7wbumAAAAA1EGb+UnhDyZTAhn//p4QAAAbv2O500LRIGAfPrwWjmmK7Hir3FaoDr2nM4zzt4JlvchCGPCyV6l6eicS84rvBOX+1twT/fqNuAr01OOr/2yBFKsZ6vnUcrqTuURFzlS1TEUdG9rfdHoYBblMRjPQ9eBce+1dIyk/ji1SwzJq3NsrFB2y+pHpKK43tjrdNGCPvrdAx8p/3fko9Q64w5xcLqATMnL0IsTrNGfLQekKxg7m8X73MddQ94iph03XJjcZ5+an836eoeKXgNtIrE6vMppCw/PHAAAAlUGeF0URPCP/AAAI6/rtzH7yhq7b6GrWWxYuH/e+oASLyZ6KIcs2LDbTc7Bd7otenJMraHucEZXK7CqgxyJ5ZXYH+YcooiuqXKM7Gm+SSBtGArzvln1wP2fkHIPFbe2T4QXOuwUSv2kYVtIbzOTB0n3aasyvhiCNLwwabq4bY4/oSEa8V3bKCU7lCw2Gy0xOOVoGETZhAAAAjQGeOGpH/wAABYyishkvGWBei/dZy0pZpxAC+1PXPA28ghc85+rEEjYaPsBzO7uOmDAdxw+sWlek6hWc3UojsY+EV6eJS488nS31Chj8d1WAFWTl8tXWWFtnVlWuMvB3azLBJQ98oPG7Cpx6ehb4EwGTU3CLUsYyNzgTfrLlfl1P/Y6thjizj1XaBkKhHwAAAOZBmj1JqEFomUwIX//+jLAAAArgfZbmep2BWPTSGKizgEpwuy5pjZI1NvZarn+tdS5Y4gy86XmihokY/7/1eiW6xJARZ9JHfv6vwe4CIVsyBoxh9ppahxiHPV4CtskraZSfJqTc7ldPawOKnqV8J0J+zMV8b5xUUTU5ajwV65B4InurISBnTa5klYUyhcBzfSwRVfgd87HJJqTizKvPHU2BtP/yGf1F1+aSM6fMpn+u3XAdeDgNe4DgFkro0lHBV0BYAxSfMRz8KPBPbbxXofvn3Ul+Ktx5qZu95aaRm/ReIKfqQRa+DwAAALVBnltFESwj/wAAAwN0TVj17NEZp23NbL0UVFNLRIP2gFt1H84r+VcQFvDzzJMALuDVN/zXVv22YqovVliFVYwpQx481PzSTO4Yyg9chzF1I2kdjbvEHlvtjK2NqMYxWTJZ4s4p1C1lOptLMLGl+Pou4b/29cQ28K6AB8aKUeYAs1doYrqFX6YoosC4YdDj5GuhuAFwKb2SF8K8zlOpeMQnibvi0D+8SjOsVT+tgPonmaGTuorYAAAApQGeenRH/wAABYhSWI1vMkJR1pU33tP0CA93Lk6rU12E4mMAC2e0vL5QM8vgeY67h0jpcEoYxrNWo36EFJ8PaxfDK3rsEO6O3wzeAe6uTuXxFHJw9StpH6b1c/HJEEeAhCUMSn13aTx87x8lM8JZevx02KlcyvhIvgTtSZzQPtlc1YJDYBv7cSLaRWRKJpF6be3Bj49O+hWf/QxSZOEby8HLFzkFJQAAAJEBnnxqR/8AAAMCC5U9JRFfEOoXpAXZWElsJYafcExO12AAiDXvclZwUXfkYwDNN63iiiuFkstx0Hvt42rpe2cnnese8eDxNngktuXOQMuIAqQOBs0JO31EH/6bLqPKQ1ah7oN6lEnsD8kaGK2zK7+6c8W5WEjOiM+6QcGEiGsTmbMD006jEwzuePONBgZyKBIfAAABNkGaYUmoQWyZTAhf//6MsAAABAficnOfArjyb00ln5eqnUftQVPWDVojDiaWlkTXgAhvFIF7gm+P5r7k0UA5NYpb6Nx/HVAe62iL1itnL7NVlVCzgn/qHatJs5MyUY6TF1aKWeWJm8Gmwr3zJtR5IXBQm1OagbhHY+iJAm2Q+6nV9humQR5+6lbS5urhMqE/xA+F8NOnPDfo3ErZ0KV6evoNjPZAzdZWzqL1GGCgQXOLPzxqxhJ21H/95klh09iNCF1jJJpwFq3wzGtDswmCRf8KfYBdhvhB9+3Rv1FI1bAD6nKiIf/14KEZQWzfF6AGCOSwjpohWgEd4m0ABds2snvQnZoJnGEi/Zpjrvi9lr3tVl3z1xZr7CfOARYuzsw9syPgIOdvRCL2lYxcJRJMG8ZBNurvd+AAAAClQZ6fRRUsI/8AAAMBUFKsfjE7oSuWXct9x/j6ahMcdRYrACcYpLjs7BViRhQTTKR7IwUsDXrRYIrJtO9QOfDbkceDMzn7Eg0FY0Rj7JDs2Izn2qJaNsaKBPn1htiL+CLzqRSwEXVuxmSpUoHHlQIZsc1wYQXWkkRwFBt+bS5664/jVAjyhK+6GnhnHvvufpDpFjSUZX4xRi53/jXI8QCCstGvONmAAAAAhgGevnRH/wAAAwIKv3+XitFYE6k4a+X5XEeHW9VH160SnD4AW4KSgESOyBYwzymLVMSPvXk/zo1eHVrT1BNjh+edJdIPMVFPFi9CoCjDHNyfC6BRLjK065CuwBU+LNYFHF5LE9vmrUSb1JJ4OKJ3EGEJea/B/9QE4JCqk9Sse+8im8XJHBjtAAAAlwGeoGpH/wAAAwDOSHCjx7U/MzRNSQQtm/jcnohkoKx3nLd0A+sAFsvZOBKVDp9isVvcdZ3U5qOIM2NxvbcWiBqxCX3FPZJr1TBExEqreOE6/gvCzeF84vFi2H5oZ1fQDQUxtF4oBYiX2W4im06iStZKAcwk5QhD4VrtEghdrDp3fq+P85vP1GUx0Uj/Wkh5RcT5Bnlv9bMAAAEWQZqkSahBbJlMCF///oywAAADAYzhOmu+OX7REjSdlMOAFnHuhI+84cnXCgUHcw1xyOZwN8VTepJddIifyrM46l0OD3LmWRaFvC1Qmw4UC3HP9QpVqc5+//XmRHcXK6/YXKMCvHyoViWbS5P4//8EUWkdUCEv6YjM3dJZA/5EqCAQ+CMbf/jCLh2cLQwQmRWY3ojO72cwmKK/3xn23AGfPGnBupcppZsl37JBVedVTrWAfx9yFyqGkrt9byaFQjVaOgfm9ARQffAhriequ9y3DRigUpD0uybdYKWSQGyD8IzwtjPuh3aItljLI3yUGW7VM3y4z4m2YRjs0nFgitOJKfKWmKGAqgHHiAyvWkhRDo+aor+W8sEAAACfQZ7CRRUsI/8AAAMAfzb/r4e7ZFEsTsaNueFvBZltVJQAHEmSnY+b9QAXaWrsaS2K0GxpKl+n2q0Hm0Y6U2SG+i6hNnaTVRcTxyvCLVil6VvQbyDVlsLUJyUTsTm23teOv1zbOVfHMNugrKdrwpGtuP8D1y4o0QIcAo6YOsgPhigMnKhyEVryFg/nhrp4oLsgmm9IUXexQLArop0u0DiwAAAAkwGe42pH/wAAAwDOSs8hoVQEMxZP5hytYJH0gPvHLDDHlSoPP8AE7aXzAVUfyGQ/WqL27xwkjwNhG5u29ZgDvS0gneTEpHYVwFCQCYlhZjJys2Yfj8qth/KSekP/y4cW82s/72IXWelNz74yl7GJWfAbW2D5ANOF7LjqUDok/3z96xwWlNzDIV3rAo67UHkD7O1nwQAAAUZBmuhJqEFsmUwIX//+jLAAAAMAlFJ25W6EAJUnUWr/EA6HVKdS0M5G3Ff9Dq5Cv1/SutvX7umpscWTpxTqjvufqBkKdwCN3U//91cbTopusOTQNCu0T/dt1RlWOlt7NVNRlhmNV4vkOU+aB/CN26B9gFVGFk2bM/x/aYOiiXAVcJSacJPtcYPwTboBh9Z+qq7kfyXUVDEMEmC4qXnA1j1JSBoUTWhJrikSpAceovJwyk1vtrNnZYqMvww8t9egrcXjd9+XDs3nOq8HgOuNgEMboq8Ew2BFbu9d71DQDtXJbmSgpS2BNvNY3RRtBCFJiejCloe6pRHYHWl4I5TTbs0FnQInUweuMcghOIEfLZskrkR2y3Qb9b7W3E1xigIS0AC6BrRz8z+m1C/pLI7a9In+EPSj1Xv/95hIia3/a3WDaosN2hJAgQAAAMtBnwZFFSwj/wAAAwB/NzsanzBLh/8m2ACHzjeQFBaMnaU656aMLxgkVVBZ5W3hBSLdF+FWwfqPAKOpSUZoNDwT8nUL20HGn3fNbeif1aBWk/shXgjIkRp9g/Q/6FecWJ7+Tupl50BY6Vt5LCC+Dz0JIABBYzYYFetrWh6IMOil5DzXL1M1yjm6u3vS8xjldrEw0r9+M2AJOFSeHOQBCy1LWdTjVzcb/wKaCk6QkmFWQPsGHvysYyDN28mwVww1wFxapuQrk2CyWOAkgQAAAJQBnyV0R/8AAAMAzeIxOlDa+ebjrCxf5NQAPA+/qMxIETrgrYePFPlgRR+FxguuNlhTbEB5LhMikfHKTdoYT+A82PktmSIa0JVVnpuLGmZRd+VJeGhwsSJG7B8wAgqxADopMEUfeghRUI/7O3zrhFl4Ddd+N/XLFXplPvgqgpAKzRkKSEaZZk3ec54FCswF9yNjCTphAAAApwGfJ2pH/wAAAwDOSqiEEQ+lRMBQ8ggAnQ/TXyZq+syI3DkGa3wPWdTkk1syoiOjdJfwZYvyIVpE2l+WCg0xUnR4uNKEiXjPJdgkOMDWIZ7BWIutrjJzzx9ZSc+n9eSZauAUuaq2EgicR011KUi+3zq8kgJ0bp3nio3nGOc8AM0yGwWSGZ0FnYveLEMz97ixag9VFeQ0z1K5PGGgJLah2qnsGKn/Tj7gAAABPUGbLEmoQWyZTAhP//3xAAADAAIM8MyeNWhB4AQnOamM9paiW4jH4+Bg8c8JdpPx0zbyr8rjAlyOaZcEF5x8bMAIB7RveX0TFYbw6cwpMs5gEeLE8f9SyfPTiEU/YToC6ofbNqjRL2fFibKmwJHJWlVDdmPMb+HB2OEkEOYVEfZduXt94bIgPzxN00jOYzAoBxqyI1B7vuIQSCaRMrIAZ2YnxFLHEpzZUtER4XIv8/yEyZZy2F0SZlM37q4XcbHmkC2+gf5VpaSZxJ1jIIN0Dm9qAQnCBJiSsstvgkJ4AYld2CPQt13dTgvAfN0mv1nzifAE/+h+jMmum8qHsU/6d3YHtPnBQ7Tuh3a5miERl0wEV9sWOwpdGcZe2bSdBRMPB+3aJWqfozO1BGPoMNdeOIWH4kA/ZdoHBqewe4zAAAAApEGfSkUVLCP/AAADAH83OxqfNYvmJvGdS8VoW7NueOwATEIDNSmMVRBwyZdmyfOn+/6e3SCALP4EQrKO8uY+yjVR92f+vE2O3nWiYbaf4HwC3ht0sOhbfm8FQpXYAaLS+aRk1PigVKW6+iZiDtS29AOI1buzfeJnOmGMpq+ycP/2Zxh6GWjRsYCVF5W8zl0z4vhkg3Ke6Cajn7GY3L5gTDtpT5gRAAAAgwGfaXRH/wAAAwDN4jE6UtKs8OEwEABBDIxeVPSn7u5aPWcOtEe+/IrPowIkoM8QXyzztE1LoQmd3w4vrMNZQrV6blYRovf/J8UEg/yVZkLu/kari/Xv2+FYVkgR5hL74scaS2ETOHfu2Fb9uBNukBJByriSAlAwxm/nFJODgBaMBN2AAAAAbgGfa2pH/wAAAwDOSqiEENJy83vedAB+bcgA9ZIlYNH9FzOFIn7ZXUwHetTTdMPsfp+clHkpymLVztjusEdHRspxulIyqfA7HUgMvmeMRXtj+NrzgeQeIM8ZYZxkNHUgyxGqneqdMtApxAFNC/lAAAAAgkGbbkmoQWyZTBRMf/yEAAADAAzojItiXoWZjfTUnFzmD0H8AE1FWqMY8o1Bx8roxcbKYwx2bEx4BHrYTeHr5hWXdRNDXekrJfG93FMhFr/rNFgIg1BB5dcspbHoKPftgBTKEPIf2PfBxtMJ9BpTx6IXUpC5cIu9pj1RtQ+y64sTrxcAAABWAZ+Nakf/AAADAM55RP9HBU51wATV3iT83vES/PCnhYj+Bh4s87qD0A0CYOSpBOvVDaarqMZfiujbwb3QlrHYgUSKuBnD7rlNS6oyeg02WCsQfjJHbPkAAAafbW9vdgAAAGxtdmhkAAAAAAAAAAAAAAAAAAAD6AAABiwAAQAAAQAAAAAAAAAAAAAAAAEAAAAAAAAAAAAAAAAAAAABAAAAAAAAAAAAAAAAAABAAAAAAAAAAAAAAAAAAAAAAAAAAAAAAAAAAAAAAAAAAgAABcl0cmFrAAAAXHRraGQAAAADAAAAAAAAAAAAAAABAAAAAAAABiwAAAAAAAAAAAAAAAAAAAAAAAEAAAAAAAAAAAAAAAAAAAABAAAAAAAAAAAAAAAAAABAAAAAAlgAAAGQAAAAAAAkZWR0cwAAABxlbHN0AAAAAAAAAAEAAAYsAAACAAABAAAAAAVBbWRpYQAAACBtZGhkAAAAAAAAAAAAAAAAAAAyAAAATwBVxAAAAAAALWhkbHIAAAAAAAAAAHZpZGUAAAAAAAAAAAAAAABWaWRlb0hhbmRsZXIAAAAE7G1pbmYAAAAUdm1oZAAAAAEAAAAAAAAAAAAAACRkaW5mAAAAHGRyZWYAAAAAAAAAAQAAAAx1cmwgAAAAAQAABKxzdGJsAAAAsHN0c2QAAAAAAAAAAQAAAKBhdmMxAAAAAAAAAAEAAAAAAAAAAAAAAAAAAAAAAlgBkABIAAAASAAAAAAAAAABAAAAAAAAAAAAAAAAAAAAAAAAAAAAAAAAAAAAAAAAAAAAGP//AAAANmF2Y0MBZAAf/+EAGWdkAB+s2UCYM+XhAAADAAEAAAMAZA8YMZYBAAZo6+PLIsD9+PgAAAAAFGJ0cnQAAAAAAAEesAABHrAAAAAYc3R0cwAAAAAAAAABAAAATwAAAQAAAAAUc3RzcwAAAAAAAAABAAAAAQAAAkhjdHRzAAAAAAAAAEcAAAABAAACAAAAAAEAAAMAAAAAAQAAAQAAAAABAAAFAAAAAAEAAAIAAAAAAQAAAAAAAAABAAABAAAAAAEAAAMAAAAAAQAAAQAAAAABAAAFAAAAAAEAAAIAAAAAAQAAAAAAAAABAAABAAAAAAEAAAUAAAAAAQAAAgAAAAABAAAAAAAAAAEAAAEAAAAAAQAABQAAAAABAAACAAAAAAEAAAAAAAAAAQAAAQAAAAABAAADAAAAAAEAAAEAAAAAAQAABAAAAAACAAABAAAAAAEAAAUAAAAAAQAAAgAAAAABAAAAAAAAAAEAAAEAAAAAAQAABAAAAAACAAABAAAAAAEAAAQAAAAAAgAAAQAAAAABAAAEAAAAAAIAAAEAAAAAAQAAAwAAAAABAAABAAAAAAEAAAMAAAAAAQAAAQAAAAABAAAEAAAAAAIAAAEAAAAAAQAABAAAAAACAAABAAAAAAEAAAMAAAAAAQAAAQAAAAABAAADAAAAAAEAAAEAAAAAAQAAAwAAAAABAAABAAAAAAEAAAQAAAAAAgAAAQAAAAABAAAFAAAAAAEAAAIAAAAAAQAAAAAAAAABAAABAAAAAAEAAAUAAAAAAQAAAgAAAAABAAAAAAAAAAEAAAEAAAAAAQAABAAAAAACAAABAAAAAAEAAAUAAAAAAQAAAgAAAAABAAAAAAAAAAEAAAEAAAAAAQAABQAAAAABAAACAAAAAAEAAAAAAAAAAQAAAQAAAAABAAADAAAAAAEAAAEAAAAAHHN0c2MAAAAAAAAAAQAAAAEAAABPAAAAAQAAAVBzdHN6AAAAAAAAAAAAAABPAAAIgAAABFIAAABlAAABCAAAAIoAAABxAAAAagAAASIAAABlAAABBQAAAGAAAABdAAAAUgAAALoAAABbAAAAVgAAAEIAAACNAAAATQAAAEwAAABPAAAAfwAAAEoAAACyAAAAQwAAADgAAAB9AAAAWAAAAEEAAABMAAAAiAAAAFAAAABFAAAArwAAAEwAAABDAAAAdwAAAFUAAABBAAAAggAAAEoAAABcAAAAPAAAAUEAAABrAAAAjQAAAMkAAACyAAAAsQAAAMYAAACVAAAAxQAAAJUAAAENAAAAlgAAANgAAACZAAAAkQAAAOoAAAC5AAAAqQAAAJUAAAE6AAAAqQAAAIoAAACbAAABGgAAAKMAAACXAAABSgAAAM8AAACYAAAAqwAAAUEAAACoAAAAhwAAAHIAAACGAAAAWgAAABRzdGNvAAAAAAAAAAEAAAAwAAAAYnVkdGEAAABabWV0YQAAAAAAAAAhaGRscgAAAAAAAAAAbWRpcmFwcGwAAAAAAAAAAAAAAAAtaWxzdAAAACWpdG9vAAAAHWRhdGEAAAABAAAAAExhdmY1OC43Ni4xMDA=\" type=\"video/mp4\" />\n",
              "             </video>"
            ]
          },
          "metadata": {}
        }
      ]
    },
    {
      "cell_type": "code",
      "metadata": {
        "id": "5_s-PLo4YHSQ",
        "colab": {
          "base_uri": "https://localhost:8080/",
          "height": 476
        },
        "outputId": "2268a75a-0050-4ba1-c876-5238ae699d4a"
      },
      "source": [
        "env = wrap_env(env) # оборачиваем наше окружения для записи видео\n",
        "# env.seed(0)\n",
        "observation = env.reset() # обнуляем вектор наблюдения\n",
        "\n",
        "action = 0\n",
        "done = False # стартовое значение\n",
        "while done == False: # пока верно, цикл идет\n",
        "    env.render() # Рендер окружения\n",
        "    # В качестве действия будем подавать значения нашего лучшего бота\n",
        "    # остлеживаем все параметры для подсчета функции значения\n",
        "    observation,reward,done,_ = env.step(action)\n",
        "    result = np.dot(observation,popul[0])\n",
        "    action = np.argmax(result)\n",
        "\n",
        "env.close()\n",
        "show_video()"
      ],
      "execution_count": null,
      "outputs": [
        {
          "output_type": "stream",
          "name": "stderr",
          "text": [
            "/usr/local/lib/python3.10/dist-packages/ipykernel/ipkernel.py:283: DeprecationWarning: `should_run_async` will not call `transform_cell` automatically in the future. Please pass the result to `transformed_cell` argument and any exception that happen during thetransform in `preprocessing_exc_tuple` in IPython 7.17 and above.\n",
            "  and should_run_async(code)\n"
          ]
        },
        {
          "output_type": "display_data",
          "data": {
            "text/plain": [
              "<IPython.core.display.HTML object>"
            ],
            "text/html": [
              "<video alt=\"test\" autoplay\n",
              "                loop controls style=\"height: 400px;\">\n",
              "                <source src=\"data:video/mp4;base64,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\" type=\"video/mp4\" />\n",
              "             </video>"
            ]
          },
          "metadata": {}
        }
      ]
    },
    {
      "cell_type": "markdown",
      "metadata": {
        "id": "yowlxQbeZpg8"
      },
      "source": [
        "Мы получили вполне умелого бота!!"
      ]
    },
    {
      "cell_type": "markdown",
      "metadata": {
        "id": "qYlrpl9f4FEL"
      },
      "source": [
        "**Содержание**:\n",
        "\n",
        "1. [Теория](https://colab.research.google.com/drive/1pMqzLFl-moKOQVb113-OB8W4pp7wLSQg?usp=sharing)\n",
        "2. [Практический ноутбук 1](https://colab.research.google.com/drive/1lxksinATGNYlSFbs4ly3jauCDd6voGwF?usp=sharing)\n",
        "2. Практический ноутбук 2"
      ]
    }
  ]
}