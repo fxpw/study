{
  "nbformat": 4,
  "nbformat_minor": 0,
  "metadata": {
    "colab": {
      "provenance": []
    },
    "kernelspec": {
      "name": "python3",
      "display_name": "Python 3"
    },
    "language_info": {
      "name": "python"
    }
  },
  "cells": [
    {
      "cell_type": "markdown",
      "metadata": {
        "id": "j6wXQHNqayHI"
      },
      "source": [
        "**Содержание темы**\n",
        "\n",
        "1. [Часть 1](https://colab.research.google.com/drive/1hDsnhZV2Gc2djNEKmA86L0AmlJlX1pE6?usp=sharing)\n",
        "\n",
        "2. Часть 2\n",
        "\n",
        "\n",
        "3. [Часть 3](https://colab.research.google.com/drive/1JQhIKGzVu4AWg3EUhfMX8aFGDxBLHKhz?usp=sharing)\n"
      ]
    },
    {
      "cell_type": "markdown",
      "metadata": {
        "id": "u7aSELGvLNns"
      },
      "source": [
        "# Синтаксис **Python**\n"
      ]
    },
    {
      "cell_type": "markdown",
      "metadata": {
        "id": "6gqKc_PD7sey"
      },
      "source": [
        "Вы продолжаете знакомство с синтаксисом языка **Python**. Пройденный материал уже позволяет вам создавать небольшие программы, общаться с пользователем при помощи функций ввода (`input()`) и вывода (`print()`) информации.\n",
        "\n",
        "Далее вы пополните свои знания дополнительными возможностями и инструментами, которые станут незаменимыми помощниками в знакомстве с нейронными сетями."
      ]
    },
    {
      "cell_type": "markdown",
      "metadata": {
        "id": "9xKmOjVFMFYJ"
      },
      "source": [
        "##Циклы"
      ]
    },
    {
      "cell_type": "markdown",
      "metadata": {
        "id": "WIfyR-gL5ozh"
      },
      "source": [
        "Перед вами стоит задача: вывести на экран числа от 1 до 50. Писать 50 раз функцию `print()` – неудобно, это займет много времени. Вам помогут **циклы**.\n",
        "\n",
        "Циклы в языках программирования используются для повторения какого-либо действия несколько раз. Вы рассмотрите два вида циклов: `while` и `for`.\n"
      ]
    },
    {
      "cell_type": "markdown",
      "metadata": {
        "id": "zgedpAIQ56qW"
      },
      "source": [
        "<h1> <strong> Цикл while </strong> </h1>"
      ]
    },
    {
      "cell_type": "markdown",
      "metadata": {
        "id": "yls83J8V6ijw"
      },
      "source": [
        "Цикл `while` выполняет команды внутри своего блока пока условие, заданное для этого цикла, истинно. Рассмотрим синтаксис цикла `while`:\n",
        "\n",
        "    while логическое_условие:\n",
        "        блок кода\n",
        "        (повторяется, пока логическое_условие истинно)\n",
        "\n",
        "\n",
        "С английского \"**while**\" переводится как \"**пока**\". То есть вы буквально говорите вашему компьютеру:\n",
        "\n",
        "    пока логическое условие истинно\n",
        "        повторяй это"
      ]
    },
    {
      "cell_type": "markdown",
      "metadata": {
        "id": "yejsml6xYO7X"
      },
      "source": [
        "Пример:"
      ]
    },
    {
      "cell_type": "code",
      "metadata": {
        "id": "zxoU1A79Y4Zc",
        "colab": {
          "base_uri": "https://localhost:8080/"
        },
        "outputId": "161a7ab0-fd73-41bf-e61c-24a913343a31"
      },
      "source": [
        "# Создание переменной-счетчика для чисел от 1 до 50\n",
        "counter = 1\n",
        "\n",
        "while counter < 51:                       # Пока счетчик меньше 51\n",
        "    print(counter)                        # Вывод на экран значения счетчика\n",
        "    counter += 1                          # Увеличение значения счетчика на единицу"
      ],
      "execution_count": null,
      "outputs": [
        {
          "output_type": "stream",
          "name": "stdout",
          "text": [
            "1\n",
            "2\n",
            "3\n",
            "4\n",
            "5\n",
            "6\n",
            "7\n",
            "8\n",
            "9\n",
            "10\n",
            "11\n",
            "12\n",
            "13\n",
            "14\n",
            "15\n",
            "16\n",
            "17\n",
            "18\n",
            "19\n",
            "20\n",
            "21\n",
            "22\n",
            "23\n",
            "24\n",
            "25\n",
            "26\n",
            "27\n",
            "28\n",
            "29\n",
            "30\n",
            "31\n",
            "32\n",
            "33\n",
            "34\n",
            "35\n",
            "36\n",
            "37\n",
            "38\n",
            "39\n",
            "40\n",
            "41\n",
            "42\n",
            "43\n",
            "44\n",
            "45\n",
            "46\n",
            "47\n",
            "48\n",
            "49\n",
            "50\n"
          ]
        }
      ]
    },
    {
      "cell_type": "markdown",
      "metadata": {
        "id": "j-WYc1SxQ207"
      },
      "source": [
        "Здесь необходимо пояснить работу оператора: `+= 1`.\n",
        "\n",
        "В данном случае вы увеличиваете значение переменной на единицу. Другими словами, запись:\n",
        "\n",
        "        counter += 1   \n",
        "\n",
        "аналогична следующей:\n",
        "\n",
        "        counter = counter + 1   \n",
        "\n",
        "Подобный подход можно применить для большинства арифметических операций (`-=`, `*=`, `%=` и т.п.)"
      ]
    },
    {
      "cell_type": "markdown",
      "metadata": {
        "id": "bfJ39LOhqFEy"
      },
      "source": [
        "Показанный выше цикл позволил вам с легкостью вывести числа от 1 до 50. И вам потребовалось для этого не 50 строк кода, а всего 4.\n",
        "\n",
        "Однако при использовании этого цикла можно попасть в ловушку: если условие цикла всегда будет истинным, то он будет работать бесконечно. То есть ваша программа зависнет, \"зациклится\". Запустите ячейку ниже:"
      ]
    },
    {
      "cell_type": "code",
      "metadata": {
        "colab": {
          "base_uri": "https://localhost:8080/",
          "height": 658
        },
        "id": "EslEu1eMqzL7",
        "outputId": "53939868-c59e-47fa-88bd-d1ecd5eebfe5"
      },
      "source": [
        "counter = 0\n",
        "while counter < 5:\n",
        "    input(\"Введите число: \")"
      ],
      "execution_count": null,
      "outputs": [
        {
          "name": "stdout",
          "output_type": "stream",
          "text": [
            "Введите число: 5\n",
            "Введите число: 4\n",
            "Введите число: 2\n",
            "Введите число: 7\n",
            "Введите число: 345\n",
            "Введите число: -2\n",
            "Введите число: 6\n"
          ]
        },
        {
          "output_type": "error",
          "ename": "KeyboardInterrupt",
          "evalue": "ignored",
          "traceback": [
            "\u001b[0;31m---------------------------------------------------------------------------\u001b[0m",
            "\u001b[0;31mKeyboardInterrupt\u001b[0m                         Traceback (most recent call last)",
            "\u001b[0;32m/usr/local/lib/python3.7/dist-packages/ipykernel/kernelbase.py\u001b[0m in \u001b[0;36m_input_request\u001b[0;34m(self, prompt, ident, parent, password)\u001b[0m\n\u001b[1;32m    728\u001b[0m             \u001b[0;32mtry\u001b[0m\u001b[0;34m:\u001b[0m\u001b[0;34m\u001b[0m\u001b[0;34m\u001b[0m\u001b[0m\n\u001b[0;32m--> 729\u001b[0;31m                 \u001b[0mident\u001b[0m\u001b[0;34m,\u001b[0m \u001b[0mreply\u001b[0m \u001b[0;34m=\u001b[0m \u001b[0mself\u001b[0m\u001b[0;34m.\u001b[0m\u001b[0msession\u001b[0m\u001b[0;34m.\u001b[0m\u001b[0mrecv\u001b[0m\u001b[0;34m(\u001b[0m\u001b[0mself\u001b[0m\u001b[0;34m.\u001b[0m\u001b[0mstdin_socket\u001b[0m\u001b[0;34m,\u001b[0m \u001b[0;36m0\u001b[0m\u001b[0;34m)\u001b[0m\u001b[0;34m\u001b[0m\u001b[0;34m\u001b[0m\u001b[0m\n\u001b[0m\u001b[1;32m    730\u001b[0m             \u001b[0;32mexcept\u001b[0m \u001b[0mException\u001b[0m\u001b[0;34m:\u001b[0m\u001b[0;34m\u001b[0m\u001b[0;34m\u001b[0m\u001b[0m\n",
            "\u001b[0;32m/usr/local/lib/python3.7/dist-packages/jupyter_client/session.py\u001b[0m in \u001b[0;36mrecv\u001b[0;34m(self, socket, mode, content, copy)\u001b[0m\n\u001b[1;32m    802\u001b[0m         \u001b[0;32mtry\u001b[0m\u001b[0;34m:\u001b[0m\u001b[0;34m\u001b[0m\u001b[0;34m\u001b[0m\u001b[0m\n\u001b[0;32m--> 803\u001b[0;31m             \u001b[0mmsg_list\u001b[0m \u001b[0;34m=\u001b[0m \u001b[0msocket\u001b[0m\u001b[0;34m.\u001b[0m\u001b[0mrecv_multipart\u001b[0m\u001b[0;34m(\u001b[0m\u001b[0mmode\u001b[0m\u001b[0;34m,\u001b[0m \u001b[0mcopy\u001b[0m\u001b[0;34m=\u001b[0m\u001b[0mcopy\u001b[0m\u001b[0;34m)\u001b[0m\u001b[0;34m\u001b[0m\u001b[0;34m\u001b[0m\u001b[0m\n\u001b[0m\u001b[1;32m    804\u001b[0m         \u001b[0;32mexcept\u001b[0m \u001b[0mzmq\u001b[0m\u001b[0;34m.\u001b[0m\u001b[0mZMQError\u001b[0m \u001b[0;32mas\u001b[0m \u001b[0me\u001b[0m\u001b[0;34m:\u001b[0m\u001b[0;34m\u001b[0m\u001b[0;34m\u001b[0m\u001b[0m\n",
            "\u001b[0;32m/usr/local/lib/python3.7/dist-packages/zmq/sugar/socket.py\u001b[0m in \u001b[0;36mrecv_multipart\u001b[0;34m(self, flags, copy, track)\u001b[0m\n\u001b[1;32m    624\u001b[0m         \"\"\"\n\u001b[0;32m--> 625\u001b[0;31m         \u001b[0mparts\u001b[0m \u001b[0;34m=\u001b[0m \u001b[0;34m[\u001b[0m\u001b[0mself\u001b[0m\u001b[0;34m.\u001b[0m\u001b[0mrecv\u001b[0m\u001b[0;34m(\u001b[0m\u001b[0mflags\u001b[0m\u001b[0;34m,\u001b[0m \u001b[0mcopy\u001b[0m\u001b[0;34m=\u001b[0m\u001b[0mcopy\u001b[0m\u001b[0;34m,\u001b[0m \u001b[0mtrack\u001b[0m\u001b[0;34m=\u001b[0m\u001b[0mtrack\u001b[0m\u001b[0;34m)\u001b[0m\u001b[0;34m]\u001b[0m\u001b[0;34m\u001b[0m\u001b[0;34m\u001b[0m\u001b[0m\n\u001b[0m\u001b[1;32m    626\u001b[0m         \u001b[0;31m# have first part already, only loop while more to receive\u001b[0m\u001b[0;34m\u001b[0m\u001b[0;34m\u001b[0m\u001b[0;34m\u001b[0m\u001b[0m\n",
            "\u001b[0;32mzmq/backend/cython/socket.pyx\u001b[0m in \u001b[0;36mzmq.backend.cython.socket.Socket.recv\u001b[0;34m()\u001b[0m\n",
            "\u001b[0;32mzmq/backend/cython/socket.pyx\u001b[0m in \u001b[0;36mzmq.backend.cython.socket.Socket.recv\u001b[0;34m()\u001b[0m\n",
            "\u001b[0;32mzmq/backend/cython/socket.pyx\u001b[0m in \u001b[0;36mzmq.backend.cython.socket._recv_copy\u001b[0;34m()\u001b[0m\n",
            "\u001b[0;32m/usr/local/lib/python3.7/dist-packages/zmq/backend/cython/checkrc.pxd\u001b[0m in \u001b[0;36mzmq.backend.cython.checkrc._check_rc\u001b[0;34m()\u001b[0m\n",
            "\u001b[0;31mKeyboardInterrupt\u001b[0m: ",
            "\nDuring handling of the above exception, another exception occurred:\n",
            "\u001b[0;31mKeyboardInterrupt\u001b[0m                         Traceback (most recent call last)",
            "\u001b[0;32m<ipython-input-2-9c522567b95e>\u001b[0m in \u001b[0;36m<module>\u001b[0;34m()\u001b[0m\n\u001b[1;32m      1\u001b[0m \u001b[0mcounter\u001b[0m \u001b[0;34m=\u001b[0m \u001b[0;36m0\u001b[0m\u001b[0;34m\u001b[0m\u001b[0;34m\u001b[0m\u001b[0m\n\u001b[1;32m      2\u001b[0m \u001b[0;32mwhile\u001b[0m \u001b[0mcounter\u001b[0m \u001b[0;34m<\u001b[0m \u001b[0;36m5\u001b[0m\u001b[0;34m:\u001b[0m\u001b[0;34m\u001b[0m\u001b[0;34m\u001b[0m\u001b[0m\n\u001b[0;32m----> 3\u001b[0;31m     \u001b[0minput\u001b[0m\u001b[0;34m(\u001b[0m\u001b[0;34m\"Введите число: \"\u001b[0m\u001b[0;34m)\u001b[0m\u001b[0;34m\u001b[0m\u001b[0;34m\u001b[0m\u001b[0m\n\u001b[0m",
            "\u001b[0;32m/usr/local/lib/python3.7/dist-packages/ipykernel/kernelbase.py\u001b[0m in \u001b[0;36mraw_input\u001b[0;34m(self, prompt)\u001b[0m\n\u001b[1;32m    702\u001b[0m             \u001b[0mself\u001b[0m\u001b[0;34m.\u001b[0m\u001b[0m_parent_ident\u001b[0m\u001b[0;34m,\u001b[0m\u001b[0;34m\u001b[0m\u001b[0;34m\u001b[0m\u001b[0m\n\u001b[1;32m    703\u001b[0m             \u001b[0mself\u001b[0m\u001b[0;34m.\u001b[0m\u001b[0m_parent_header\u001b[0m\u001b[0;34m,\u001b[0m\u001b[0;34m\u001b[0m\u001b[0;34m\u001b[0m\u001b[0m\n\u001b[0;32m--> 704\u001b[0;31m             \u001b[0mpassword\u001b[0m\u001b[0;34m=\u001b[0m\u001b[0;32mFalse\u001b[0m\u001b[0;34m,\u001b[0m\u001b[0;34m\u001b[0m\u001b[0;34m\u001b[0m\u001b[0m\n\u001b[0m\u001b[1;32m    705\u001b[0m         )\n\u001b[1;32m    706\u001b[0m \u001b[0;34m\u001b[0m\u001b[0m\n",
            "\u001b[0;32m/usr/local/lib/python3.7/dist-packages/ipykernel/kernelbase.py\u001b[0m in \u001b[0;36m_input_request\u001b[0;34m(self, prompt, ident, parent, password)\u001b[0m\n\u001b[1;32m    732\u001b[0m             \u001b[0;32mexcept\u001b[0m \u001b[0mKeyboardInterrupt\u001b[0m\u001b[0;34m:\u001b[0m\u001b[0;34m\u001b[0m\u001b[0;34m\u001b[0m\u001b[0m\n\u001b[1;32m    733\u001b[0m                 \u001b[0;31m# re-raise KeyboardInterrupt, to truncate traceback\u001b[0m\u001b[0;34m\u001b[0m\u001b[0;34m\u001b[0m\u001b[0;34m\u001b[0m\u001b[0m\n\u001b[0;32m--> 734\u001b[0;31m                 \u001b[0;32mraise\u001b[0m \u001b[0mKeyboardInterrupt\u001b[0m\u001b[0;34m\u001b[0m\u001b[0;34m\u001b[0m\u001b[0m\n\u001b[0m\u001b[1;32m    735\u001b[0m             \u001b[0;32melse\u001b[0m\u001b[0;34m:\u001b[0m\u001b[0;34m\u001b[0m\u001b[0;34m\u001b[0m\u001b[0m\n\u001b[1;32m    736\u001b[0m                 \u001b[0;32mbreak\u001b[0m\u001b[0;34m\u001b[0m\u001b[0;34m\u001b[0m\u001b[0m\n",
            "\u001b[0;31mKeyboardInterrupt\u001b[0m: "
          ]
        }
      ]
    },
    {
      "cell_type": "markdown",
      "metadata": {
        "id": "nORM10jqrFjz"
      },
      "source": [
        "Такая программа будет выполнять команды внутри цикла до тех пор, пока вы ее принудительно не остановите, что и вызовет ошибку.\n",
        "\n",
        "Чтобы принудительно остановить выполнение программы, нажмите на кнопку «Стоп» в левой части ячейки с кодом.\n",
        "\n",
        "Исправьте код выше, чтобы программа запрашивала от пользователя число всего 5 раз. Для этого достаточно добавить всего одну строку кода."
      ]
    },
    {
      "cell_type": "code",
      "metadata": {
        "id": "E9lSuoBVtLtD",
        "colab": {
          "base_uri": "https://localhost:8080/"
        },
        "outputId": "55f9b002-466a-4628-eb2e-695e85842b09"
      },
      "source": [
        "counter = 0\n",
        "while counter < 5:\n",
        "    input(\"Введите число: \")\n",
        "    counter += 1"
      ],
      "execution_count": null,
      "outputs": [
        {
          "name": "stdout",
          "output_type": "stream",
          "text": [
            "Введите число: 4\n",
            "Введите число: 3\n",
            "Введите число: 2\n",
            "Введите число: -6\n",
            "Введите число: -345\n"
          ]
        }
      ]
    },
    {
      "cell_type": "markdown",
      "metadata": {
        "id": "pXm5C1GeL1ip"
      },
      "source": [
        "\n",
        "---\n",
        "Дополнительная информация ([База знаний УИИ - «**Цикл while**»](https://colab.research.google.com/drive/1Bm246y1NjzfJxI_yrQwuwgp1CuGfi13G?usp=sharing))\n",
        "\n",
        "---\n",
        "\n",
        "\n",
        "\n"
      ]
    },
    {
      "cell_type": "markdown",
      "metadata": {
        "id": "QYyUhDtQ7Lek"
      },
      "source": [
        "<h1> <strong> Цикл for </strong> </h1>"
      ]
    },
    {
      "cell_type": "markdown",
      "metadata": {
        "id": "OqxVE_PGC0hQ"
      },
      "source": [
        "Цикл вида `for` работает с **последовательностями** – наборами чисел.\n",
        "\n",
        "Поэтому для начала научимся создавать последовательности, например, с помощью функции `range()`.\n",
        "\n",
        "\n",
        "В качестве аргументов в функцию `range()` можно подать от 1 до 3 чисел. Рассмотрим все варианты:\n",
        "* **range(10)** создаст последовательность от 0 до 9;\n",
        "* **range(3, 12)** создаст последовательность от 3 до 11;\n",
        "* **range(4, 13, 2)** создаст последовательность от 4 до 12 с шагом в 2.\n",
        "\n",
        "\n",
        "Как вы заметили, первое число всегда включается в последовательность, а последнее – нет.\n",
        "\n",
        "Теперь рассмотрим цикл `for`.\n",
        "\n",
        "Код в цикле такого вида выполняется столько раз, сколько объектов в последовательности.\n",
        "\n",
        "Синтаксис выглядит следующим образом:\n",
        "\n",
        "        for i in «последовательность»:\n",
        "            тело_цикла\n",
        "\n",
        "Если переводить это на русский, получится что-то вроде:\n",
        "\n",
        "        для переменной i в «последовательности»\n",
        "\n",
        "То есть вы говорите вашей программе:\n",
        "\n",
        "<blockquote>\n",
        "выполни команды в теле цикла для переменной i, которая будет поочередно принимать значения заданной последовательности.\n",
        "</blockquote>\n",
        "Возможно, это выглядит довольно запутанно. Разберем на конкретном примере:\n"
      ]
    },
    {
      "cell_type": "code",
      "metadata": {
        "colab": {
          "base_uri": "https://localhost:8080/"
        },
        "id": "8CsYgVb3Y4bz",
        "outputId": "69c2a5ef-f7c6-4398-bf21-3aa1e62f3303"
      },
      "source": [
        "# Создание цикла, в котором переменная i будет поочередно\n",
        "# принимать значения чисел из последовательности.\n",
        "# Сама последовательность генерируется функцией range()\n",
        "# Последовательность будет состоять из чисел от 0 до 4\n",
        "for i in range(5):\n",
        "    print(i)                              # Вывод значения i на экран"
      ],
      "execution_count": null,
      "outputs": [
        {
          "output_type": "stream",
          "name": "stdout",
          "text": [
            "0\n",
            "1\n",
            "2\n",
            "3\n",
            "4\n"
          ]
        }
      ]
    },
    {
      "cell_type": "markdown",
      "metadata": {
        "id": "dDKZWxeUvXwk"
      },
      "source": [
        "Как видите, все довольно просто.\n",
        "\n",
        "* у нас есть последовательность от 0 до 4 (помните, что последнее число не включено, поэтому до 4, а не до 5);\n",
        "* в первой итерации цикла переменная **i** принимает значение 0, поскольку это первое значение последовательности;\n",
        "* запускается тело цикла `print(i)` и переменная выводится на экран;\n",
        "* запускается следующая итерация (повтор) цикла, на этот раз значение переменной **i** равно 1, поскольку это второе значение последовательности;\n",
        "* снова запускается тело цикла, теперь на экран выводится 1;\n",
        "* и так далее, пока не дойдем до конца последовательности.\n",
        "\n",
        "Теперь, экспериментируя с функцией `range()`, можно добиваться разных результатов. Рекомендуем вернуться на несколько ячеек назад и освежить в памяти эту функцию.\n"
      ]
    },
    {
      "cell_type": "code",
      "metadata": {
        "colab": {
          "base_uri": "https://localhost:8080/"
        },
        "id": "C3Vf01ohY4d9",
        "outputId": "efdc8eeb-7770-48c7-fa4b-a4dc28e2d95e"
      },
      "source": [
        "# Вывод на экран чисел от 16 до 20:\n",
        "\n",
        "for i in range(16, 21):\n",
        "    print(i)"
      ],
      "execution_count": null,
      "outputs": [
        {
          "output_type": "stream",
          "name": "stdout",
          "text": [
            "16\n",
            "17\n",
            "18\n",
            "19\n",
            "20\n"
          ]
        }
      ]
    },
    {
      "cell_type": "code",
      "metadata": {
        "colab": {
          "base_uri": "https://localhost:8080/"
        },
        "id": "M_8AUkbjAZ-A",
        "outputId": "7fb228b8-438f-4a10-eccf-91803fd7d95b"
      },
      "source": [
        "# Вывод чисел от 10 до 20 с шагом 2,\n",
        "# то есть всех четных чисел от 10 до 20\n",
        "\n",
        "for i in range(10, 21, 2):\n",
        "    print(i)"
      ],
      "execution_count": null,
      "outputs": [
        {
          "output_type": "stream",
          "name": "stdout",
          "text": [
            "10\n",
            "12\n",
            "14\n",
            "16\n",
            "18\n",
            "20\n"
          ]
        }
      ]
    },
    {
      "cell_type": "code",
      "metadata": {
        "colab": {
          "base_uri": "https://localhost:8080/"
        },
        "id": "gOtdvGzzw7zK",
        "outputId": "873ad4b4-466d-4832-fc9b-c141a496a196"
      },
      "source": [
        "# Вспомнив материал первой части урока,\n",
        "# можно написать программу, выводящую все значения в одну строку\n",
        "\n",
        "for i in range(10, 21, 2):\n",
        "    print(i, end=' ')"
      ],
      "execution_count": null,
      "outputs": [
        {
          "output_type": "stream",
          "name": "stdout",
          "text": [
            "10 12 14 16 18 20 "
          ]
        }
      ]
    },
    {
      "cell_type": "markdown",
      "metadata": {
        "id": "h3nG2JNxycwz"
      },
      "source": [
        "**Факт: переменную внутри цикла `for` можно называть как угодно. Но часто ее называют именно i.**\n",
        "\n",
        "Вы разобрались с тем, как пользоваться циклом `for`. И разобрались с тем, как создавать для него последовательности.\n",
        "\n",
        "Но что, если вам необходима более сложная последовательность, чем «от a до b с шагом в c»? Что, если вы хотите задать последовательность самостоятельно?\n",
        "\n",
        "В этом случае вам не обойтись без списков.\n"
      ]
    },
    {
      "cell_type": "markdown",
      "metadata": {
        "id": "1Dv_xPefMKws"
      },
      "source": [
        "\n",
        "---\n",
        "Дополнительная информация ([База знаний УИИ - «**Функция range()**»](https://colab.research.google.com/drive/1eWJ1enY4FdBVXsGumWZPRIgS6o1VvyDA?usp=sharing))\n",
        "\n",
        "---\n",
        "\n",
        "\n",
        "\n"
      ]
    },
    {
      "cell_type": "markdown",
      "metadata": {
        "id": "njqVhE2YMCbU"
      },
      "source": [
        "\n",
        "---\n",
        "Дополнительная информация ([База знаний УИИ - «**Цикл for**»](https://colab.research.google.com/drive/1wSHZxtDtzrbPFlivvnoKaazEhx4NhTyc?usp=sharing))\n",
        "\n",
        "---\n",
        "\n",
        "\n",
        "\n"
      ]
    },
    {
      "cell_type": "markdown",
      "metadata": {
        "id": "_65RrEU6MF3t"
      },
      "source": [
        "##Списки"
      ]
    },
    {
      "cell_type": "markdown",
      "metadata": {
        "id": "qSynCr02Bu0h"
      },
      "source": [
        "Задача следующая: сохранить в программе все числа месяца, когда шел дождь. Создавать для каждого такого дня отдельную переменную – неудобно. Поэтому воспользуемся списками.\n",
        "\n",
        "**Список (list)** – это контейнер для всевозможных данных. Объявляются списки так же, как переменные, только значения списка заносятся в квадратные скобки:\n",
        "\n",
        "        my_list = [1, 2, 3]\n",
        "Перенесемся в ячейку кода и закрепим все на практике. Попробуем создать пустой список и выведем его на экран:\n"
      ]
    },
    {
      "cell_type": "code",
      "metadata": {
        "colab": {
          "base_uri": "https://localhost:8080/"
        },
        "id": "b2o_Nxdl-R8h",
        "outputId": "560256c1-65d5-4560-821d-72189950d534"
      },
      "source": [
        "empty_list = []\n",
        "print(empty_list)"
      ],
      "execution_count": null,
      "outputs": [
        {
          "output_type": "stream",
          "name": "stdout",
          "text": [
            "[]\n"
          ]
        }
      ]
    },
    {
      "cell_type": "markdown",
      "metadata": {
        "id": "yO2f2VRVEwey"
      },
      "source": [
        "Теперь попробуем создать список с целыми числами (обратите внимание, что числа разделены запятыми):"
      ]
    },
    {
      "cell_type": "code",
      "metadata": {
        "colab": {
          "base_uri": "https://localhost:8080/"
        },
        "id": "Q-7W42C4-aKw",
        "outputId": "ad1aac11-1726-4a58-f008-a9801827d1c3"
      },
      "source": [
        "first_list = [1, 2, 3, 4, 5, 3, 2, 1, 4]\n",
        "print(first_list)"
      ],
      "execution_count": null,
      "outputs": [
        {
          "output_type": "stream",
          "name": "stdout",
          "text": [
            "[1, 2, 3, 4, 5, 3, 2, 1, 4]\n"
          ]
        }
      ]
    },
    {
      "cell_type": "markdown",
      "metadata": {
        "id": "gMosUhkEE0ns"
      },
      "source": [
        "А сейчас проверим, может ли список содержать в себе значения разных типов данных:"
      ]
    },
    {
      "cell_type": "code",
      "metadata": {
        "colab": {
          "base_uri": "https://localhost:8080/"
        },
        "id": "P79Wodul-rH6",
        "outputId": "d7c52c93-202f-478b-f603-a88e142d607d"
      },
      "source": [
        "second_list = [1, 2, 3.14, \"Hello\", True, 43, False, 'bla bla']\n",
        "print(second_list)"
      ],
      "execution_count": null,
      "outputs": [
        {
          "output_type": "stream",
          "name": "stdout",
          "text": [
            "[1, 2, 3.14, 'Hello', True, 43, False, 'bla bla']\n"
          ]
        }
      ]
    },
    {
      "cell_type": "markdown",
      "metadata": {
        "id": "hY26-tai-4tZ"
      },
      "source": [
        "Как видите, списки могут содержать в себе значения любых типов данных, которые вы изучили выше. Более того, списки могут содержать внутри себя другие списки:"
      ]
    },
    {
      "cell_type": "code",
      "metadata": {
        "colab": {
          "base_uri": "https://localhost:8080/"
        },
        "id": "hji7_9s-Y44w",
        "outputId": "38aa212a-37e0-4d19-c543-b447f1c49c53"
      },
      "source": [
        "# Создание списка, содержащего другие списки\n",
        "\n",
        "ndim_list = [12, 23, first_list, second_list]\n",
        "print(ndim_list)"
      ],
      "execution_count": null,
      "outputs": [
        {
          "output_type": "stream",
          "name": "stdout",
          "text": [
            "[12, 23, [1, 2, 3, 4, 5, 3, 2, 1, 4], [1, 2, 3.14, 'Hello', True, 43, False, 'bla bla']]\n"
          ]
        }
      ]
    },
    {
      "cell_type": "markdown",
      "metadata": {
        "id": "UhGHb0vMDO8K"
      },
      "source": [
        "Сделаем требуемый в задаче список с числами дней месяца, в которые шел дождь:"
      ]
    },
    {
      "cell_type": "code",
      "metadata": {
        "colab": {
          "base_uri": "https://localhost:8080/"
        },
        "id": "b970EPfj_QEW",
        "outputId": "9db65ad3-d010-4dd6-eb65-22aa34e6519e"
      },
      "source": [
        "rainy_days = [1, 12, 13, 14, 16, 19, 20]\n",
        "print('Дождливые дни в этом месяце:', rainy_days)"
      ],
      "execution_count": null,
      "outputs": [
        {
          "output_type": "stream",
          "name": "stdout",
          "text": [
            "Дождливые дни в этом месяце: [1, 12, 13, 14, 16, 19, 20]\n"
          ]
        }
      ]
    },
    {
      "cell_type": "markdown",
      "metadata": {
        "id": "2SbV26Nt_vo5"
      },
      "source": [
        "А теперь представим, что вы хотите вывести на экран пятый дождливый день месяца. Для этого вам нужно обратиться к списку по **индексу**.\n",
        "\n",
        "**Индекс** – это порядковый номер элемента списка. Важно знать, что элементы в списках всегда нумеруются с **0**. То есть, чтобы вывести на экран первый дождливый день, вам нужно обратиться к элементу списка под индексом **0**:\n"
      ]
    },
    {
      "cell_type": "code",
      "metadata": {
        "colab": {
          "base_uri": "https://localhost:8080/"
        },
        "id": "20H3KC0iY47R",
        "outputId": "2a2ff4ac-c101-4926-ef8e-609cd434f28d"
      },
      "source": [
        "print('Первый дождливый день месяца:', rainy_days[0], 'мая')\n",
        "print('Пятый дождливый день месяца:', rainy_days[4], 'мая')"
      ],
      "execution_count": null,
      "outputs": [
        {
          "output_type": "stream",
          "name": "stdout",
          "text": [
            "Первый дождливый день месяца: 1 мая\n",
            "Пятый дождливый день месяца: 16 мая\n"
          ]
        }
      ]
    },
    {
      "cell_type": "markdown",
      "metadata": {
        "id": "eDbItx08ArEf"
      },
      "source": [
        "В конце прошлого раздела мы задались вопросом: как создать цикл `for` со сложной последовательностью?\n",
        "\n",
        "В качестве последовательности можно указать список:"
      ]
    },
    {
      "cell_type": "code",
      "metadata": {
        "colab": {
          "base_uri": "https://localhost:8080/"
        },
        "id": "m2a7Ki7vY49r",
        "outputId": "f0597d9c-a132-4b7d-86b5-f2be412824dd"
      },
      "source": [
        "# Использование цикла для вывода всех дождливых дней месяца\n",
        "\n",
        "print('Дождливые дни в этом месяце: ', end='')\n",
        "for i in rainy_days:\n",
        "    print(i, end=' ')"
      ],
      "execution_count": null,
      "outputs": [
        {
          "output_type": "stream",
          "name": "stdout",
          "text": [
            "Дождливые дни в этом месяце: 1 12 13 14 16 19 20 "
          ]
        }
      ]
    },
    {
      "cell_type": "markdown",
      "source": [
        "Если нам нужно получить не один из элементов списка, а некоторую их последовательность, можно воспользоваться **слайсингом**.\n",
        "\n",
        "У вас есть список длиной 60000. И вы делите его на три части:\n",
        "- от 0 до 48000, обозначается `[:48000]`\n",
        "- от 48000 до 54000, обозначается `[48000:54000]`\n",
        "- от 54000 до конца, обозначается `[54000:]`"
      ],
      "metadata": {
        "id": "QB2uJBcm3lkr"
      }
    },
    {
      "cell_type": "markdown",
      "metadata": {
        "id": "J2atgHyLBgWx"
      },
      "source": [
        "Для работы со списками существует набор **методов**.\n",
        "\n",
        "**Методы** – это функции, которые доступны для определенного типа объектов, например, для списков. Метод вызывают следующим образом:\n",
        "\n",
        "        список.название_метода(аргумент)\n",
        "Рассмотрим на примере:\n"
      ]
    },
    {
      "cell_type": "code",
      "metadata": {
        "colab": {
          "base_uri": "https://localhost:8080/"
        },
        "id": "1mQE1LTlCXwD",
        "outputId": "80d5511c-6b99-44bf-e72a-10e359fca275"
      },
      "source": [
        "print(rainy_days)\n",
        "\n",
        "# Метод .append(x) добавляет значение x в конец списка\n",
        "rainy_days.append(24)\n",
        "print(rainy_days)\n",
        "\n",
        "# Метод .insert(i, x) вставляет на i-ое место значение x\n",
        "rainy_days.insert(1, 4)\n",
        "print(rainy_days)"
      ],
      "execution_count": null,
      "outputs": [
        {
          "output_type": "stream",
          "name": "stdout",
          "text": [
            "[1, 12, 13, 14, 16, 19, 20]\n",
            "[1, 12, 13, 14, 16, 19, 20, 24]\n",
            "[1, 4, 12, 13, 14, 16, 19, 20, 24]\n"
          ]
        }
      ]
    },
    {
      "cell_type": "markdown",
      "metadata": {
        "id": "CXGpfaOPEB_8"
      },
      "source": [
        "**Список методов для работы со списками:**\n",
        "\n",
        " - **list.append(x)** добавляет значение **x** в конец списка;\n",
        " - **list.extend(list2)** расширяет список, добавляя в конец все элементы списка **list2**;\n",
        " - **list.insert(i, x)** вставляет на **i**-ое место значение **x**;\n",
        " - **list.remove(x)** удаляет первый элемент в списке, имеющий значение **x**. Если такого элемента не существует, произойдет ошибка **ValueError**;\n",
        " - **list.pop([i])** удаляет **i**-ый элемент и возвращает его. Если индекс не указан, удаляется последний элемент;\n",
        " - **list.index(x, [start [, end]])** возвращает положение (индекс) первого элемента со значением **x** (при этом поиск в списке ведется от **start** до **end**);\n",
        " - **list.count(x)** возвращает количество элементов со значением **x**;\n",
        " - **list.sort([key=функция])** сортирует список на основе функции;\n",
        " - **list.reverse()** перестраивает элементы списка в обратном порядке;\n",
        " - **list.copy()** возвращает поверхностную копию списка;\n",
        " - **list.clear()** очищает список."
      ]
    },
    {
      "cell_type": "code",
      "metadata": {
        "id": "gYN7L_rgDbhu"
      },
      "source": [
        "# Поэкспериментируйте с методами в этой ячейке\n"
      ],
      "execution_count": null,
      "outputs": []
    },
    {
      "cell_type": "markdown",
      "metadata": {
        "id": "dUOBw0bZ9aJh"
      },
      "source": [
        "Если вы хотите узнать количество элементов в списке (длину списка) - воспользуйтесь встроенной функцией `len()`:"
      ]
    },
    {
      "cell_type": "code",
      "metadata": {
        "colab": {
          "base_uri": "https://localhost:8080/"
        },
        "id": "f__TVspQ9lNv",
        "outputId": "cd0a693a-ed4e-4717-f82f-cb74559a736b"
      },
      "source": [
        "# Вывод на экран длины списка rainy_days\n",
        "print('Длина списка rainy_days:', len(rainy_days))"
      ],
      "execution_count": null,
      "outputs": [
        {
          "output_type": "stream",
          "name": "stdout",
          "text": [
            "Длина списка rainy_days: 9\n"
          ]
        }
      ]
    },
    {
      "cell_type": "markdown",
      "metadata": {
        "id": "oR-_NFhwMYI3"
      },
      "source": [
        "---\n",
        "Дополнительная информация ([База знаний УИИ - «**Методы работы со списками**»](https://colab.research.google.com/drive/1h0vZkvfcl_CgAJ3_sp_cVVzRhY0_-nYK?usp=sharing))\n",
        "\n",
        "---"
      ]
    },
    {
      "cell_type": "markdown",
      "metadata": {
        "id": "yOfqatccrTyH"
      },
      "source": [
        "##Кортежи"
      ]
    },
    {
      "cell_type": "markdown",
      "metadata": {
        "id": "DF2ptzjFra8c"
      },
      "source": [
        "**Кортеж (tuple)** – это тот же список, только в нем нельзя изменять значения. Кортежи занимают меньше памяти и работают быстрее, а потому рекомендуется использовать кортеж вместо списка там, где не требуется менять содержимое.\n",
        "\n",
        "Например, чтобы хранить дни недели по порядку (понедельник, вторник, среда и т.д.) лучше использовать кортеж, так как менять дни недели не придется – их всегда 7 и они всегда следуют в одном порядке.\n",
        "\n",
        "Однако чтобы хранить изменяемые данные, например, количество употребленных калорий за последние 7 дней, следует использовать список, так как каждый день его содержимое будет обновляться.\n",
        "\n",
        "Кортеж объявляется точно так же, как и список, только скобки круглые.\n",
        "\n",
        "А теперь создадим разные кортежи:\n"
      ]
    },
    {
      "cell_type": "code",
      "metadata": {
        "colab": {
          "base_uri": "https://localhost:8080/"
        },
        "id": "WJg2FzJksjR_",
        "outputId": "82ada365-42ee-4fd2-a7fe-bc259d960c6a"
      },
      "source": [
        "# Пустой кортеж\n",
        "empty_tuple = ()\n",
        "print(empty_tuple)\n",
        "\n",
        "# Кортеж целых чисел\n",
        "first_tuple = (1, 2, 3, 4, 5, 3, 2, 1, 4)\n",
        "print(first_tuple)\n",
        "\n",
        "# Кортеж может содержать в себе данные\n",
        "# разных типов - любых, которые изучены выше\n",
        "second_tuple = (1, 2, 3.14, \"Hello\", True, 43, False, 'bla bla')\n",
        "print(second_tuple)\n",
        "\n",
        "# Кортеж может содержать в себе другие кортежи\n",
        "ndim_tuple = (12, 23, first_tuple, second_tuple)\n",
        "print(ndim_tuple)"
      ],
      "execution_count": null,
      "outputs": [
        {
          "output_type": "stream",
          "name": "stdout",
          "text": [
            "()\n",
            "(1, 2, 3, 4, 5, 3, 2, 1, 4)\n",
            "(1, 2, 3.14, 'Hello', True, 43, False, 'bla bla')\n",
            "(12, 23, (1, 2, 3, 4, 5, 3, 2, 1, 4), (1, 2, 3.14, 'Hello', True, 43, False, 'bla bla'))\n"
          ]
        }
      ]
    },
    {
      "cell_type": "markdown",
      "metadata": {
        "id": "UISxPA-8El51"
      },
      "source": [
        "Есть одна хитрость. Если вы хотите создать кортеж из одного элемента, запись должна выглядеть следующим образом:"
      ]
    },
    {
      "cell_type": "code",
      "metadata": {
        "colab": {
          "base_uri": "https://localhost:8080/"
        },
        "id": "r6oXKawStlT6",
        "outputId": "e6b9d8de-c0cd-4ae6-f331-faf5f7ea01f5"
      },
      "source": [
        "# Это кортеж из одного элемента\n",
        "third_tuple = (1, )\n",
        "print(type(third_tuple))\n",
        "\n",
        "# А это не кортеж, а выражение, как если бы вы написали (1 + 0)\n",
        "# В данном случае Python воспринимает скобки как признак\n",
        "# приоритета операции, а не как признак кортежа\n",
        "wrong_tuple = (1)\n",
        "print(type(wrong_tuple))"
      ],
      "execution_count": null,
      "outputs": [
        {
          "output_type": "stream",
          "name": "stdout",
          "text": [
            "<class 'tuple'>\n",
            "<class 'int'>\n"
          ]
        }
      ]
    },
    {
      "cell_type": "markdown",
      "metadata": {
        "id": "fXUMSpS1Fpr1"
      },
      "source": [
        "Попробуем изменить второй элемент списка и кортежа на 5:"
      ]
    },
    {
      "cell_type": "code",
      "metadata": {
        "colab": {
          "base_uri": "https://localhost:8080/"
        },
        "id": "_tNo3JA7t-CY",
        "outputId": "29c4e5d0-626d-4529-e469-a1bb0549f2de"
      },
      "source": [
        "print('Дан список:', first_list)\n",
        "first_list[1] = 5\n",
        "print('Список после замены элемента:', first_list)"
      ],
      "execution_count": null,
      "outputs": [
        {
          "output_type": "stream",
          "name": "stdout",
          "text": [
            "Дан список: [1, 2, 3, 4, 5, 3, 2, 1, 4]\n",
            "Список после замены элемента: [1, 5, 3, 4, 5, 3, 2, 1, 4]\n"
          ]
        }
      ]
    },
    {
      "cell_type": "markdown",
      "metadata": {
        "id": "VyaXLHKE-EY1"
      },
      "source": [
        "Для списка все прошло без проблем - значение элемента изменилось на указанное нами.\n",
        "\n",
        "Теперь попробуем выполнить ту же операцию для элемента кортежа:"
      ]
    },
    {
      "cell_type": "code",
      "metadata": {
        "id": "IGx4WNsDuR5e",
        "colab": {
          "base_uri": "https://localhost:8080/",
          "height": 217
        },
        "outputId": "421c568e-aac8-4c7f-faf4-acaf7bbc622b"
      },
      "source": [
        "print('Дан кортеж:', first_tuple)\n",
        "first_tuple[1] = 5\n",
        "print('Кортеж после замены элемента:', first_tuple)"
      ],
      "execution_count": null,
      "outputs": [
        {
          "output_type": "stream",
          "name": "stdout",
          "text": [
            "Дан кортеж: (1, 2, 3, 4, 5, 3, 2, 1, 4)\n"
          ]
        },
        {
          "output_type": "error",
          "ename": "TypeError",
          "evalue": "ignored",
          "traceback": [
            "\u001b[0;31m---------------------------------------------------------------------------\u001b[0m",
            "\u001b[0;31mTypeError\u001b[0m                                 Traceback (most recent call last)",
            "\u001b[0;32m<ipython-input-21-6398f6f645e7>\u001b[0m in \u001b[0;36m<module>\u001b[0;34m()\u001b[0m\n\u001b[1;32m      1\u001b[0m \u001b[0mprint\u001b[0m\u001b[0;34m(\u001b[0m\u001b[0;34m'Дан кортеж:'\u001b[0m\u001b[0;34m,\u001b[0m \u001b[0mfirst_tuple\u001b[0m\u001b[0;34m)\u001b[0m\u001b[0;34m\u001b[0m\u001b[0;34m\u001b[0m\u001b[0m\n\u001b[0;32m----> 2\u001b[0;31m \u001b[0mfirst_tuple\u001b[0m\u001b[0;34m[\u001b[0m\u001b[0;36m1\u001b[0m\u001b[0;34m]\u001b[0m \u001b[0;34m=\u001b[0m \u001b[0;36m5\u001b[0m\u001b[0;34m\u001b[0m\u001b[0;34m\u001b[0m\u001b[0m\n\u001b[0m\u001b[1;32m      3\u001b[0m \u001b[0mprint\u001b[0m\u001b[0;34m(\u001b[0m\u001b[0;34m'Кортеж после замены элемента:'\u001b[0m\u001b[0;34m,\u001b[0m \u001b[0mfirst_tuple\u001b[0m\u001b[0;34m)\u001b[0m\u001b[0;34m\u001b[0m\u001b[0;34m\u001b[0m\u001b[0m\n",
            "\u001b[0;31mTypeError\u001b[0m: 'tuple' object does not support item assignment"
          ]
        }
      ]
    },
    {
      "cell_type": "markdown",
      "metadata": {
        "id": "lYqO7rq9GXI4"
      },
      "source": [
        "**Ошибка!** Как было сказано ранее - содержимое кортежа неизменяемо.\n",
        "\n",
        "И не забывайте, что нумерация индексов всегда начинается с **0**."
      ]
    },
    {
      "cell_type": "markdown",
      "metadata": {
        "id": "XPgO9fm5Mi3h"
      },
      "source": [
        "---\n",
        "Дополнительная информация ([База знаний УИИ - «**Методы работы с кортежами**»](https://colab.research.google.com/drive/1pAysntvUrXSs32_WYL1iqmnpcUIdVsLa?usp=sharing))\n",
        "\n",
        "---\n",
        "\n",
        "\n",
        "\n"
      ]
    },
    {
      "cell_type": "markdown",
      "metadata": {
        "id": "nwUS_syNgwbb"
      },
      "source": [
        "##Словари\n",
        "\n"
      ]
    },
    {
      "cell_type": "markdown",
      "metadata": {
        "id": "wAdGOl9_vfOJ"
      },
      "source": [
        "**Словарь (dict)** – тип данных в **Python**, позволяющий сохранять и выбирать элементы по ключу.\n",
        "\n",
        "Таким образом, **словарь** – это ассоциативный список.\n",
        "\n",
        "Словарь объявляется с помощью фигурных скобок и имеет следующий синтаксис:"
      ]
    },
    {
      "cell_type": "code",
      "metadata": {
        "id": "IF8Gv06cgwbi",
        "colab": {
          "base_uri": "https://localhost:8080/"
        },
        "outputId": "530d331c-695f-4c42-c732-cf44a3d3db36"
      },
      "source": [
        "# Создание словаря\n",
        "\n",
        "my_dict = {'Зима': 'снег',\n",
        "           'Весна': 'солнце',\n",
        "           'Лето': 'фрукты',\n",
        "           'Осень': 'листья'\n",
        "          }\n",
        "\n",
        "print(my_dict)"
      ],
      "execution_count": null,
      "outputs": [
        {
          "output_type": "stream",
          "name": "stdout",
          "text": [
            "{'Зима': 'снег', 'Весна': 'солнце', 'Лето': 'фрукты', 'Осень': 'листья'}\n"
          ]
        }
      ]
    },
    {
      "cell_type": "markdown",
      "metadata": {
        "id": "V0B7zsKvgwb6"
      },
      "source": [
        "Первый элемент в каждой строке – это **ключ**, а второй – **значение**.\n",
        "\n",
        "Для словарей предусмотрены **методы**. С помощью некоторых из них можно вывести только ключи, только значения, либо пару ключ-значение:\n"
      ]
    },
    {
      "cell_type": "code",
      "metadata": {
        "id": "KUv7u7Nqgwb-",
        "colab": {
          "base_uri": "https://localhost:8080/"
        },
        "outputId": "404ebe88-b14f-44d1-eb4f-bd0f920da382"
      },
      "source": [
        "# Метод .keys() возвращает набор ключей словаря\n",
        "print(my_dict.keys())\n",
        "\n",
        "# Метод .values() возвращает набор значений словаря\n",
        "print(my_dict.values())\n",
        "\n",
        "# Метод .items() возвращает набор пар ключ-значение\n",
        "print(my_dict.items())"
      ],
      "execution_count": null,
      "outputs": [
        {
          "output_type": "stream",
          "name": "stdout",
          "text": [
            "dict_keys(['Зима', 'Весна', 'Лето', 'Осень'])\n",
            "dict_values(['снег', 'солнце', 'фрукты', 'листья'])\n",
            "dict_items([('Зима', 'снег'), ('Весна', 'солнце'), ('Лето', 'фрукты'), ('Осень', 'листья')])\n"
          ]
        }
      ]
    },
    {
      "cell_type": "code",
      "metadata": {
        "id": "wQVjLPswgwcu",
        "colab": {
          "base_uri": "https://localhost:8080/",
          "height": 35
        },
        "outputId": "5e997654-f78f-47ce-e376-940efa97ad69"
      },
      "source": [
        "# Возможно получение значение элемента словаря, обратившись по его ключу\n",
        "my_dict['Лето']"
      ],
      "execution_count": null,
      "outputs": [
        {
          "output_type": "execute_result",
          "data": {
            "text/plain": [
              "'фрукты'"
            ],
            "application/vnd.google.colaboratory.intrinsic+json": {
              "type": "string"
            }
          },
          "metadata": {},
          "execution_count": 24
        }
      ]
    },
    {
      "cell_type": "code",
      "metadata": {
        "colab": {
          "base_uri": "https://localhost:8080/",
          "height": 183
        },
        "id": "sLBSn9iTJRAz",
        "outputId": "c0077a79-7568-4352-c960-22ea376ef673"
      },
      "source": [
        "# Однако подобным образом невозможно получить ключ элемента словаря по соответствующему значению\n",
        "my_dict['снег']"
      ],
      "execution_count": null,
      "outputs": [
        {
          "output_type": "error",
          "ename": "KeyError",
          "evalue": "ignored",
          "traceback": [
            "\u001b[0;31m---------------------------------------------------------------------------\u001b[0m",
            "\u001b[0;31mKeyError\u001b[0m                                  Traceback (most recent call last)",
            "\u001b[0;32m<ipython-input-25-5342c628ae42>\u001b[0m in \u001b[0;36m<module>\u001b[0;34m()\u001b[0m\n\u001b[1;32m      1\u001b[0m \u001b[0;31m# Однако подобным образом невозможно получить ключ элемента словаря по соответствующему значению\u001b[0m\u001b[0;34m\u001b[0m\u001b[0;34m\u001b[0m\u001b[0;34m\u001b[0m\u001b[0m\n\u001b[0;32m----> 2\u001b[0;31m \u001b[0mmy_dict\u001b[0m\u001b[0;34m[\u001b[0m\u001b[0;34m'снег'\u001b[0m\u001b[0;34m]\u001b[0m\u001b[0;34m\u001b[0m\u001b[0;34m\u001b[0m\u001b[0m\n\u001b[0m",
            "\u001b[0;31mKeyError\u001b[0m: 'снег'"
          ]
        }
      ]
    },
    {
      "cell_type": "markdown",
      "metadata": {
        "id": "Wv4MqiH1JiOP"
      },
      "source": [
        "Иногда требуется удалить из словаря некоторый элемент и при этом значение удаляемого элемента записать в переменную. Это можно сделать с помощью метода `.pop()`."
      ]
    },
    {
      "cell_type": "code",
      "metadata": {
        "id": "77YpzTwGgwdE",
        "colab": {
          "base_uri": "https://localhost:8080/"
        },
        "outputId": "5d8aae6c-2c5c-4c76-8203-6156e33f9f50"
      },
      "source": [
        "# Метод .pop() удаляет из словаря элемент с ключом \"Весна\",\n",
        "# значение удаляемого элемента записывается в переменную element\n",
        "element = my_dict.pop('Весна')\n",
        "\n",
        "print(element)\n",
        "print(my_dict)"
      ],
      "execution_count": null,
      "outputs": [
        {
          "output_type": "stream",
          "name": "stdout",
          "text": [
            "солнце\n",
            "{'Зима': 'снег', 'Лето': 'фрукты', 'Осень': 'листья'}\n"
          ]
        }
      ]
    },
    {
      "cell_type": "markdown",
      "metadata": {
        "id": "JUeVB-AGLR6P"
      },
      "source": [
        "Заметим, что **списки**, **кортежи** и **словари** – это тоже типы данных, которые могут содержать в себе элементы других типов, изученных ранее: `int`, `float`, `str` и `bool`, а также и другие списки, кортежи и словари."
      ]
    },
    {
      "cell_type": "markdown",
      "metadata": {
        "id": "YZi_tu9BMrj7"
      },
      "source": [
        "\n",
        "---\n",
        "Дополнительная информация ([База знаний УИИ - «**Методы работы со словарями**»](https://colab.research.google.com/drive/16jySAW85TgkxJbOgM1kM4Ej7UAbcG6w8?usp=sharing))\n",
        "\n",
        "---\n",
        "\n",
        "\n",
        "\n"
      ]
    },
    {
      "cell_type": "markdown",
      "metadata": {
        "id": "eRUWtovAQs1I"
      },
      "source": [
        "**Содержание темы**\n",
        "\n",
        "1. [Часть 1](https://colab.research.google.com/drive/1hDsnhZV2Gc2djNEKmA86L0AmlJlX1pE6?usp=sharing)\n",
        "\n",
        "2. Часть 2\n",
        "\n",
        "\n",
        "3. [Часть 3](https://colab.research.google.com/drive/1JQhIKGzVu4AWg3EUhfMX8aFGDxBLHKhz?usp=sharing)\n"
      ]
    }
  ]
}