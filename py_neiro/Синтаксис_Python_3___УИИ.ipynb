{
  "nbformat": 4,
  "nbformat_minor": 0,
  "metadata": {
    "colab": {
      "provenance": [],
      "toc_visible": true
    },
    "kernelspec": {
      "name": "python3",
      "display_name": "Python 3"
    },
    "language_info": {
      "name": "python"
    }
  },
  "cells": [
    {
      "cell_type": "markdown",
      "metadata": {
        "id": "j6wXQHNqayHI"
      },
      "source": [
        "**Содержание темы**\n",
        "\n",
        "1. [Часть 1](https://colab.research.google.com/drive/1hDsnhZV2Gc2djNEKmA86L0AmlJlX1pE6?usp=sharing)\n",
        "\n",
        "2. [Часть 2](https://colab.research.google.com/drive/1gLN-X8nHrK-16x6tPK4N-68GZmpMV7CE?usp=sharing)\n",
        "\n",
        "\n",
        "3. Часть 3\n"
      ]
    },
    {
      "cell_type": "markdown",
      "source": [],
      "metadata": {
        "id": "DLtUlSZkQP-A"
      }
    },
    {
      "cell_type": "markdown",
      "metadata": {
        "id": "WGJIh-DQ5DKr"
      },
      "source": [
        "**Функция** в программировании — небольшая программа, блок кода, которая выполняет определенные действия и вычисления, но не сохраняет в себе данных в конце своей работы.\n",
        "\n",
        "* различают функции, **встроенные** в язык, которые готовы к использованию. И **пользовательские** (самописные), которые вы сами пишите и программируете.\n",
        "\n",
        "* функции всегда вызывают с круглыми скобками `()`. Если только не нужно передать саму функцию, а такое тоже случается.\n",
        "\n",
        "* внутри круглых скобок функция ожидает передачу параметров через запятую.\n",
        "\n",
        "* в качестве параметров может быть что угодно: список, словарь, число, класс и  любой другой объект. Тип ожидаемого объекта и числа объектов зависит от самой функции.\n",
        "\n",
        "* ожидаемое число параметров может быть от нуля до бесконечности.\n",
        "\n",
        "* параметры делятся на аргументы и ключевые слова.\n",
        "\n",
        "* функция, в отличие от переменных и коллекций, не сохраняет в себе данные вне процесса своей работы. Она хранит только свой код.\n",
        "\n",
        "* в процессе работы в функции могут создаваться данные. Эти данные локальны, то есть они удаляются в конце работы.\n",
        "\n",
        "Это краткая сводка. Теперь вы можете подробнее рассмотреть функции."
      ]
    },
    {
      "cell_type": "markdown",
      "metadata": {
        "id": "Yoi8-1DaNdP9"
      },
      "source": [
        "##  **Встроенные функции Python**"
      ]
    },
    {
      "cell_type": "markdown",
      "metadata": {
        "id": "85THL5dLLe8i"
      },
      "source": [
        "Ранее вы уже использовали встроенные функции: `print()`, `len()`, `int()`, `sort()` и так далее.\n",
        "\n",
        "Пришло время пополнить арсенал знаний и рассмотреть новые функции, которые встроены в Python."
      ]
    },
    {
      "cell_type": "markdown",
      "metadata": {
        "id": "9-7L1Gdhf82F"
      },
      "source": [
        "### Функция `sum()`"
      ]
    },
    {
      "cell_type": "markdown",
      "metadata": {
        "id": "0zrX2INxFh8K"
      },
      "source": [
        "Функция `sum` суммирует все элементы коллекции:"
      ]
    },
    {
      "cell_type": "code",
      "metadata": {
        "colab": {
          "base_uri": "https://localhost:8080/"
        },
        "id": "rgrf7-P_gOkP",
        "outputId": "b0f6ab9a-ce17-4a51-8504-6845f6959c5a"
      },
      "source": [
        "# Создание списка для суммирования\n",
        "\n",
        "list_for_summation = [1, 2, 3]\n",
        "list_for_summation"
      ],
      "execution_count": null,
      "outputs": [
        {
          "output_type": "execute_result",
          "data": {
            "text/plain": [
              "[1, 2, 3]"
            ]
          },
          "metadata": {},
          "execution_count": 23
        }
      ]
    },
    {
      "cell_type": "code",
      "metadata": {
        "colab": {
          "base_uri": "https://localhost:8080/"
        },
        "id": "iMCcCAK1gwXF",
        "outputId": "f40c0903-a495-4b60-a572-23c9e40f59c3"
      },
      "source": [
        "# Суммирование значений списка\n",
        "sum(list_for_summation)"
      ],
      "execution_count": null,
      "outputs": [
        {
          "output_type": "execute_result",
          "data": {
            "text/plain": [
              "6"
            ]
          },
          "metadata": {},
          "execution_count": 25
        }
      ]
    },
    {
      "cell_type": "markdown",
      "metadata": {
        "id": "jQEXUSDrgyqz"
      },
      "source": [
        "Суммирование элементов коллекций означает, что суммировать можно не только списки, но и остальные пройденные коллекции:"
      ]
    },
    {
      "cell_type": "code",
      "metadata": {
        "colab": {
          "base_uri": "https://localhost:8080/"
        },
        "id": "5i7XzhuZg_u3",
        "outputId": "cd9b3e69-5313-4181-f876-09616de54d42"
      },
      "source": [
        "# Создание кортежа для суммирования\n",
        "tuple_for_summation = 1, 2, 3\n",
        "print(tuple_for_summation)\n",
        "\n",
        "# Суммирование значений кортежа\n",
        "sum(tuple_for_summation)"
      ],
      "execution_count": null,
      "outputs": [
        {
          "output_type": "stream",
          "text": [
            "(1, 2, 3)\n"
          ],
          "name": "stdout"
        },
        {
          "output_type": "execute_result",
          "data": {
            "text/plain": [
              "6"
            ]
          },
          "metadata": {},
          "execution_count": 27
        }
      ]
    },
    {
      "cell_type": "code",
      "metadata": {
        "colab": {
          "base_uri": "https://localhost:8080/"
        },
        "id": "bXGuTwcnhSSc",
        "outputId": "5c1e78da-8753-4923-ad1e-b4489ba460b0"
      },
      "source": [
        "# Создание множества для суммирования\n",
        "set_for_summation = {1, 2, 3}\n",
        "print(set_for_summation)\n",
        "\n",
        "# Суммирование значений множества\n",
        "sum(set_for_summation)"
      ],
      "execution_count": null,
      "outputs": [
        {
          "output_type": "stream",
          "text": [
            "{1, 2, 3}\n"
          ],
          "name": "stdout"
        },
        {
          "output_type": "execute_result",
          "data": {
            "text/plain": [
              "6"
            ]
          },
          "metadata": {},
          "execution_count": 28
        }
      ]
    },
    {
      "cell_type": "code",
      "metadata": {
        "colab": {
          "base_uri": "https://localhost:8080/"
        },
        "id": "xBPHEt50hX3v",
        "outputId": "7836bde1-4ad7-4cf6-d6b8-93dc5d9197c7"
      },
      "source": [
        "# Создание словаря для суммирования\n",
        "\n",
        "dict_for_summation = {1: 10,\n",
        "                      2: 'суммируются только ключи',\n",
        "                      3: 'поэтому значения в словаре не играют роли'}\n",
        "\n",
        "print(dict_for_summation)\n",
        "\n",
        "# Суммирование значений словаря\n",
        "sum(dict_for_summation)"
      ],
      "execution_count": null,
      "outputs": [
        {
          "output_type": "stream",
          "text": [
            "{1: 10, 2: 'суммируются только ключи', 3: 'поэтому значения в словаре не играют роли'}\n"
          ],
          "name": "stdout"
        },
        {
          "output_type": "execute_result",
          "data": {
            "text/plain": [
              "6"
            ]
          },
          "metadata": {},
          "execution_count": 35
        }
      ]
    },
    {
      "cell_type": "markdown",
      "metadata": {
        "id": "tHRJkFLkiwM9"
      },
      "source": [
        "Если заглянете в документацию, выводимую `help` по `sum`, то увидите следующее:"
      ]
    },
    {
      "cell_type": "code",
      "metadata": {
        "colab": {
          "base_uri": "https://localhost:8080/"
        },
        "id": "wdNyCfFDirUU",
        "outputId": "ca2e65e0-97d0-4741-bc36-4f8716df6eec"
      },
      "source": [
        "help(sum)"
      ],
      "execution_count": null,
      "outputs": [
        {
          "output_type": "stream",
          "text": [
            "Help on built-in function sum in module builtins:\n",
            "\n",
            "sum(iterable, start=0, /)\n",
            "    Return the sum of a 'start' value (default: 0) plus an iterable of numbers\n",
            "    \n",
            "    When the iterable is empty, return the start value.\n",
            "    This function is intended specifically for use with numeric values and may\n",
            "    reject non-numeric types.\n",
            "\n"
          ],
          "name": "stdout"
        }
      ]
    },
    {
      "cell_type": "markdown",
      "metadata": {
        "id": "pCFmF2QkioyB"
      },
      "source": [
        "То есть в качестве аргумента функция `sum()` принимает **один** итерируемый объект.\n",
        "\n",
        "> Итерируемый объект (iterable) — это объект, который способен возвращать элементы по одному. Кроме того, это объект, из которого можно получить итератор. Не путайте с индексацией!\n",
        "\n",
        "К таким объектам относятся списки, кортежи и даже словари, множества.\n",
        "\n",
        "Учитывайте, что `sum` ожидает всего один итерируемый объект."
      ]
    },
    {
      "cell_type": "code",
      "metadata": {
        "id": "6HhKmrHgLqb-",
        "colab": {
          "base_uri": "https://localhost:8080/",
          "height": 181
        },
        "outputId": "d6a925ab-89b6-40bd-d149-49d8cc6651ef"
      },
      "source": [
        "# Суммирование чисел вне коллекции не сработает\n",
        "sum(190, 14, 97)"
      ],
      "execution_count": null,
      "outputs": [
        {
          "output_type": "error",
          "ename": "TypeError",
          "evalue": "ignored",
          "traceback": [
            "\u001b[0;31m---------------------------------------------------------------------------\u001b[0m",
            "\u001b[0;31mTypeError\u001b[0m                                 Traceback (most recent call last)",
            "\u001b[0;32m<ipython-input-42-ec90e45147fb>\u001b[0m in \u001b[0;36m<module>\u001b[0;34m()\u001b[0m\n\u001b[1;32m      1\u001b[0m \u001b[0;31m# Суммирование чисел вне коллекции не сработает\u001b[0m\u001b[0;34m\u001b[0m\u001b[0;34m\u001b[0m\u001b[0;34m\u001b[0m\u001b[0m\n\u001b[0;32m----> 2\u001b[0;31m \u001b[0msum\u001b[0m\u001b[0;34m(\u001b[0m\u001b[0;36m190\u001b[0m\u001b[0;34m,\u001b[0m \u001b[0;36m14\u001b[0m\u001b[0;34m,\u001b[0m \u001b[0;36m97\u001b[0m\u001b[0;34m)\u001b[0m\u001b[0;34m\u001b[0m\u001b[0;34m\u001b[0m\u001b[0m\n\u001b[0m",
            "\u001b[0;31mTypeError\u001b[0m: sum expected at most 2 arguments, got 3"
          ]
        }
      ]
    },
    {
      "cell_type": "markdown",
      "metadata": {
        "id": "a0ZXYAOBlVKr"
      },
      "source": [
        "### Функция `max()`"
      ]
    },
    {
      "cell_type": "markdown",
      "metadata": {
        "id": "tIQbapK-laxX"
      },
      "source": [
        "Еще одна крайне полезная функция `max()` находит максимальное значение в коллекции:"
      ]
    },
    {
      "cell_type": "code",
      "metadata": {
        "colab": {
          "base_uri": "https://localhost:8080/"
        },
        "id": "jK_qX9H6lgkw",
        "outputId": "1ce97ba5-f005-4a4f-ba4e-4d26693fd9e2"
      },
      "source": [
        "# Нахождение максимального значения в списке\n",
        "max([1, 2, 3])"
      ],
      "execution_count": null,
      "outputs": [
        {
          "output_type": "execute_result",
          "data": {
            "text/plain": [
              "3"
            ]
          },
          "metadata": {},
          "execution_count": 43
        }
      ]
    },
    {
      "cell_type": "code",
      "metadata": {
        "colab": {
          "base_uri": "https://localhost:8080/"
        },
        "id": "i4n5zXO6lj_X",
        "outputId": "d0f680ac-dc77-4880-fd6d-7673124da658"
      },
      "source": [
        "# Нахождение максимального значения в кортеже\n",
        "max((-10, 100, 4))"
      ],
      "execution_count": null,
      "outputs": [
        {
          "output_type": "execute_result",
          "data": {
            "text/plain": [
              "100"
            ]
          },
          "metadata": {},
          "execution_count": 44
        }
      ]
    },
    {
      "cell_type": "code",
      "metadata": {
        "colab": {
          "base_uri": "https://localhost:8080/"
        },
        "id": "DlFXbNPDlqvT",
        "outputId": "afb599b8-8bb9-47e4-eb47-4e62c635ab72"
      },
      "source": [
        "# Нахождение максимального значения среди ключей в словаре\n",
        "max({1:4, 2:3})"
      ],
      "execution_count": null,
      "outputs": [
        {
          "output_type": "execute_result",
          "data": {
            "text/plain": [
              "2"
            ]
          },
          "metadata": {},
          "execution_count": 2
        }
      ]
    },
    {
      "cell_type": "markdown",
      "metadata": {
        "id": "DGenmOnemhoJ"
      },
      "source": [
        "В отличие от `sum()`, функция `max()` работает со значениями без коллекции:"
      ]
    },
    {
      "cell_type": "code",
      "metadata": {
        "colab": {
          "base_uri": "https://localhost:8080/"
        },
        "id": "qCCunZFMmf5t",
        "outputId": "32690c0c-013c-4cad-8517-b312bcad4438"
      },
      "source": [
        "# Поиск максимального значения без коллекции\n",
        "max(1, 10, 5)"
      ],
      "execution_count": null,
      "outputs": [
        {
          "output_type": "execute_result",
          "data": {
            "text/plain": [
              "10"
            ]
          },
          "metadata": {},
          "execution_count": 52
        }
      ]
    },
    {
      "cell_type": "markdown",
      "metadata": {
        "id": "_eWWuX5Al9Pi"
      },
      "source": [
        "### Функция `min()`"
      ]
    },
    {
      "cell_type": "markdown",
      "metadata": {
        "id": "ojmJWcszl_45"
      },
      "source": [
        "Функция `min()` аналогична функции `max()` по принципу работы, только находит минимум:"
      ]
    },
    {
      "cell_type": "code",
      "metadata": {
        "colab": {
          "base_uri": "https://localhost:8080/"
        },
        "id": "YnKjN07pmMoc",
        "outputId": "bd92be74-0edf-47ae-a22d-24d7d5d1a375"
      },
      "source": [
        "# Нахождение минимального значения в списке\n",
        "min([1, 2, 3])"
      ],
      "execution_count": null,
      "outputs": [
        {
          "output_type": "execute_result",
          "data": {
            "text/plain": [
              "3"
            ]
          },
          "metadata": {},
          "execution_count": 47
        }
      ]
    },
    {
      "cell_type": "code",
      "metadata": {
        "colab": {
          "base_uri": "https://localhost:8080/"
        },
        "id": "J9MAAj_-mPTY",
        "outputId": "0926f9cf-416f-4512-ec71-b2ae7ad8ac2a"
      },
      "source": [
        "# Нахождение минимального значения в кортеже\n",
        "min((-10, 100, 4))"
      ],
      "execution_count": null,
      "outputs": [
        {
          "output_type": "execute_result",
          "data": {
            "text/plain": [
              "100"
            ]
          },
          "metadata": {},
          "execution_count": 48
        }
      ]
    },
    {
      "cell_type": "code",
      "metadata": {
        "colab": {
          "base_uri": "https://localhost:8080/"
        },
        "id": "nC6ZPTY1mQdL",
        "outputId": "b6573824-7217-4acb-94b1-9e2f90f958ce"
      },
      "source": [
        "# Нахождение минимального значения среди неповторяющихся элементов в множестве\n",
        "min({2, -1, -10, 100})"
      ],
      "execution_count": null,
      "outputs": [
        {
          "output_type": "execute_result",
          "data": {
            "text/plain": [
              "-10"
            ]
          },
          "metadata": {},
          "execution_count": 54
        }
      ]
    },
    {
      "cell_type": "markdown",
      "metadata": {
        "id": "mIAxJWlJfeLO"
      },
      "source": [
        "### Функция `round()`"
      ]
    },
    {
      "cell_type": "markdown",
      "metadata": {
        "id": "P8-rkmAc_KPU"
      },
      "source": [
        "Еще одна функция, которую часто используют — это `round()`. Она округляет значение, передаваемое в скобки, до указанного знака после точки.\n",
        "\n",
        "> Функцию `round()` применяют в разных ситуациях. Например, когда при отображении точности нейронных сетей нужно показать только две цифры после точки: 95.99%. По умолчанию Python может отображать очень много значений после точки, например 95.98945676542213%, что неудобно читать.\n",
        "\n",
        "\n",
        "Задайте число с большим количеством цифр после точки, пусть это будет число Пи. Через имя, которое вы ему присвоили, передайте число в скобках функции `round()` и через запятую в тех же скобках укажите, до какого количества знаков после точки нужно округлить число:"
      ]
    },
    {
      "cell_type": "code",
      "metadata": {
        "id": "bZpbogsBLrK_",
        "colab": {
          "base_uri": "https://localhost:8080/"
        },
        "outputId": "ac3aef46-623b-4cda-cbee-7328b876bd49"
      },
      "source": [
        "pi = 3.1415926535\n",
        "\n",
        "print('Число Пи, округленное до десятых:', round(pi, 1))\n",
        "print('Число Пи, округленное до сотых:', round(pi, 2))\n",
        "print('Число Пи, округленное до пяти знаков после точки:', round(pi, 5))"
      ],
      "execution_count": null,
      "outputs": [
        {
          "output_type": "stream",
          "text": [
            "Число Пи, округленное до десятых: 3.1\n",
            "Число Пи, округленное до сотых: 3.14\n",
            "Число Пи, округленное до пяти знаков после точки: 3.14159\n"
          ],
          "name": "stdout"
        }
      ]
    },
    {
      "cell_type": "markdown",
      "metadata": {
        "id": "Ew7CWE70BOQf"
      },
      "source": [
        "Если же вы не укажете количество знаков после точки, то `round` округлит число до целого:"
      ]
    },
    {
      "cell_type": "code",
      "metadata": {
        "colab": {
          "base_uri": "https://localhost:8080/"
        },
        "id": "kGydhh5jo9Q1",
        "outputId": "a12745ae-d15d-4c5a-a55b-95f6687f9c02"
      },
      "source": [
        "print('Число Пи, округленное до целого:', round(pi))"
      ],
      "execution_count": null,
      "outputs": [
        {
          "output_type": "stream",
          "text": [
            "Число Пи, округленное до целого: 3\n"
          ],
          "name": "stdout"
        }
      ]
    },
    {
      "cell_type": "markdown",
      "source": [
        "### Функция `iter()`\n",
        "\n"
      ],
      "metadata": {
        "id": "d1KiJoDL0Zzl"
      }
    },
    {
      "cell_type": "markdown",
      "source": [
        "Эта функция принимает итерируемый объект и возвращает итератор. Сам по себе он бесполезен, но оказывается крайне эффективным при использовании в циклах `for` и `while`. Благодаря этому объект можно перебирать по одному элементу за раз."
      ],
      "metadata": {
        "id": "txEIHVi61Iam"
      }
    },
    {
      "cell_type": "markdown",
      "source": [
        "Функция `iter()` отработает на любом объекте, у которого есть метод `__iter__` или метод `__getitem__`."
      ],
      "metadata": {
        "id": "I1nIR9ZHAulR"
      }
    },
    {
      "cell_type": "code",
      "source": [
        "# Создадим список и итератор для последовательного перебора элементов этого списка.\n",
        "Motors = ['Ferrari', 'Mercedes', 'Cadillac', 'Rolls-Royce', 'Bentley', 'Maybach']\n",
        "iter_motors = iter(Motors)  # Создали итератор x для последовательного доступа к элементам списка\n",
        "iter_motors"
      ],
      "metadata": {
        "id": "BgKvulrkBTAu"
      },
      "execution_count": null,
      "outputs": []
    },
    {
      "cell_type": "code",
      "source": [
        "# Вывод первых трёх элементов\n",
        "print(next(iter_motors))\n",
        "print(next(iter_motors))\n",
        "print(next(iter_motors))\n",
        "\n",
        "while True:         # Оставшиеся элементы перебираем в цикле\n",
        "  a = next(iter_motors)\n",
        "  print(a)\n",
        "  if a=='Maybach':  # Если дошли до 'Maybach' то выход из цикла\n",
        "    break"
      ],
      "metadata": {
        "colab": {
          "base_uri": "https://localhost:8080/"
        },
        "id": "1QdRwAjv1oIo",
        "outputId": "8259fc1e-f6c4-49cd-91f8-e372d04a7196"
      },
      "execution_count": null,
      "outputs": [
        {
          "output_type": "stream",
          "name": "stdout",
          "text": [
            "Ferrari\n",
            "Mercedes\n",
            "Cadillac\n",
            "Rolls-Royce\n",
            "Bentley\n",
            "Maybach\n"
          ]
        }
      ]
    },
    {
      "cell_type": "markdown",
      "source": [
        "### Функция `next()`"
      ],
      "metadata": {
        "id": "12kOUTJX0kHe"
      }
    },
    {
      "cell_type": "markdown",
      "source": [
        "Используется для итераторов. Умеет получать следующий (next) элемент в последовательности. При выходе за границу, генерирует исключение."
      ],
      "metadata": {
        "id": "unbNRlCt4Kk5"
      }
    },
    {
      "cell_type": "markdown",
      "source": [
        "Пример можно посмотреть для предыдущей функции `iter()`"
      ],
      "metadata": {
        "id": "ZXgkAWp_4g6m"
      }
    },
    {
      "cell_type": "markdown",
      "source": [
        "### Функция `map()`"
      ],
      "metadata": {
        "id": "RS27YnD20lLH"
      }
    },
    {
      "cell_type": "markdown",
      "source": [
        "Используется для применения определенной функции к итерируемому объекту. Применяет заданную функцию к каждому элементу последовательности. Она возвращает результат в виде итерируемого объекта (списки, кортежи, множества). Можно передать и несколько объектов, но в таком случае нужно будет и соответствующее количество функций."
      ],
      "metadata": {
        "id": "AR_mJP8J68yP"
      }
    },
    {
      "cell_type": "code",
      "source": [
        "# Добавление прилагательного 'Красная' к словам из списка и создание нового списка\n",
        "def red(smth):\n",
        "  return 'Красная ' + smth\n",
        "\n",
        "mics = ['жара','машина','панда']\n",
        "\n",
        "# Применяем функцию red() к каждому слову из списка mics\n",
        "red_mics = map(red, mics)\n",
        "\n",
        "# Посмотрим результат red_mics\n",
        "for red_object in red_mics:\n",
        "  print(red_object)"
      ],
      "metadata": {
        "colab": {
          "base_uri": "https://localhost:8080/"
        },
        "id": "DZADfi_R7Asn",
        "outputId": "5a2fece1-d267-4f21-fc6f-a47c6e692b89"
      },
      "execution_count": null,
      "outputs": [
        {
          "output_type": "stream",
          "name": "stdout",
          "text": [
            "Красная жара\n",
            "Красная машина\n",
            "Красная панда\n"
          ]
        }
      ]
    },
    {
      "cell_type": "markdown",
      "source": [
        "### Функция `filter()`"
      ],
      "metadata": {
        "id": "hLGDHtANHMir"
      }
    },
    {
      "cell_type": "markdown",
      "source": [
        "`filter()` - фильтрует элементы последовательности\n",
        "\\\n",
        "Синтаксис:\n",
        "```python\n",
        "filter(function, iterable)\n",
        "```\n",
        "* `function` Функция, которая оценивает каждый элемент и возвращает `True` или `False`.\n",
        "* `iterable` Последовательность (например, список), элементы которой будут проверяться с помощью функции-предиката."
      ],
      "metadata": {
        "id": "Sb4qDQeY69ct"
      }
    },
    {
      "cell_type": "markdown",
      "source": [
        "Пример использования: отбор чётных чисел из списка"
      ],
      "metadata": {
        "id": "T4TWZsAaRKb8"
      }
    },
    {
      "cell_type": "code",
      "source": [
        "# Возвращает True для чётных чисел.\n",
        "def is_even(x):\n",
        "    return x % 2 == 0\n",
        "\n",
        "# у нас есть некий список numbers\n",
        "numbers = [1, 2, 3, 4, 5, 6, 7, 8, 9, 10]\n",
        "\n",
        "# Вызываем функцию filter для нашего списка, используя функцию\n",
        "list(filter(is_even, numbers))"
      ],
      "metadata": {
        "colab": {
          "base_uri": "https://localhost:8080/"
        },
        "id": "n6dLg5aN78Ox",
        "outputId": "5f29cf64-2374-485d-c09b-d8c58b6fb1f0"
      },
      "execution_count": null,
      "outputs": [
        {
          "output_type": "execute_result",
          "data": {
            "text/plain": [
              "[2, 4, 6, 8, 10]"
            ]
          },
          "metadata": {},
          "execution_count": 2
        }
      ]
    },
    {
      "cell_type": "code",
      "source": [
        "# Для сравнения is_even() используется в map()\n",
        "# применяем функцию к каждому элементу и получаем True или False для каждого.\n",
        "list(map(is_even, numbers))"
      ],
      "metadata": {
        "colab": {
          "base_uri": "https://localhost:8080/"
        },
        "id": "i5fp3sa0rsv3",
        "outputId": "e1375fa0-1217-45e4-d110-eb258cb5dfbd"
      },
      "execution_count": null,
      "outputs": [
        {
          "output_type": "execute_result",
          "data": {
            "text/plain": [
              "[False, True, False, True, False, True, False, True, False, True]"
            ]
          },
          "metadata": {},
          "execution_count": 3
        }
      ]
    },
    {
      "cell_type": "markdown",
      "source": [
        "### Функция `zip()`"
      ],
      "metadata": {
        "id": "hqO-i1FuHNsn"
      }
    },
    {
      "cell_type": "markdown",
      "source": [
        "`zip()` позволяет объединять элементы из нескольких итерируемых объектов (списков, строк) в кортежи.\n",
        "\n",
        "> Каждый кортеж содержит элементы на соответствующих позициях из каждого переданного итерируемого объекта. Если объекты имеют разную длину, то `zip()` остановится, когда закончится итерация на самом коротком объекте."
      ],
      "metadata": {
        "id": "ZvYbG9kDIlsE"
      }
    },
    {
      "cell_type": "markdown",
      "source": [
        "\n",
        "Синтаксис:\n",
        "```python\n",
        "zip(iterable1, iterable2, ...)\n",
        "```\n",
        "\n"
      ],
      "metadata": {
        "id": "YEIEOH3slzgI"
      }
    },
    {
      "cell_type": "markdown",
      "source": [
        "Пример объединения трёх списков в список кортежей"
      ],
      "metadata": {
        "id": "nsFVwJSTIxjE"
      }
    },
    {
      "cell_type": "code",
      "source": [
        "names = [\"Alice\", \"Bob\", \"Charlie\"]\n",
        "age = [45, 65, 74]\n",
        "scores = [85, 92]\n",
        "\n",
        "# Итератор - объект zip\n",
        "zipped = zip(names, age, scores)\n",
        "\n",
        "# Преобразование итератора в список кортежей\n",
        "list(zipped)"
      ],
      "metadata": {
        "colab": {
          "base_uri": "https://localhost:8080/"
        },
        "id": "aXYHoQC8nXNn",
        "outputId": "7a893f1b-3fb7-444c-ee70-66d784e218ae"
      },
      "execution_count": null,
      "outputs": [
        {
          "output_type": "execute_result",
          "data": {
            "text/plain": [
              "[('Alice', 45, 85), ('Bob', 65, 92)]"
            ]
          },
          "metadata": {},
          "execution_count": 4
        }
      ]
    },
    {
      "cell_type": "code",
      "source": [
        "# Объект zip\n",
        "type(zipped)"
      ],
      "metadata": {
        "colab": {
          "base_uri": "https://localhost:8080/"
        },
        "id": "REtKVglfJb2Y",
        "outputId": "9cd73507-0a6b-4a95-9bce-9fa4e564d619"
      },
      "execution_count": null,
      "outputs": [
        {
          "output_type": "execute_result",
          "data": {
            "text/plain": [
              "zip"
            ]
          },
          "metadata": {},
          "execution_count": 58
        }
      ]
    },
    {
      "cell_type": "code",
      "source": [
        "# краткая запись\n",
        "list(zip(names, age, scores))"
      ],
      "metadata": {
        "colab": {
          "base_uri": "https://localhost:8080/"
        },
        "id": "bgQpabqAqq5q",
        "outputId": "dbc2d992-6745-4beb-e77f-9e44da55611e"
      },
      "execution_count": null,
      "outputs": [
        {
          "output_type": "execute_result",
          "data": {
            "text/plain": [
              "[('Alice', 45, 85), ('Bob', 65, 92)]"
            ]
          },
          "metadata": {},
          "execution_count": 61
        }
      ]
    },
    {
      "cell_type": "markdown",
      "source": [
        "Для распаковки имеется обратная операция"
      ],
      "metadata": {
        "id": "rb118SelrNeK"
      }
    },
    {
      "cell_type": "code",
      "source": [
        "# У Нас упаковка двух списков\n",
        "names = [\"Alice\", \"Bob\", \"Charlie\", \"Ivan\", \"Petrovich\"]\n",
        "scores = [85, 92, 128, 512, 1024]\n",
        "\n",
        "list_zipped = list(zip(names, scores))\n",
        "\n",
        "print(\"После применения zip\", list_zipped)"
      ],
      "metadata": {
        "colab": {
          "base_uri": "https://localhost:8080/"
        },
        "id": "glxs9opwrL39",
        "outputId": "759d8e9b-e2dd-4ce2-8bd9-f77e64eebd6a"
      },
      "execution_count": null,
      "outputs": [
        {
          "output_type": "stream",
          "name": "stdout",
          "text": [
            "После применения zip [('Alice', 85), ('Bob', 92), ('Charlie', 128), ('Ivan', 512), ('Petrovich', 1024)]\n"
          ]
        }
      ]
    },
    {
      "cell_type": "code",
      "source": [
        "# Для распаковки сначала получаем итератор - объект zip\n",
        "zipped = zip(*list_zipped)\n",
        "type(zipped)"
      ],
      "metadata": {
        "colab": {
          "base_uri": "https://localhost:8080/"
        },
        "id": "P3AG5YtOrcKm",
        "outputId": "56e55abd-d6db-4017-c3d1-2eb14baf913d"
      },
      "execution_count": null,
      "outputs": [
        {
          "output_type": "execute_result",
          "data": {
            "text/plain": [
              "zip"
            ]
          },
          "metadata": {},
          "execution_count": 5
        }
      ]
    },
    {
      "cell_type": "code",
      "source": [
        "# Распаковка в список из двух кортежей, соответствующих исходным спискам names и scores\n",
        "list_a = list(zipped)\n",
        "print(\"После распаковки zip\", list_a)"
      ],
      "metadata": {
        "colab": {
          "base_uri": "https://localhost:8080/"
        },
        "id": "4Ag0kWRfrW8O",
        "outputId": "4a414c3c-2f7f-479f-c5f6-c52cf93e1c90"
      },
      "execution_count": null,
      "outputs": [
        {
          "output_type": "stream",
          "name": "stdout",
          "text": [
            "После распаковки zip [('Alice', 'Bob', 'Charlie', 'Ivan', 'Petrovich'), (85, 92, 128, 512, 1024)]\n"
          ]
        }
      ]
    },
    {
      "cell_type": "code",
      "source": [
        "# распаковка на два отдельных кортежа\n",
        "names, scores = list_a\n",
        "\n",
        "print(names)\n",
        "print(scores)"
      ],
      "metadata": {
        "colab": {
          "base_uri": "https://localhost:8080/"
        },
        "id": "WfxAnsZwsFdP",
        "outputId": "6b795d26-5387-4bb7-bda8-d63994cbe764"
      },
      "execution_count": null,
      "outputs": [
        {
          "output_type": "stream",
          "name": "stdout",
          "text": [
            "('Alice', 'Bob', 'Charlie', 'Ivan', 'Petrovich')\n",
            "(85, 92, 128, 512, 1024)\n"
          ]
        }
      ]
    },
    {
      "cell_type": "markdown",
      "metadata": {
        "id": "3Ya1ryCwG9em"
      },
      "source": [
        "## **Создание пользовательских функций**"
      ]
    },
    {
      "cell_type": "markdown",
      "metadata": {
        "id": "7qzwQyAvMcqj"
      },
      "source": [
        "Изучив встроенные функции языка Python, вы можете перейти к созданию своих собственных."
      ]
    },
    {
      "cell_type": "markdown",
      "metadata": {
        "id": "wSFoEmxf9uXI"
      },
      "source": [
        "### Конструкция объявления собственной функции\n",
        "\n",
        "\n",
        "Базовый вариант:\n",
        "\n",
        "    def имя_функции():\n",
        "        тело функции\n",
        "\n",
        "Более общий вариант:\n",
        "\n",
        "    def имя_функции(входящие параметры):\n",
        "        тело функции\n",
        "        \n",
        "        return данные"
      ]
    },
    {
      "cell_type": "markdown",
      "metadata": {
        "id": "_y6UaUlfTQjY"
      },
      "source": [
        "Реализуйте базовый вариант пользовательской функции, которая выведет на экран приветствие:"
      ]
    },
    {
      "cell_type": "code",
      "metadata": {
        "id": "mViFi2GV-mJY"
      },
      "source": [
        "# Базовый вариант\n",
        "# Функция, выводящая на экран приветствие\n",
        "\n",
        "def welcome():\n",
        "  print('Добрый день!')\n",
        "  print('Добро пожаловать в Университет Искусственного Интеллекта!')"
      ],
      "execution_count": null,
      "outputs": []
    },
    {
      "cell_type": "markdown",
      "metadata": {
        "id": "P2cG4t9pTcgz"
      },
      "source": [
        "После того, как вы реализовали функцию, необходимо ее вызвать:"
      ]
    },
    {
      "cell_type": "code",
      "metadata": {
        "id": "-kMrRzZjWvGY",
        "colab": {
          "base_uri": "https://localhost:8080/"
        },
        "outputId": "4fc454f4-1c27-4a15-f37f-b3ff9f841a58"
      },
      "source": [
        "# Вызов пользовательской функции\n",
        "welcome()"
      ],
      "execution_count": null,
      "outputs": [
        {
          "output_type": "stream",
          "text": [
            "Добрый день!\n",
            "Добро пожаловать в Университет Искусственного Интеллекта!\n"
          ],
          "name": "stdout"
        }
      ]
    },
    {
      "cell_type": "markdown",
      "metadata": {
        "id": "sfub66bjXORj"
      },
      "source": [
        "Более полный вариант создания функции подразумевает передачу в функцию некоторых аргументов — входных данных. Эти аргументы вы передаете в скобках при вызове функции.\n",
        "\n",
        "Эти данные нужны функции для того, чтобы она их как-то обрабатывала, производила вычисления и возвращала вам какой-то результат.\n",
        "\n",
        "Рассмотрите базовый вариант создания функции, но с передачей в функцию входящего аргумента. Передайте в функцию в качестве одного аргумента имя в формате строки и выведите приветствие с обращением:"
      ]
    },
    {
      "cell_type": "code",
      "metadata": {
        "id": "imJ6BtEvDGot",
        "colab": {
          "base_uri": "https://localhost:8080/"
        },
        "outputId": "69c0ea72-6b38-4d90-dbd0-b8555b79e93e"
      },
      "source": [
        "# Вариант с входящим аргументом\n",
        "\n",
        "def welcome_by_name(name):\n",
        "  print('Приветствуем вас, ' + name + '!')\n",
        "  print('Добро пожаловать в Университет Искусственного Интеллекта!')\n",
        "\n",
        "# Вариант вызова функции\n",
        "welcome_by_name('Александр')"
      ],
      "execution_count": null,
      "outputs": [
        {
          "output_type": "stream",
          "text": [
            "Приветствуем вас, Александр!\n",
            "Добро пожаловать в Университет Искусственного Интеллекта!\n"
          ],
          "name": "stdout"
        }
      ]
    },
    {
      "cell_type": "code",
      "metadata": {
        "colab": {
          "base_uri": "https://localhost:8080/"
        },
        "id": "llQVFpe1tAtG",
        "outputId": "e10f5fa9-1a2b-46fe-fe3f-d0750f5e35d6"
      },
      "source": [
        "# Вариант вызова функции\n",
        "\n",
        "name = 'Юлия'\n",
        "welcome_by_name(name)"
      ],
      "execution_count": null,
      "outputs": [
        {
          "output_type": "stream",
          "text": [
            "Приветствуем вас, Юлия!\n",
            "Добро пожаловать в Университет Искусственного Интеллекта!\n"
          ],
          "name": "stdout"
        }
      ]
    },
    {
      "cell_type": "markdown",
      "metadata": {
        "id": "Yq1GrBGTtiM7"
      },
      "source": [
        "Чтобы реализовать возврат какого-либо объекта из функции вам понадобится еще одно ключевое слово — `return`.\n",
        "\n",
        "Напишите функцию, которая возводит полученное число в квадрат. В скобках укажите аргумент `x` (то самое число), возведите его в квадрат и верните полученное значение с помощью ключевого слова `return`:"
      ]
    },
    {
      "cell_type": "code",
      "metadata": {
        "id": "XWkUKXTqFqF2",
        "colab": {
          "base_uri": "https://localhost:8080/"
        },
        "outputId": "1d8105ea-afa3-4bbe-83fd-a02c850b0808"
      },
      "source": [
        "# Пользовательская функция со входящим аргументом.\n",
        "# Запишите функцию, которая принимает на вход число и возводит его в квадрат\n",
        "\n",
        "def pow(x):\n",
        "  return x ** 2\n",
        "\n",
        "# Вызов функции\n",
        "pow(3)"
      ],
      "execution_count": null,
      "outputs": [
        {
          "output_type": "execute_result",
          "data": {
            "text/plain": [
              "9"
            ]
          },
          "metadata": {},
          "execution_count": 65
        }
      ]
    },
    {
      "cell_type": "code",
      "metadata": {
        "colab": {
          "base_uri": "https://localhost:8080/"
        },
        "id": "eA3fc_HSvna-",
        "outputId": "652a82b3-9fb2-4810-8070-7450c7b28c65"
      },
      "source": [
        "x = 2\n",
        "pow(x)"
      ],
      "execution_count": null,
      "outputs": [
        {
          "output_type": "execute_result",
          "data": {
            "text/plain": [
              "4"
            ]
          },
          "metadata": {},
          "execution_count": 66
        }
      ]
    },
    {
      "cell_type": "code",
      "metadata": {
        "colab": {
          "base_uri": "https://localhost:8080/"
        },
        "id": "xNcogtiMvq_p",
        "outputId": "3bc5bbc7-e53a-4f5d-e134-7eee0c7027b8"
      },
      "source": [
        "number = 4\n",
        "pow(number)"
      ],
      "execution_count": null,
      "outputs": [
        {
          "output_type": "execute_result",
          "data": {
            "text/plain": [
              "16"
            ]
          },
          "metadata": {},
          "execution_count": 67
        }
      ]
    },
    {
      "cell_type": "markdown",
      "metadata": {
        "id": "N0BK3op7v5ua"
      },
      "source": [
        "Теперь реализуйте функцию с несколькими входящими аргументами. Пусть она возвращает сумму трех чисел, переданных в нее. Для этого нужно передать три аргумента через запятую:"
      ]
    },
    {
      "cell_type": "code",
      "metadata": {
        "id": "VXjfePQgEvPs",
        "colab": {
          "base_uri": "https://localhost:8080/"
        },
        "outputId": "b47650b4-f746-4acb-de23-a859c5af4b25"
      },
      "source": [
        "# Полный вариант с несколькими входящими аргументами. Сумма трех чисел\n",
        "\n",
        "def sum_of_3(a, b, c):\n",
        "  sum_abc = a + b + c\n",
        "  return sum_abc\n",
        "\n",
        "sum_of_3(20, 5, 15)"
      ],
      "execution_count": null,
      "outputs": [
        {
          "output_type": "execute_result",
          "data": {
            "text/plain": [
              "40"
            ]
          },
          "metadata": {},
          "execution_count": 68
        }
      ]
    },
    {
      "cell_type": "markdown",
      "metadata": {
        "id": "4moLpPyUwlP8"
      },
      "source": [
        "Теперь реализуйте функцию `mean`, возвращающую среднее списка:"
      ]
    },
    {
      "cell_type": "code",
      "metadata": {
        "id": "iZj9v29Ewr92"
      },
      "source": [
        "def mean(list_of_values):\n",
        "\n",
        "  # Переменная для суммы всех значений списка\n",
        "  summ = 0\n",
        "\n",
        "  # Суммирование всех значений через цикл и сохранение результата в summ\n",
        "  for value in list_of_values:\n",
        "    summ += value\n",
        "\n",
        "  # Длина входного списка\n",
        "  len_of_list = len(list_of_values)\n",
        "\n",
        "  # Среднее. То есть сумма всех значений, деленная на число значений\n",
        "  output = summ / len_of_list\n",
        "\n",
        "  # возвращение результата\n",
        "  return output"
      ],
      "execution_count": null,
      "outputs": []
    },
    {
      "cell_type": "code",
      "metadata": {
        "id": "SIe4gzOCyHWm",
        "colab": {
          "base_uri": "https://localhost:8080/"
        },
        "outputId": "144049bf-5467-4f8b-8749-36652d90b1c4"
      },
      "source": [
        "# Функция поиска суммы всех чисел в списке\n",
        "my_list = [1, 2, 3]\n",
        "\n",
        "mean(my_list)"
      ],
      "execution_count": null,
      "outputs": [
        {
          "output_type": "execute_result",
          "data": {
            "text/plain": [
              "2.0"
            ]
          },
          "metadata": {},
          "execution_count": 79
        }
      ]
    },
    {
      "cell_type": "code",
      "metadata": {
        "colab": {
          "base_uri": "https://localhost:8080/"
        },
        "id": "Uhr_RoC8yM3I",
        "outputId": "86d3f982-3f12-4eff-8aff-6aa34e56e4fd"
      },
      "source": [
        "mean([-10, 3, 10])"
      ],
      "execution_count": null,
      "outputs": [
        {
          "output_type": "execute_result",
          "data": {
            "text/plain": [
              "1.0"
            ]
          },
          "metadata": {},
          "execution_count": 82
        }
      ]
    },
    {
      "cell_type": "markdown",
      "metadata": {
        "id": "DjCo-S0NyeuX"
      },
      "source": [
        "Для упрощения работы используйте функции именно так, поскольку это минимизирует собственный код. Во-первых, так код будет почти всегда лаконичнее, во-вторых, написанные до вас функции оптимизированы. Встроенные функции пишут профессионалы. Так что если вы будете использовать встроенную функцию вместо своей, то чаще всего первая окажется быстрее.\n",
        "\n",
        "Вы уже использовали встроенную функцию `len` в вашей функции. Но можно еще оптимизировать код, используя функцию `sum`. Сократите количество кода:"
      ]
    },
    {
      "cell_type": "code",
      "metadata": {
        "id": "XP_rgByryZYT"
      },
      "source": [
        "# Оптимизированное вычисление среднего\n",
        "\n",
        "def mean(list_of_values):\n",
        "\n",
        "  # Вычисление среднего только через встроенные функции\n",
        "  result = sum(list_of_values) / len(list_of_values)\n",
        "\n",
        "  # возвращение результата\n",
        "  return result"
      ],
      "execution_count": null,
      "outputs": []
    },
    {
      "cell_type": "code",
      "metadata": {
        "colab": {
          "base_uri": "https://localhost:8080/"
        },
        "id": "H3mfvYuM0AdK",
        "outputId": "82170ce8-bcd7-4681-835d-48c59065dc30"
      },
      "source": [
        "mean([1, 2, 3])"
      ],
      "execution_count": null,
      "outputs": [
        {
          "output_type": "execute_result",
          "data": {
            "text/plain": [
              "2.0"
            ]
          },
          "metadata": {},
          "execution_count": 84
        }
      ]
    },
    {
      "cell_type": "code",
      "metadata": {
        "colab": {
          "base_uri": "https://localhost:8080/"
        },
        "id": "oAk40hm10Hnd",
        "outputId": "4e36ae26-5802-48f5-99c6-0e6bbd838109"
      },
      "source": [
        "mean({1, 2, 3, 4, 5, 6})"
      ],
      "execution_count": null,
      "outputs": [
        {
          "output_type": "execute_result",
          "data": {
            "text/plain": [
              "3.5"
            ]
          },
          "metadata": {},
          "execution_count": 85
        }
      ]
    },
    {
      "cell_type": "markdown",
      "metadata": {
        "id": "UoE5o1Cu0OQt"
      },
      "source": [
        "Функция все так же работает, но теперь код стал лаконичнее."
      ]
    },
    {
      "cell_type": "markdown",
      "metadata": {
        "id": "udTiAWJIsP18"
      },
      "source": [
        "**Два важных момента: названия функций и отступы**\n",
        "\n",
        "* Называйте функции так, чтобы каждый мог понять по их имени, какую задачу они выполняют. Ведь вы будете писать функции не только для собственного развлечения, но и для других людей. Позаботьтесь о них, это несложно;\n",
        "* Отступы! Обратите внимание на те строки, которые составляют тело функции: они все содержат отступ от края по сравнению с первой строкой. Так компьютер понимает, что эти команды относятся к самой функции и спешит их выполнять, а без отступов – не будет! Отступы обычно расставляются автоматически, но при необходимости пользуйтесь клавишей «пробел» или Tab.\n"
      ]
    },
    {
      "cell_type": "markdown",
      "source": [
        "### lambda функция\n",
        "\n",
        "---\n",
        "**Lambda-функция (или анонимная функция)** - это способ создания простых функций в Python без необходимости использования стандартного синтаксиса определения функции с помощью ключевого слова def. Lambda-функции могут использоваться там, где требуется передать короткое выражение, выполняющее какую-либо операцию.\n",
        "\n",
        "\\\n",
        "Основные особенности:\n",
        "\n",
        "* Анонимность: Lambda-функции не требуют имени. Они могут быть определены в точке использования.\n",
        "* Однострочность: Они ограничены одним выражением и не имеют блока кода.\n",
        "* Обычно используются для простых операций: Обычно lambda-функции используются для выполнения простых операций, таких как преобразование данных или фильтрация.\n"
      ],
      "metadata": {
        "id": "OJqSO9r_yZTd"
      }
    },
    {
      "cell_type": "markdown",
      "source": [
        "Синтаксис lambda-функции:\n",
        "\n",
        "```python\n",
        "lambda arguments: expression\n",
        "```\n",
        "\n",
        "Где:\n",
        "- `arguments` - это список параметров (аргументов) функции.\n",
        "- `expression` - это выражение, которое выполняется и возвращается как результат работы lambda-функции.\n",
        "\n",
        "Примеры:\n"
      ],
      "metadata": {
        "id": "fDwqTQ39z0RW"
      }
    },
    {
      "cell_type": "code",
      "source": [
        "#Объявим пользователскую функцию для вычисления произведения\n",
        "def multiply(a, b):\n",
        "  return a * b\n",
        "\n",
        "multiply(4, 6)"
      ],
      "metadata": {
        "colab": {
          "base_uri": "https://localhost:8080/"
        },
        "id": "_8QmxwbopKdK",
        "outputId": "3361096c-3f38-4274-b322-f8b8db52dc3a"
      },
      "execution_count": null,
      "outputs": [
        {
          "output_type": "execute_result",
          "data": {
            "text/plain": [
              "24"
            ]
          },
          "metadata": {},
          "execution_count": 4
        }
      ]
    },
    {
      "cell_type": "code",
      "source": [
        "# Также Lambda-функция для вычисления произведения\n",
        "lambda_multiplier = lambda a, b: a * b\n",
        "\n",
        "lambda_multiplier(4,6)"
      ],
      "metadata": {
        "colab": {
          "base_uri": "https://localhost:8080/"
        },
        "id": "lB7PTAXgxxs4",
        "outputId": "813fc6ab-875e-4041-867c-baf65a6cac1e"
      },
      "execution_count": null,
      "outputs": [
        {
          "output_type": "execute_result",
          "data": {
            "text/plain": [
              "24"
            ]
          },
          "metadata": {},
          "execution_count": 5
        }
      ]
    },
    {
      "cell_type": "markdown",
      "source": [
        "Пример использования lambda-функции для возведения в квадрат элементов списка. Причём типы элементов сохраняются."
      ],
      "metadata": {
        "id": "R8URAYNc__xZ"
      }
    },
    {
      "cell_type": "code",
      "source": [
        "# у нас есть некий список\n",
        "misc = ['8','4','5',1,2,3,5.5,'9.8999988']\n",
        "\n",
        "# lambda-функции для возведения в квадрат элементов списка, не зависимо от типа данных\n",
        "new_misc = list(map(lambda x: str(float(x)**2) if type(x)==str else x**2, misc))\n",
        "new_misc"
      ],
      "metadata": {
        "colab": {
          "base_uri": "https://localhost:8080/"
        },
        "id": "AL6cErAB-8d-",
        "outputId": "6280eb3f-8baf-4549-ad16-c9a09601f32d"
      },
      "execution_count": null,
      "outputs": [
        {
          "output_type": "execute_result",
          "data": {
            "text/plain": [
              "['64.0', '16.0', '25.0', 1, 4, 9, 30.25, '98.00997624000145']"
            ]
          },
          "metadata": {},
          "execution_count": 2
        }
      ]
    },
    {
      "cell_type": "markdown",
      "source": [
        "Пример фильтрации словаря, без использования lambda-функции:"
      ],
      "metadata": {
        "id": "UH0SCwRHEp2e"
      }
    },
    {
      "cell_type": "code",
      "source": [
        "# Определяем словарь\n",
        "grades = {'John': 7.8, 'Mary': 9.0, 'Matt': 8.6, 'Michael': 9.5}\n",
        "\n",
        "# Определяем пользовательскую функцию для фильтрации элементов словаря\n",
        "def my_filtering_function(pair):\n",
        "    key, value = pair\n",
        "    if value < 8.8 :\n",
        "        return False  # Исключаем из словаря\n",
        "    else:\n",
        "        return True  # Пара (key, value) сохраняется в словаре\n",
        "\n",
        "# Запускаем фильтрацию словаря\n",
        "filtered_grades = dict(filter(my_filtering_function, grades.items()))\n",
        "\n",
        "# Вывод результата\n",
        "print(filtered_grades)"
      ],
      "metadata": {
        "colab": {
          "base_uri": "https://localhost:8080/"
        },
        "id": "z1M9zkSmEFjv",
        "outputId": "63231cb8-0fc4-42e7-8e94-d00ee794fa35"
      },
      "execution_count": null,
      "outputs": [
        {
          "output_type": "stream",
          "name": "stdout",
          "text": [
            "{'Mary': 9.0, 'Michael': 9.5}\n"
          ]
        }
      ]
    },
    {
      "cell_type": "markdown",
      "source": [
        "Тот же пример фильтрации словаря, но с использованием lambda-функции. Код стал немного лаконичнее."
      ],
      "metadata": {
        "id": "nM41Ewp6E6tL"
      }
    },
    {
      "cell_type": "code",
      "source": [
        "# Константа\n",
        "VALUE = 1\n",
        "\n",
        "# Определяем словарь\n",
        "grades = {'John': 7.8, 'Mary': 9.0, 'Matt': 8.6, 'Michael': 9.5}\n",
        "\n",
        "# Запускаем фильтрацию словаря, сохраняем все значения >= 8.8\n",
        "filtered_grades = dict(filter(lambda key_value : key_value[VALUE] >= 8.8, grades.items()))\n",
        "\n",
        "# Вывод результата\n",
        "print(filtered_grades)"
      ],
      "metadata": {
        "colab": {
          "base_uri": "https://localhost:8080/"
        },
        "id": "8OFcuz8mEL4d",
        "outputId": "25561c73-7238-4a92-ff46-0b5365d2d569"
      },
      "execution_count": null,
      "outputs": [
        {
          "output_type": "stream",
          "name": "stdout",
          "text": [
            "{'Mary': 9.0, 'Michael': 9.5}\n"
          ]
        }
      ]
    },
    {
      "cell_type": "markdown",
      "source": [
        "### args и kwargs"
      ],
      "metadata": {
        "id": "4HqlLTxoyBr3"
      }
    },
    {
      "cell_type": "markdown",
      "source": [
        "Термины `args` и `kwargs` — это соглашения по программированию на Python, в реальности вместо них можно использовать любые именования. `*args` представляет неопределенное количество параметров, которые передаются по позиции. А `**kwargs` означает параметры, которые передаются по имени. Обозначает аргументы ключевого слова."
      ],
      "metadata": {
        "id": "9cK1NLK_SxLp"
      }
    },
    {
      "cell_type": "code",
      "source": [
        "def my_func(*args):\n",
        "  # args - неопределенное количество параметров\n",
        "  for elem in args:\n",
        "    print(elem)\n",
        "  print('--------')\n",
        "  return sum(args)\n",
        "\n",
        "res1 = my_func(44)\n",
        "res2 = my_func(1, 20, 44)\n",
        "res3 = my_func(20, 3, 44, 8)"
      ],
      "metadata": {
        "colab": {
          "base_uri": "https://localhost:8080/"
        },
        "outputId": "2fa21899-79f1-43a2-db60-74a6445649e7",
        "id": "jj-ZdK5SJq6N"
      },
      "execution_count": null,
      "outputs": [
        {
          "output_type": "stream",
          "name": "stdout",
          "text": [
            "44\n",
            "--------\n",
            "1\n",
            "20\n",
            "44\n",
            "--------\n",
            "20\n",
            "3\n",
            "44\n",
            "8\n",
            "--------\n"
          ]
        }
      ]
    },
    {
      "cell_type": "code",
      "source": [
        "# Пример использования *args, **kwargs.\n",
        "def my_func(*args, **kwargs):\n",
        "  # Кортеж позиционных аргументов\n",
        "  print('Кортеж:', args)\n",
        "\n",
        "  # Словарь именованных аргументов\n",
        "  print('Словарь:', kwargs)\n",
        "\n",
        "# применяем функцию\n",
        "my_func(1, 2, 48, 44, 88, 148, x ='888', y ='555', z = '999')"
      ],
      "metadata": {
        "colab": {
          "base_uri": "https://localhost:8080/"
        },
        "id": "3avGO8eMzqd2",
        "outputId": "805400e1-013a-4ab7-c064-d4668fd7f7c3"
      },
      "execution_count": null,
      "outputs": [
        {
          "output_type": "stream",
          "name": "stdout",
          "text": [
            "Кортеж: (1, 2, 48, 44, 88, 148)\n",
            "Словарь: {'x': '888', 'y': '555', 'z': '999'}\n"
          ]
        }
      ]
    },
    {
      "cell_type": "code",
      "source": [
        "# Пример использования *args, **kwargs. И возврат нескольких значений\n",
        "def my_func(*args, **kwargs):\n",
        "  # Кортеж позиционных аргументов\n",
        "  print('Кортеж:', args)\n",
        "\n",
        "  # Словарь именованных аргументов\n",
        "  print('Словарь:', kwargs)\n",
        "\n",
        "  # Функция возвращает кортеж\n",
        "  return kwargs['a'], args[2], 55, 88, 99, \"Any\", ['one','пять']\n",
        "\n",
        "\n",
        "# применяем функцию\n",
        "a,b,c,d,e,f,g = my_func(1, 2, 3, a ='888', b ='555')\n",
        "\n",
        "print('Результат:',a,b,c,d,e,f,g)"
      ],
      "metadata": {
        "colab": {
          "base_uri": "https://localhost:8080/"
        },
        "id": "y_sGgv1XTb1W",
        "outputId": "8ee0d9e4-4117-4dbd-d448-eb7a8dac761f"
      },
      "execution_count": null,
      "outputs": [
        {
          "output_type": "stream",
          "name": "stdout",
          "text": [
            "Кортеж: (1, 2, 3)\n",
            "Словарь: {'a': '888', 'b': '555'}\n",
            "Результат: 888 3 55 88 99 Any ['one', 'пять']\n"
          ]
        }
      ]
    },
    {
      "cell_type": "markdown",
      "source": [
        "## Генератор"
      ],
      "metadata": {
        "id": "5NBXM91dGjCT"
      }
    },
    {
      "cell_type": "markdown",
      "source": [
        "Генератор (или generator) в Python - это специальный тип объекта, который позволяет создавать итерируемые последовательности элементов без необходимости хранить их полностью в памяти. Генераторы очень полезны при работе с большими объемами данных или при создании бесконечных последовательностей.\n",
        "\n",
        "Генераторы определяются с использованием функций и ключевого слова `yield`. Когда функция с ключевым словом `yield` вызывается, она не выполняется полностью, а возвращает генераторный объект. При каждом вызове метода `__next__()` (или просто `next()` в Python 3) для генератора выполнение функции начинается с того места, где было использовано `yield`, и выполняется до следующего `yield`. Это позволяет поочередно генерировать значения по мере необходимости, экономя память."
      ],
      "metadata": {
        "id": "EnljGEZAGts_"
      }
    },
    {
      "cell_type": "code",
      "source": [
        "# Создание списка\n",
        "lst = list(range(1,6))\n",
        "lst"
      ],
      "metadata": {
        "colab": {
          "base_uri": "https://localhost:8080/"
        },
        "id": "on7xHpcqUJcu",
        "outputId": "d3c53728-a361-46a3-b67b-520c2905ab3b"
      },
      "execution_count": null,
      "outputs": [
        {
          "output_type": "execute_result",
          "data": {
            "text/plain": [
              "[1, 2, 3, 4, 5]"
            ]
          },
          "metadata": {},
          "execution_count": 86
        }
      ]
    },
    {
      "cell_type": "code",
      "source": [
        "# Создание списка с помощью функции\n",
        "def f1():\n",
        "  a = []\n",
        "  for i in range(1,6):\n",
        "    a.append(i)\n",
        "\n",
        "  return a\n",
        "\n",
        "lst2 = f1()\n",
        "lst2"
      ],
      "metadata": {
        "colab": {
          "base_uri": "https://localhost:8080/"
        },
        "id": "WDYlFoI0UJjf",
        "outputId": "f0bd5dd4-c681-4f3e-e53b-72dfda531242"
      },
      "execution_count": null,
      "outputs": [
        {
          "output_type": "execute_result",
          "data": {
            "text/plain": [
              "[1, 2, 3, 4, 5]"
            ]
          },
          "metadata": {},
          "execution_count": 63
        }
      ]
    },
    {
      "cell_type": "code",
      "source": [
        "# Создание генератора\n",
        "def gen():\n",
        "  for i in range(1,6):\n",
        "    # Выход из функции. При следующем запуске исполнение начнётся с этого места.\n",
        "    yield i\n",
        "\n",
        "Gentration = gen()\n",
        "Gentration"
      ],
      "metadata": {
        "colab": {
          "base_uri": "https://localhost:8080/"
        },
        "id": "xk1WFsAeUJlw",
        "outputId": "1957fa72-7d79-42ed-e7ec-54387df19d52"
      },
      "execution_count": null,
      "outputs": [
        {
          "output_type": "execute_result",
          "data": {
            "text/plain": [
              "<generator object gen at 0x7ceea414e3b0>"
            ]
          },
          "metadata": {},
          "execution_count": 21
        }
      ]
    },
    {
      "cell_type": "code",
      "source": [
        "next(Gentration)"
      ],
      "metadata": {
        "colab": {
          "base_uri": "https://localhost:8080/"
        },
        "id": "nUa4d-joUJn8",
        "outputId": "5043b057-1f2d-4cdb-d608-641c74437c14"
      },
      "execution_count": null,
      "outputs": [
        {
          "output_type": "execute_result",
          "data": {
            "text/plain": [
              "1"
            ]
          },
          "metadata": {},
          "execution_count": 22
        }
      ]
    },
    {
      "cell_type": "code",
      "source": [
        "print(next(Gentration))"
      ],
      "metadata": {
        "colab": {
          "base_uri": "https://localhost:8080/"
        },
        "id": "VyOqU9xUUJp9",
        "outputId": "cae8a074-de9b-4cd6-d658-017d1294211a"
      },
      "execution_count": null,
      "outputs": [
        {
          "output_type": "stream",
          "name": "stdout",
          "text": [
            "2\n"
          ]
        }
      ]
    },
    {
      "cell_type": "code",
      "source": [
        "print(next(Gentration))\n",
        "print(next(Gentration))\n",
        "print(next(Gentration))\n",
        "print(next(Gentration))"
      ],
      "metadata": {
        "colab": {
          "base_uri": "https://localhost:8080/",
          "height": 263
        },
        "id": "WCdpoVEQUJsB",
        "outputId": "b0a8baf6-74fd-447c-aebb-0494735629af"
      },
      "execution_count": null,
      "outputs": [
        {
          "output_type": "stream",
          "name": "stdout",
          "text": [
            "3\n",
            "4\n",
            "5\n"
          ]
        },
        {
          "output_type": "error",
          "ename": "StopIteration",
          "evalue": "ignored",
          "traceback": [
            "\u001b[0;31m---------------------------------------------------------------------------\u001b[0m",
            "\u001b[0;31mStopIteration\u001b[0m                             Traceback (most recent call last)",
            "\u001b[0;32m<ipython-input-24-a5a434ab6371>\u001b[0m in \u001b[0;36m<cell line: 4>\u001b[0;34m()\u001b[0m\n\u001b[1;32m      2\u001b[0m \u001b[0mprint\u001b[0m\u001b[0;34m(\u001b[0m\u001b[0mnext\u001b[0m\u001b[0;34m(\u001b[0m\u001b[0mGentration\u001b[0m\u001b[0;34m)\u001b[0m\u001b[0;34m)\u001b[0m\u001b[0;34m\u001b[0m\u001b[0;34m\u001b[0m\u001b[0m\n\u001b[1;32m      3\u001b[0m \u001b[0mprint\u001b[0m\u001b[0;34m(\u001b[0m\u001b[0mnext\u001b[0m\u001b[0;34m(\u001b[0m\u001b[0mGentration\u001b[0m\u001b[0;34m)\u001b[0m\u001b[0;34m)\u001b[0m\u001b[0;34m\u001b[0m\u001b[0;34m\u001b[0m\u001b[0m\n\u001b[0;32m----> 4\u001b[0;31m \u001b[0mprint\u001b[0m\u001b[0;34m(\u001b[0m\u001b[0mnext\u001b[0m\u001b[0;34m(\u001b[0m\u001b[0mGentration\u001b[0m\u001b[0;34m)\u001b[0m\u001b[0;34m)\u001b[0m\u001b[0;34m\u001b[0m\u001b[0;34m\u001b[0m\u001b[0m\n\u001b[0m",
            "\u001b[0;31mStopIteration\u001b[0m: "
          ]
        }
      ]
    },
    {
      "cell_type": "code",
      "source": [
        "# Генерация закончилась.\n",
        "for i in Gentration:\n",
        "  print(i)"
      ],
      "metadata": {
        "id": "2Jm1yvWbv918"
      },
      "execution_count": null,
      "outputs": []
    },
    {
      "cell_type": "code",
      "source": [
        "# Пересоздадим генератор\n",
        "Gentration = gen()\n",
        "for i in Gentration:\n",
        "  print(i)"
      ],
      "metadata": {
        "colab": {
          "base_uri": "https://localhost:8080/"
        },
        "id": "UZjipXGtirck",
        "outputId": "d94c57b2-130e-4520-b0ef-b1927de9ec21"
      },
      "execution_count": null,
      "outputs": [
        {
          "output_type": "stream",
          "name": "stdout",
          "text": [
            "1\n",
            "2\n",
            "3\n",
            "4\n",
            "5\n"
          ]
        }
      ]
    },
    {
      "cell_type": "markdown",
      "source": [
        "#### Выражение генератор"
      ],
      "metadata": {
        "id": "OqeUJgvprmSk"
      }
    },
    {
      "cell_type": "markdown",
      "source": [
        "![image.png](data:image/png;base64,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)"
      ],
      "metadata": {
        "id": "y-gJBBISrjel"
      }
    },
    {
      "cell_type": "code",
      "source": [
        "GentrationExpression = (i for i in range(1,6))\n",
        "GentrationExpression"
      ],
      "metadata": {
        "id": "eNjdMQV-UJwV",
        "colab": {
          "base_uri": "https://localhost:8080/"
        },
        "outputId": "55a2f51d-2626-4293-ba7d-44dbc4f3d51e"
      },
      "execution_count": null,
      "outputs": [
        {
          "output_type": "execute_result",
          "data": {
            "text/plain": [
              "<generator object <genexpr> at 0x7aefb522f220>"
            ]
          },
          "metadata": {},
          "execution_count": 98
        }
      ]
    },
    {
      "cell_type": "code",
      "source": [
        "next(GentrationExpression)"
      ],
      "metadata": {
        "colab": {
          "base_uri": "https://localhost:8080/"
        },
        "id": "TknOnFUgUJyy",
        "outputId": "1b5c64f3-8ae9-42b9-ee65-9277f2f47395"
      },
      "execution_count": null,
      "outputs": [
        {
          "output_type": "execute_result",
          "data": {
            "text/plain": [
              "1"
            ]
          },
          "metadata": {},
          "execution_count": 99
        }
      ]
    },
    {
      "cell_type": "code",
      "source": [
        "for i in GentrationExpression:\n",
        "  print(i)"
      ],
      "metadata": {
        "id": "5a3F7iWCUJ04",
        "colab": {
          "base_uri": "https://localhost:8080/"
        },
        "outputId": "6c66902a-6071-411b-b933-c3d16bfd1e7b"
      },
      "execution_count": null,
      "outputs": [
        {
          "output_type": "stream",
          "name": "stdout",
          "text": [
            "2\n",
            "3\n",
            "4\n",
            "5\n"
          ]
        }
      ]
    },
    {
      "cell_type": "markdown",
      "source": [
        "#### Генератор списка\n",
        "\n",
        "\n",
        "---\n",
        "\n"
      ],
      "metadata": {
        "id": "28UseksCcrO0"
      }
    },
    {
      "cell_type": "markdown",
      "source": [
        "![image.png](data:image/png;base64,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)"
      ],
      "metadata": {
        "id": "8uoWYMy7EL7X"
      }
    },
    {
      "cell_type": "code",
      "source": [
        "# Создание списка обычным способом\n",
        "lst = []\n",
        "\n",
        "for i in range(10):\n",
        "  lst.append(i)\n",
        "\n",
        "lst"
      ],
      "metadata": {
        "colab": {
          "base_uri": "https://localhost:8080/"
        },
        "id": "UN20F63CwSaM",
        "outputId": "38b1d119-9839-48f8-cdf7-4c853e9d02f9"
      },
      "execution_count": null,
      "outputs": [
        {
          "output_type": "execute_result",
          "data": {
            "text/plain": [
              "[0, 1, 2, 3, 4, 5, 6, 7, 8, 9]"
            ]
          },
          "metadata": {},
          "execution_count": 94
        }
      ]
    },
    {
      "cell_type": "markdown",
      "source": [
        "Создание списка с помощью `list comprehension` (Списковое включение)"
      ],
      "metadata": {
        "id": "KLR-z26QkLBG"
      }
    },
    {
      "cell_type": "code",
      "source": [
        "# Создание списка с помощью list comprehension\n",
        "lst = [i for i in range(10)]\n",
        "lst"
      ],
      "metadata": {
        "colab": {
          "base_uri": "https://localhost:8080/"
        },
        "id": "QcrO1p9rwScy",
        "outputId": "dda31910-1f46-46da-e89d-062e89ad01e3"
      },
      "execution_count": null,
      "outputs": [
        {
          "output_type": "execute_result",
          "data": {
            "text/plain": [
              "[0, 1, 2, 3, 4, 5, 6, 7, 8, 9]"
            ]
          },
          "metadata": {},
          "execution_count": 96
        }
      ]
    },
    {
      "cell_type": "markdown",
      "source": [
        "Списковое включение (`list comprehension`) – это синтаксическая конструкция, позволяющая упростить генерацию последовательностей (списков, множеств, словарей, генераторов)."
      ],
      "metadata": {
        "id": "hY0V42mon-S0"
      }
    },
    {
      "cell_type": "markdown",
      "source": [
        "Выражение генератор можно преобразовать в список"
      ],
      "metadata": {
        "id": "YwUPOIk5kYnr"
      }
    },
    {
      "cell_type": "code",
      "source": [
        "GentrationExpression = (i for i in range(1,6)) # Генератор\n",
        "lst = list(GentrationExpression)  # Генератор преобразовали в список\n",
        "lst"
      ],
      "metadata": {
        "colab": {
          "base_uri": "https://localhost:8080/"
        },
        "id": "jy53SiE2wb_s",
        "outputId": "8b4550d1-b0e9-42ee-84a2-4421d8e2580e"
      },
      "execution_count": null,
      "outputs": [
        {
          "output_type": "execute_result",
          "data": {
            "text/plain": [
              "[1, 2, 3, 4, 5]"
            ]
          },
          "metadata": {},
          "execution_count": 101
        }
      ]
    },
    {
      "cell_type": "code",
      "source": [
        "# Оценка времени создания списка с помощью list comprehension\n",
        "%%timeit\n",
        "lst = [i for i in range(300_000)]"
      ],
      "metadata": {
        "colab": {
          "base_uri": "https://localhost:8080/"
        },
        "id": "GYaGCueGxWN-",
        "outputId": "10360aa5-4775-4992-ac15-3ce31ac354c0"
      },
      "execution_count": null,
      "outputs": [
        {
          "output_type": "stream",
          "name": "stdout",
          "text": [
            "15.7 ms ± 3.41 ms per loop (mean ± std. dev. of 7 runs, 100 loops each)\n"
          ]
        }
      ]
    },
    {
      "cell_type": "code",
      "source": [
        "# Оценка времени создания списка с помощью цикла\n",
        "%%timeit\n",
        "lst = []\n",
        "for i in range(300_000):\n",
        "  lst.append(i)"
      ],
      "metadata": {
        "colab": {
          "base_uri": "https://localhost:8080/"
        },
        "id": "28OmC-T7wcCd",
        "outputId": "70df1c5b-9d9c-44a5-95d1-1c17c75bd5aa"
      },
      "execution_count": null,
      "outputs": [
        {
          "output_type": "stream",
          "name": "stdout",
          "text": [
            "18.8 ms ± 261 µs per loop (mean ± std. dev. of 7 runs, 100 loops each)\n"
          ]
        }
      ]
    },
    {
      "cell_type": "markdown",
      "source": [
        "#### Отличие генератора от списка"
      ],
      "metadata": {
        "id": "y86ASpYTw8sz"
      }
    },
    {
      "cell_type": "code",
      "source": [
        "b = [i*5 for i in range(400_000)]  # Список\n",
        "print(b)"
      ],
      "metadata": {
        "colab": {
          "base_uri": "https://localhost:8080/"
        },
        "id": "EfCcpl4asu8T",
        "outputId": "61e625c3-ef3c-4c0f-8fbc-82894be6c11f"
      },
      "execution_count": null,
      "outputs": [
        {
          "output_type": "stream",
          "name": "stderr",
          "text": [
            "IOPub data rate exceeded.\n",
            "The notebook server will temporarily stop sending output\n",
            "to the client in order to avoid crashing it.\n",
            "To change this limit, set the config variable\n",
            "`--NotebookApp.iopub_data_rate_limit`.\n",
            "\n",
            "Current values:\n",
            "NotebookApp.iopub_data_rate_limit=1000000.0 (bytes/sec)\n",
            "NotebookApp.rate_limit_window=3.0 (secs)\n",
            "\n"
          ]
        }
      ]
    },
    {
      "cell_type": "markdown",
      "source": [
        "> Ошибка `IOPub Data Rate Exceeded `  возникает, когда ваш блокнот Jupyter или сеанс Google Colab генерирует слишком много выходных данных, которые не могут быть обработаны каналом связи. Это не позволяет ядру отправлять данные во внешний интерфейс, что приводит к появлению этого сообщения об ошибке."
      ],
      "metadata": {
        "id": "lAcondgIHVgd"
      }
    },
    {
      "cell_type": "code",
      "source": [
        "GentrationExpression = (i*5 for i in range(400_000))# Генератор\n",
        "print(next(GentrationExpression))\n",
        "print(next(GentrationExpression))\n",
        "print(next(GentrationExpression))"
      ],
      "metadata": {
        "colab": {
          "base_uri": "https://localhost:8080/"
        },
        "id": "WarAABEoH8iK",
        "outputId": "46859547-3df3-4412-b5ae-2dca6750ff23"
      },
      "execution_count": null,
      "outputs": [
        {
          "output_type": "stream",
          "name": "stdout",
          "text": [
            "0\n",
            "5\n",
            "10\n"
          ]
        }
      ]
    },
    {
      "cell_type": "code",
      "source": [
        "# Но этот генератор преобразовать в список не получится\n",
        "lst = list(GentrationExpression)\n",
        "print(lst)"
      ],
      "metadata": {
        "colab": {
          "base_uri": "https://localhost:8080/"
        },
        "id": "J1VO0lnypg6-",
        "outputId": "7933fb55-10eb-4c24-e82c-64b1e037d0f4"
      },
      "execution_count": null,
      "outputs": [
        {
          "output_type": "stream",
          "name": "stderr",
          "text": [
            "IOPub data rate exceeded.\n",
            "The notebook server will temporarily stop sending output\n",
            "to the client in order to avoid crashing it.\n",
            "To change this limit, set the config variable\n",
            "`--NotebookApp.iopub_data_rate_limit`.\n",
            "\n",
            "Current values:\n",
            "NotebookApp.iopub_data_rate_limit=1000000.0 (bytes/sec)\n",
            "NotebookApp.rate_limit_window=3.0 (secs)\n",
            "\n"
          ]
        }
      ]
    },
    {
      "cell_type": "markdown",
      "source": [
        "#### ==== Время ====  Оценка времени создания списка и генератора"
      ],
      "metadata": {
        "id": "aLnsqlqIqvIU"
      }
    },
    {
      "cell_type": "code",
      "source": [
        "from random import randint as rd\n",
        "from sys import getsizeof"
      ],
      "metadata": {
        "id": "LSyQXAvCbRK6"
      },
      "execution_count": null,
      "outputs": []
    },
    {
      "cell_type": "code",
      "source": [
        "import os\n",
        "\n",
        "os.mkdir('lesson')"
      ],
      "metadata": {
        "id": "683HwI1FWSUD"
      },
      "execution_count": null,
      "outputs": []
    },
    {
      "cell_type": "code",
      "source": [
        "# Оценка времени создания списка с помощью list comprehension\n",
        "%%timeit\n",
        "a = [rd(1,100) for i in range(300_000)]"
      ],
      "metadata": {
        "colab": {
          "base_uri": "https://localhost:8080/"
        },
        "outputId": "134f376c-41f4-461d-afee-44169c479f09",
        "id": "I2tFvANNqvIY"
      },
      "execution_count": null,
      "outputs": [
        {
          "output_type": "stream",
          "name": "stdout",
          "text": [
            "247 ms ± 10.4 ms per loop (mean ± std. dev. of 7 runs, 1 loop each)\n"
          ]
        }
      ]
    },
    {
      "cell_type": "markdown",
      "source": [
        "247 мс ± 10.4 мс на цикл (среднее значение ± стандартное отклонение для 7 запусков, по 1 циклу в каждом)"
      ],
      "metadata": {
        "id": "_kYpTx13qvIZ"
      }
    },
    {
      "cell_type": "code",
      "source": [
        "# Оценка времени создания генератора\n",
        "%%timeit\n",
        "b = (rd(1,100) for i in range(300_000))"
      ],
      "metadata": {
        "colab": {
          "base_uri": "https://localhost:8080/"
        },
        "outputId": "03508116-a4cb-4309-f99a-5cce1eb4ac61",
        "id": "2qkl6GCFqvIZ"
      },
      "execution_count": null,
      "outputs": [
        {
          "output_type": "stream",
          "name": "stdout",
          "text": [
            "550 ns ± 14.3 ns per loop (mean ± std. dev. of 7 runs, 1000000 loops each)\n"
          ]
        }
      ]
    },
    {
      "cell_type": "markdown",
      "source": [
        "\n",
        "\n",
        "---\n",
        "\n",
        "\n",
        "**List** = 247 ms \\\n",
        "**Generator** = 550 ns = 0,000550 ms\n",
        "\n",
        "\n",
        "---\n",
        "\n"
      ],
      "metadata": {
        "id": "yC2S-AjOqvIZ"
      }
    },
    {
      "cell_type": "markdown",
      "source": [
        "#### ==== Размер ==== Оценка размера созданного списка и генератора"
      ],
      "metadata": {
        "id": "v8NvM4xaqz_1"
      }
    },
    {
      "cell_type": "code",
      "source": [
        "LIST = [rd(1,100) for i in range(300_000)] # Список\n",
        "GEN = (rd(1,100) for i in range(300_000))  # Генератор"
      ],
      "metadata": {
        "id": "8lEC__Y9qz_1"
      },
      "execution_count": null,
      "outputs": []
    },
    {
      "cell_type": "code",
      "source": [
        "print(getsizeof(LIST), 'byte') # Размер списка\n",
        "print(getsizeof(GEN), 'byte')  # Размер генератора"
      ],
      "metadata": {
        "colab": {
          "base_uri": "https://localhost:8080/"
        },
        "outputId": "ab3a8c21-d8d2-4ef0-d7d2-26db48b78eb6",
        "id": "Cx0VmI35qz_1"
      },
      "execution_count": null,
      "outputs": [
        {
          "output_type": "stream",
          "name": "stdout",
          "text": [
            "2601560 byte\n",
            "104 byte\n"
          ]
        }
      ]
    },
    {
      "cell_type": "markdown",
      "source": [
        "Генераторы позволяют экономить память, так как хранят только одно значение в каждый момент времени, и при этом могут генерировать бесконечные последовательности данных. Кроме того, они могут быть использованы для ленивой обработки данных, когда требуется получить только небольшую часть данных из большого набора."
      ],
      "metadata": {
        "id": "gD4vZDKIsleV"
      }
    },
    {
      "cell_type": "markdown",
      "source": [
        "### Далее идут примеры списковых включений `list comprehension`"
      ],
      "metadata": {
        "id": "XnQeLIl_rESt"
      }
    },
    {
      "cell_type": "markdown",
      "source": [
        "#### Списковое включение => с вложенным списком\n",
        "\n",
        "---\n",
        "\n"
      ],
      "metadata": {
        "id": "1pulJA-_FEYV"
      }
    },
    {
      "cell_type": "markdown",
      "source": [
        "![image.png](data:image/png;base64,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)"
      ],
      "metadata": {
        "id": "IbBbE7VeE2zM"
      }
    },
    {
      "cell_type": "code",
      "source": [
        "# Создание списка с помощью воложенного цикла\n",
        "ex1 = []\n",
        "for i in range(10):\n",
        "  for n in range(2):\n",
        "    ex1.append(n)\n",
        "\n",
        "ex1"
      ],
      "metadata": {
        "colab": {
          "base_uri": "https://localhost:8080/"
        },
        "id": "VmeInfX__4iA",
        "outputId": "019ffe32-15bb-491a-fcf7-ff53a03ad140"
      },
      "execution_count": null,
      "outputs": [
        {
          "output_type": "execute_result",
          "data": {
            "text/plain": [
              "[0, 1, 0, 1, 0, 1, 0, 1, 0, 1, 0, 1, 0, 1, 0, 1, 0, 1, 0, 1]"
            ]
          },
          "metadata": {},
          "execution_count": 32
        }
      ]
    },
    {
      "cell_type": "code",
      "source": [
        "# Создание списка с помощью воложенного list comprehension\n",
        "ex2 = [n for i in range(10) for n in range(2)]\n",
        "ex2"
      ],
      "metadata": {
        "colab": {
          "base_uri": "https://localhost:8080/"
        },
        "id": "nzsTc9KXiIiO",
        "outputId": "5d06e4ad-869c-4dc9-f863-63f4f3e95051"
      },
      "execution_count": null,
      "outputs": [
        {
          "output_type": "execute_result",
          "data": {
            "text/plain": [
              "[0, 1, 0, 1, 0, 1, 0, 1, 0, 1, 0, 1, 0, 1, 0, 1, 0, 1, 0, 1]"
            ]
          },
          "metadata": {},
          "execution_count": 33
        }
      ]
    },
    {
      "cell_type": "markdown",
      "source": [
        "#### Списковое включение => с одним условием\n",
        "\n",
        "---\n",
        "\n"
      ],
      "metadata": {
        "id": "muw2gMZVLJFQ"
      }
    },
    {
      "cell_type": "markdown",
      "source": [
        "![image.png](data:image/png;base64,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)"
      ],
      "metadata": {
        "id": "61NU8x2jGtOm"
      }
    },
    {
      "cell_type": "code",
      "source": [
        "ex3 = []\n",
        "for i in range(10):\n",
        "    if i > 5:\n",
        "      ex3.append(i)\n",
        "\n",
        "ex3"
      ],
      "metadata": {
        "colab": {
          "base_uri": "https://localhost:8080/"
        },
        "id": "Cd9zDdkdGxUV",
        "outputId": "a3b16ac7-3b59-4e9d-d80b-0ea79e355786"
      },
      "execution_count": null,
      "outputs": [
        {
          "output_type": "execute_result",
          "data": {
            "text/plain": [
              "[6, 7, 8, 9]"
            ]
          },
          "metadata": {},
          "execution_count": 34
        }
      ]
    },
    {
      "cell_type": "code",
      "source": [
        "# list comprehension с условием\n",
        "ex3 = [i for i in range(10) if i > 5]\n",
        "ex3"
      ],
      "metadata": {
        "colab": {
          "base_uri": "https://localhost:8080/"
        },
        "id": "9HNuieQ7FtJB",
        "outputId": "ee857322-238c-4e09-af3b-2c661af8ff0f"
      },
      "execution_count": null,
      "outputs": [
        {
          "output_type": "execute_result",
          "data": {
            "text/plain": [
              "[6, 7, 8, 9]"
            ]
          },
          "metadata": {},
          "execution_count": 35
        }
      ]
    },
    {
      "cell_type": "markdown",
      "source": [
        "#### Списковое включение => больше одного условия\n",
        "\n",
        "---\n",
        "\n"
      ],
      "metadata": {
        "id": "xeIeNZ43LRUF"
      }
    },
    {
      "cell_type": "markdown",
      "source": [
        "![image.png](data:image/png;base64,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)"
      ],
      "metadata": {
        "id": "dCGmT7vUH_8M"
      }
    },
    {
      "cell_type": "code",
      "source": [
        "ex4 = []\n",
        "for i in range(10):\n",
        "  if i%2 == 0 and i > 4:\n",
        "      ex4.append(i)\n",
        "  else:\n",
        "      ex4.append('test')\n",
        "\n",
        "print(ex4)"
      ],
      "metadata": {
        "colab": {
          "base_uri": "https://localhost:8080/"
        },
        "id": "0HvTqtlXibYv",
        "outputId": "8e90940c-63fe-44aa-ea30-f0b92a4b8ba5"
      },
      "execution_count": null,
      "outputs": [
        {
          "output_type": "stream",
          "name": "stdout",
          "text": [
            "['test', 'test', 'test', 'test', 'test', 'test', 6, 'test', 8, 'test']\n"
          ]
        }
      ]
    },
    {
      "cell_type": "code",
      "source": [
        "ex4 = [i if i%2 == 0 and i > 4 else 'test' for i in range(10)]\n",
        "ex4"
      ],
      "metadata": {
        "colab": {
          "base_uri": "https://localhost:8080/"
        },
        "id": "zhAfpi6_ibiR",
        "outputId": "117195d2-fbdb-4a04-9469-793630480259"
      },
      "execution_count": null,
      "outputs": [
        {
          "output_type": "execute_result",
          "data": {
            "text/plain": [
              "['test', 'test', 'test', 'test', 'test', 'test', 6, 'test', 8, 'test']"
            ]
          },
          "metadata": {},
          "execution_count": 37
        }
      ]
    },
    {
      "cell_type": "markdown",
      "source": [
        "#### Пример создания словаря с помощью спискового включения\n",
        "\n",
        "---\n",
        "\n"
      ],
      "metadata": {
        "id": "wT9GfeCnLiZt"
      }
    },
    {
      "cell_type": "code",
      "source": [
        "a = {i:i+100 for i in range(10)}\n",
        "print(a)"
      ],
      "metadata": {
        "id": "puAg0c-6LmAK",
        "colab": {
          "base_uri": "https://localhost:8080/"
        },
        "outputId": "27acfdf4-b7c7-4a3d-bbca-f797c347bd6d"
      },
      "execution_count": null,
      "outputs": [
        {
          "output_type": "stream",
          "name": "stdout",
          "text": [
            "{0: 100, 1: 101, 2: 102, 3: 103, 4: 104, 5: 105, 6: 106, 7: 107, 8: 108, 9: 109}\n"
          ]
        }
      ]
    },
    {
      "cell_type": "code",
      "source": [
        "# Посмотрим список текущих переменных окружения Python в блокноте.\n",
        "%who"
      ],
      "metadata": {
        "id": "Uls0W9_fCO61",
        "colab": {
          "base_uri": "https://localhost:8080/"
        },
        "outputId": "6af9cd34-3c76-4299-d39e-b94cf967a69e"
      },
      "execution_count": null,
      "outputs": [
        {
          "output_type": "stream",
          "name": "stdout",
          "text": [
            "GEN\t Gentration\t LIST\t a\t age\t b\t c\t d\t e\t \n",
            "ex1\t ex2\t ex3\t ex4\t f\t g\t gen\t getsizeof\t i\t \n",
            "is_even\t list_a\t list_zipped\t my_func\t n\t names\t numbers\t rd\t scores\t \n",
            "zipped\t \n"
          ]
        }
      ]
    },
    {
      "cell_type": "markdown",
      "source": [
        "\n",
        "\n",
        "---\n",
        "\n",
        "\n",
        "Для самостоятельного изучения\n",
        "\n",
        "Дополнительно | [Модули и библиотеки](https://colab.research.google.com/drive/1n26z0CCPa8B-QRvHPfYfutzbsUN3OGH-?usp=sharing)"
      ],
      "metadata": {
        "id": "-cHy0jOM0Hor"
      }
    },
    {
      "cell_type": "markdown",
      "metadata": {
        "id": "AYRRqnU1M-t8"
      },
      "source": [
        "**Отлично!**\n",
        "\n",
        "На этом вы завершаете подготовительные блок Python. Дальше вас ждет еще множество новой и интересной информации. Верим в успех и прикладываем максимум усилий! :)"
      ]
    },
    {
      "cell_type": "markdown",
      "metadata": {
        "id": "CGWmmCleVIXC"
      },
      "source": [
        "Теперь вы полностью готовы к выполнению первого домашнего задания.\n",
        "Но советуем вам прежде попробовать свои силы и порешать примеры из задачника\n",
        "\n",
        "\n",
        "---\n",
        "\n",
        "[УИИ **Задачник** к теме \"Синтаксис Python\"](https://colab.research.google.com/drive/1ZwgxxVOUn7WTYlOYyfV564_6_br2nlnu?usp=sharing)\n",
        "\n",
        "---\n",
        "\n"
      ]
    },
    {
      "cell_type": "markdown",
      "source": [
        "[УИИ **Задачник 2** к теме \"Синтаксис Python\"](https://colab.research.google.com/drive/1Fc4JqOS_PpHktHmT36430N_mvW_90btu?usp=sharing)"
      ],
      "metadata": {
        "id": "CrzNyUGBPEKc"
      }
    }
  ]
}